{
 "cells": [
  {
   "cell_type": "markdown",
   "id": "bec78846",
   "metadata": {},
   "source": [
    "<img src=titul_picture.jpg width=1300px height=450> "
   ]
  },
  {
   "cell_type": "markdown",
   "id": "2cbd657b",
   "metadata": {},
   "source": [
    "# <center>Определение уязвимых групп населения #"
   ]
  },
  {
   "cell_type": "markdown",
   "id": "1d18ebaa",
   "metadata": {},
   "source": [
    "Задача: \n",
    "\n",
    "\n",
    "* кластеризовать регионы России и определить, какие из них наиболее остро нуждаются в помощи малообеспеченным/неблагополучным слоям населения;\n",
    "* описать группы населения, сталкивающиеся с бедностью;\n",
    "* определить:\n",
    "    - влияет ли число детей, пенсионеров и других социально уязвимых групп на уровень бедности в регионе;\n",
    "    - связаны ли уровень бедности/социального неблагополучия с производством и потреблением в регионе;\n",
    "    - какие ещё зависимости можно наблюдать относительно социально незащищённых слоёв населения.\n"
   ]
  },
  {
   "cell_type": "markdown",
   "id": "d5b9b5b0",
   "metadata": {},
   "source": [
    "\n",
    "<center><img src=picture_1.jpg width=200px height=200> \n",
    "\n",
    "# Определение уязвимых групп населения\n",
    "\n",
    "Kластеризовать регионы России и определить, какие из них наиболее остро нуждаются в помощи малообеспеченным/неблагополучным слоям населения\n",
    "\n",
    "\n",
    "## Authors\n",
    "\n",
    "- [@Davids001](https://github.com/Davids001)\n",
    "\n",
    "\n",
    "## Documentation\n",
    "\n",
    "[Documentation](https://linktodocumentation)\n",
    "\n",
    "\n",
    "## 🚀 About Me\n",
    "<h1 align=\"center\">Привет 👋, Меня зовут Роман</h1>\n",
    "<h3 align=\"center\">Я являюсь студентом онлайн школы SkillFactory</h3>\n",
    "\n",
    "- 🌱 специальность **DataScience**\n",
    "\n",
    "- 📄 Мое резюме [HeadHunter.ru](https://hh.ru/resume/69d3f665ff016ee1ad0039ed1f713458334349)\n",
    "\n",
    "- 📫 e-mail **Ronaz@mail.ru**\n",
    "\n",
    "<h3 align=\"left\">Connect with me:</h3>\n",
    "<p align=\"left\">\n",
    "<a href=\"https://instagram.com/@flint064\" target=\"blank\"><img align=\"center\" src=\"https://raw.githubusercontent.com/rahuldkjain/github-profile-readme-generator/master/src/images/icons/Social/instagram.svg\" alt=\"@flint064\" height=\"30\" width=\"40\" /></a>\n",
    "</p>\n",
    "\n",
    "<h3 align=\"left\">Languages and Tools:</h3>\n",
    "<p align=\"left\"> <a href=\"https://git-scm.com/\" target=\"_blank\" rel=\"noreferrer\"> <img src=\"https://www.vectorlogo.zone/logos/git-scm/git-scm-icon.svg\" alt=\"git\" width=\"40\" height=\"40\"/> </a> <a href=\"https://pandas.pydata.org/\" target=\"_blank\" rel=\"noreferrer\"> <img src=\"https://raw.githubusercontent.com/devicons/devicon/2ae2a900d2f041da66e950e4d48052658d850630/icons/pandas/pandas-original.svg\" alt=\"pandas\" width=\"40\" height=\"40\"/> </a> <a href=\"https://www.python.org\" target=\"_blank\" rel=\"noreferrer\"> <img src=\"https://raw.githubusercontent.com/devicons/devicon/master/icons/python/python-original.svg\" alt=\"python\" width=\"40\" height=\"40\"/> </a> <a href=\"https://scikit-learn.org/\" target=\"_blank\" rel=\"noreferrer\"> <img src=\"https://upload.wikimedia.org/wikipedia/commons/0/05/Scikit_learn_logo_small.svg\" alt=\"scikit_learn\" width=\"40\" height=\"40\"/> </a> <a href=\"https://seaborn.pydata.org/\" target=\"_blank\" rel=\"noreferrer\"> <img src=\"https://seaborn.pydata.org/_images/logo-mark-lightbg.svg\" alt=\"seaborn\" width=\"40\" height=\"40\"/> </a> </p>"
   ]
  }
 ],
 "metadata": {
  "language_info": {
   "name": "python"
  }
 },
 "nbformat": 4,
 "nbformat_minor": 5
}
