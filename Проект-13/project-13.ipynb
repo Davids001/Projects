{
 "cells": [
  {
   "cell_type": "markdown",
   "id": "15b7ea2b",
   "metadata": {},
   "source": [
    "<img src=mainfoto.jpg width=1500px height=300px> "
   ]
  },
  {
   "cell_type": "markdown",
   "id": "ae808007",
   "metadata": {},
   "source": [
    "# <center> <strong> АНАЛИЗ ЭФФЕКТИВНОСТИ ДВУХ ВАРИАНТОВ ПОСАДОЧНОЙ СТРАНИЦЫ"
   ]
  },
  {
   "cell_type": "markdown",
   "id": "f9390528",
   "metadata": {},
   "source": [
    "#### <strong> Компания планирует запустить новую акцию, чтобы продать как можно больше туров. Команда разработала два варианта посадочной страницы официального сайта и провела A/B-тестирование. В результате эксперимента были собраны данные. \n",
    "\n",
    "#### <strong> Необходимо проанализировать эффективность обоих вариантов посадочной страницы сразу по двум критериям — конверсии покупки и ежедневному среднему чеку.\n",
    "\n",
    "#### <strong> A/B-тестирование было проведено корректно, проверить факт стабилизации метрик и обоснованно ответить на ключевой вопрос турагентства: какой вариант посадочной страницы более предпочтителен по метрикам конверсии и ежедневного среднего чека?"
   ]
  },
  {
   "cell_type": "markdown",
   "id": "795fbd4e",
   "metadata": {},
   "source": [
    "## 1. Анализ данных и  их предобработка."
   ]
  },
  {
   "cell_type": "code",
   "execution_count": 1,
   "id": "7aeb59b2",
   "metadata": {},
   "outputs": [],
   "source": [
    "# Импортируем библиотеки для работы.\n",
    "import pandas as pd\n",
    "import numpy as np\n",
    "import matplotlib.pyplot as plt\n",
    "import seaborn as sns\n",
    "import datetime\n",
    "from statsmodels.stats.proportion import proportions_ztest,proportion_confint\n",
    "from scipy import stats\n",
    "from scipy.stats import norm,t"
   ]
  },
  {
   "cell_type": "code",
   "execution_count": 2,
   "id": "afe86f96",
   "metadata": {},
   "outputs": [
    {
     "name": "stdout",
     "output_type": "stream",
     "text": [
      "(294478, 5)\n"
     ]
    },
    {
     "data": {
      "application/vnd.microsoft.datawrangler.viewer.v0+json": {
       "columns": [
        {
         "name": "index",
         "rawType": "int64",
         "type": "integer"
        },
        {
         "name": "user_id",
         "rawType": "int64",
         "type": "integer"
        },
        {
         "name": "date",
         "rawType": "object",
         "type": "string"
        },
        {
         "name": "group",
         "rawType": "object",
         "type": "string"
        },
        {
         "name": "purchase",
         "rawType": "int64",
         "type": "integer"
        },
        {
         "name": "price",
         "rawType": "int64",
         "type": "integer"
        }
       ],
       "ref": "f2e9b187-c512-4bc3-983b-c92a1f1efc6c",
       "rows": [
        [
         "0",
         "851104",
         "2021-01-21",
         "A",
         "0",
         "0"
        ],
        [
         "1",
         "804228",
         "2021-01-12",
         "A",
         "0",
         "0"
        ]
       ],
       "shape": {
        "columns": 5,
        "rows": 2
       }
      },
      "text/html": [
       "<div>\n",
       "<style scoped>\n",
       "    .dataframe tbody tr th:only-of-type {\n",
       "        vertical-align: middle;\n",
       "    }\n",
       "\n",
       "    .dataframe tbody tr th {\n",
       "        vertical-align: top;\n",
       "    }\n",
       "\n",
       "    .dataframe thead th {\n",
       "        text-align: right;\n",
       "    }\n",
       "</style>\n",
       "<table border=\"1\" class=\"dataframe\">\n",
       "  <thead>\n",
       "    <tr style=\"text-align: right;\">\n",
       "      <th></th>\n",
       "      <th>user_id</th>\n",
       "      <th>date</th>\n",
       "      <th>group</th>\n",
       "      <th>purchase</th>\n",
       "      <th>price</th>\n",
       "    </tr>\n",
       "  </thead>\n",
       "  <tbody>\n",
       "    <tr>\n",
       "      <th>0</th>\n",
       "      <td>851104</td>\n",
       "      <td>2021-01-21</td>\n",
       "      <td>A</td>\n",
       "      <td>0</td>\n",
       "      <td>0</td>\n",
       "    </tr>\n",
       "    <tr>\n",
       "      <th>1</th>\n",
       "      <td>804228</td>\n",
       "      <td>2021-01-12</td>\n",
       "      <td>A</td>\n",
       "      <td>0</td>\n",
       "      <td>0</td>\n",
       "    </tr>\n",
       "  </tbody>\n",
       "</table>\n",
       "</div>"
      ],
      "text/plain": [
       "   user_id        date group  purchase  price\n",
       "0   851104  2021-01-21     A         0      0\n",
       "1   804228  2021-01-12     A         0      0"
      ]
     },
     "execution_count": 2,
     "metadata": {},
     "output_type": "execute_result"
    }
   ],
   "source": [
    "# Вносим наш датасет в переменную\n",
    "\n",
    "ab_data = pd.read_csv('ab_data_tourist.csv')\n",
    "print(ab_data.shape)\n",
    "ab_data.head(2)\n"
   ]
  },
  {
   "cell_type": "markdown",
   "id": "f4882627",
   "metadata": {},
   "source": [
    "Наша таблица представлена следующими полями:\n",
    "\n",
    "        user_id — идентификатор пользователя, зашедшего на сайт;\n",
    "        data — дата посещения сайта;\n",
    "        group — группа теста (контрольная — А или тестовая — B);\n",
    "        purchase — признак покупки: совершил ли пользователь покупку тура (1 — да, 0 — нет);\n",
    "        price — цена купленного тура (если покупка не состоялась, цена равна 0).\n"
   ]
  },
  {
   "cell_type": "markdown",
   "id": "11ca03d6",
   "metadata": {},
   "source": [
    "Видим, что размер нашего датасета чуть меньше 300 тыс. наблюдений и 5 столбцов, описание которых выше."
   ]
  },
  {
   "cell_type": "code",
   "execution_count": 3,
   "id": "f5732c87",
   "metadata": {},
   "outputs": [
    {
     "name": "stdout",
     "output_type": "stream",
     "text": [
      "<class 'pandas.core.frame.DataFrame'>\n",
      "RangeIndex: 294478 entries, 0 to 294477\n",
      "Data columns (total 5 columns):\n",
      " #   Column    Non-Null Count   Dtype \n",
      "---  ------    --------------   ----- \n",
      " 0   user_id   294478 non-null  int64 \n",
      " 1   date      294478 non-null  object\n",
      " 2   group     294478 non-null  object\n",
      " 3   purchase  294478 non-null  int64 \n",
      " 4   price     294478 non-null  int64 \n",
      "dtypes: int64(3), object(2)\n",
      "memory usage: 11.2+ MB\n"
     ]
    }
   ],
   "source": [
    "# Проверим датасет на наличие пропусков и типа данных в столбцах. \n",
    "ab_data.info()"
   ]
  },
  {
   "cell_type": "markdown",
   "id": "826a7230",
   "metadata": {},
   "source": [
    "В данных отсутствуют пропуски."
   ]
  },
  {
   "cell_type": "code",
   "execution_count": 4,
   "id": "625ed633",
   "metadata": {},
   "outputs": [
    {
     "data": {
      "application/vnd.microsoft.datawrangler.viewer.v0+json": {
       "columns": [
        {
         "name": "index",
         "rawType": "int64",
         "type": "integer"
        },
        {
         "name": "user_id",
         "rawType": "int64",
         "type": "integer"
        },
        {
         "name": "date",
         "rawType": "datetime64[ns]",
         "type": "datetime"
        },
        {
         "name": "group",
         "rawType": "object",
         "type": "string"
        },
        {
         "name": "purchase",
         "rawType": "int64",
         "type": "integer"
        },
        {
         "name": "price",
         "rawType": "int64",
         "type": "integer"
        }
       ],
       "ref": "7a33c2de-5fc2-4c7f-9286-1ad8a6f77b28",
       "rows": [
        [
         "0",
         "851104",
         "2021-01-21 00:00:00",
         "A",
         "0",
         "0"
        ],
        [
         "1",
         "804228",
         "2021-01-12 00:00:00",
         "A",
         "0",
         "0"
        ],
        [
         "2",
         "661590",
         "2021-01-11 00:00:00",
         "B",
         "0",
         "0"
        ],
        [
         "3",
         "853541",
         "2021-01-08 00:00:00",
         "B",
         "0",
         "0"
        ],
        [
         "4",
         "864975",
         "2021-01-21 00:00:00",
         "A",
         "1",
         "150000"
        ]
       ],
       "shape": {
        "columns": 5,
        "rows": 5
       }
      },
      "text/html": [
       "<div>\n",
       "<style scoped>\n",
       "    .dataframe tbody tr th:only-of-type {\n",
       "        vertical-align: middle;\n",
       "    }\n",
       "\n",
       "    .dataframe tbody tr th {\n",
       "        vertical-align: top;\n",
       "    }\n",
       "\n",
       "    .dataframe thead th {\n",
       "        text-align: right;\n",
       "    }\n",
       "</style>\n",
       "<table border=\"1\" class=\"dataframe\">\n",
       "  <thead>\n",
       "    <tr style=\"text-align: right;\">\n",
       "      <th></th>\n",
       "      <th>user_id</th>\n",
       "      <th>date</th>\n",
       "      <th>group</th>\n",
       "      <th>purchase</th>\n",
       "      <th>price</th>\n",
       "    </tr>\n",
       "  </thead>\n",
       "  <tbody>\n",
       "    <tr>\n",
       "      <th>0</th>\n",
       "      <td>851104</td>\n",
       "      <td>2021-01-21</td>\n",
       "      <td>A</td>\n",
       "      <td>0</td>\n",
       "      <td>0</td>\n",
       "    </tr>\n",
       "    <tr>\n",
       "      <th>1</th>\n",
       "      <td>804228</td>\n",
       "      <td>2021-01-12</td>\n",
       "      <td>A</td>\n",
       "      <td>0</td>\n",
       "      <td>0</td>\n",
       "    </tr>\n",
       "    <tr>\n",
       "      <th>2</th>\n",
       "      <td>661590</td>\n",
       "      <td>2021-01-11</td>\n",
       "      <td>B</td>\n",
       "      <td>0</td>\n",
       "      <td>0</td>\n",
       "    </tr>\n",
       "    <tr>\n",
       "      <th>3</th>\n",
       "      <td>853541</td>\n",
       "      <td>2021-01-08</td>\n",
       "      <td>B</td>\n",
       "      <td>0</td>\n",
       "      <td>0</td>\n",
       "    </tr>\n",
       "    <tr>\n",
       "      <th>4</th>\n",
       "      <td>864975</td>\n",
       "      <td>2021-01-21</td>\n",
       "      <td>A</td>\n",
       "      <td>1</td>\n",
       "      <td>150000</td>\n",
       "    </tr>\n",
       "  </tbody>\n",
       "</table>\n",
       "</div>"
      ],
      "text/plain": [
       "   user_id       date group  purchase   price\n",
       "0   851104 2021-01-21     A         0       0\n",
       "1   804228 2021-01-12     A         0       0\n",
       "2   661590 2021-01-11     B         0       0\n",
       "3   853541 2021-01-08     B         0       0\n",
       "4   864975 2021-01-21     A         1  150000"
      ]
     },
     "execution_count": 4,
     "metadata": {},
     "output_type": "execute_result"
    }
   ],
   "source": [
    "# Преобразуем столбец с датой в формат datetime.\n",
    "ab_data['date'] = pd.to_datetime(ab_data['date'],format='%Y-%m-%d')\n",
    "ab_data.head()"
   ]
  },
  {
   "cell_type": "markdown",
   "id": "4d645414",
   "metadata": {},
   "source": [
    "Дата стоит не по порядку, для дальнейшей работы это необходимо исправить. Отфильтруем дату в порядке убывания."
   ]
  },
  {
   "cell_type": "code",
   "execution_count": 5,
   "id": "1859d6ca",
   "metadata": {},
   "outputs": [
    {
     "data": {
      "application/vnd.microsoft.datawrangler.viewer.v0+json": {
       "columns": [
        {
         "name": "index",
         "rawType": "int64",
         "type": "integer"
        },
        {
         "name": "user_id",
         "rawType": "int64",
         "type": "integer"
        },
        {
         "name": "date",
         "rawType": "datetime64[ns]",
         "type": "datetime"
        },
        {
         "name": "group",
         "rawType": "object",
         "type": "string"
        },
        {
         "name": "purchase",
         "rawType": "int64",
         "type": "integer"
        },
        {
         "name": "price",
         "rawType": "int64",
         "type": "integer"
        }
       ],
       "ref": "8990a303-0e9f-4260-8dce-c63b1b2aceaf",
       "rows": [
        [
         "0",
         "637212",
         "2021-01-02 00:00:00",
         "B",
         "1",
         "100000"
        ],
        [
         "1",
         "924138",
         "2021-01-02 00:00:00",
         "B",
         "0",
         "0"
        ],
        [
         "2",
         "659091",
         "2021-01-02 00:00:00",
         "A",
         "0",
         "0"
        ],
        [
         "3",
         "653194",
         "2021-01-02 00:00:00",
         "B",
         "0",
         "0"
        ],
        [
         "4",
         "810044",
         "2021-01-02 00:00:00",
         "A",
         "0",
         "0"
        ],
        [
         "5",
         "645986",
         "2021-01-02 00:00:00",
         "B",
         "0",
         "0"
        ],
        [
         "6",
         "939054",
         "2021-01-02 00:00:00",
         "B",
         "0",
         "0"
        ],
        [
         "7",
         "677911",
         "2021-01-02 00:00:00",
         "B",
         "0",
         "0"
        ],
        [
         "8",
         "894268",
         "2021-01-02 00:00:00",
         "B",
         "0",
         "0"
        ],
        [
         "9",
         "638214",
         "2021-01-02 00:00:00",
         "A",
         "0",
         "0"
        ],
        [
         "10",
         "689851",
         "2021-01-02 00:00:00",
         "B",
         "0",
         "0"
        ],
        [
         "11",
         "783862",
         "2021-01-02 00:00:00",
         "B",
         "0",
         "0"
        ],
        [
         "12",
         "803791",
         "2021-01-02 00:00:00",
         "B",
         "0",
         "0"
        ],
        [
         "13",
         "835182",
         "2021-01-02 00:00:00",
         "B",
         "0",
         "0"
        ],
        [
         "14",
         "717767",
         "2021-01-02 00:00:00",
         "B",
         "0",
         "0"
        ],
        [
         "15",
         "917244",
         "2021-01-02 00:00:00",
         "B",
         "0",
         "0"
        ],
        [
         "16",
         "929703",
         "2021-01-02 00:00:00",
         "B",
         "0",
         "0"
        ],
        [
         "17",
         "908044",
         "2021-01-02 00:00:00",
         "B",
         "0",
         "0"
        ],
        [
         "18",
         "891085",
         "2021-01-02 00:00:00",
         "B",
         "0",
         "0"
        ],
        [
         "19",
         "934736",
         "2021-01-02 00:00:00",
         "A",
         "0",
         "0"
        ],
        [
         "20",
         "632934",
         "2021-01-02 00:00:00",
         "A",
         "0",
         "0"
        ],
        [
         "21",
         "709969",
         "2021-01-02 00:00:00",
         "A",
         "1",
         "60000"
        ],
        [
         "22",
         "708930",
         "2021-01-02 00:00:00",
         "A",
         "0",
         "0"
        ],
        [
         "23",
         "908074",
         "2021-01-02 00:00:00",
         "B",
         "0",
         "0"
        ],
        [
         "24",
         "826361",
         "2021-01-02 00:00:00",
         "B",
         "0",
         "0"
        ],
        [
         "25",
         "916253",
         "2021-01-02 00:00:00",
         "A",
         "0",
         "0"
        ],
        [
         "26",
         "716910",
         "2021-01-02 00:00:00",
         "A",
         "0",
         "0"
        ],
        [
         "27",
         "897309",
         "2021-01-02 00:00:00",
         "B",
         "0",
         "0"
        ],
        [
         "28",
         "897775",
         "2021-01-02 00:00:00",
         "B",
         "0",
         "0"
        ],
        [
         "29",
         "939636",
         "2021-01-02 00:00:00",
         "A",
         "0",
         "0"
        ],
        [
         "30",
         "768665",
         "2021-01-02 00:00:00",
         "B",
         "0",
         "0"
        ],
        [
         "31",
         "851253",
         "2021-01-02 00:00:00",
         "A",
         "1",
         "10000"
        ],
        [
         "32",
         "725393",
         "2021-01-02 00:00:00",
         "A",
         "0",
         "0"
        ],
        [
         "33",
         "719408",
         "2021-01-02 00:00:00",
         "A",
         "0",
         "0"
        ],
        [
         "34",
         "888678",
         "2021-01-02 00:00:00",
         "A",
         "0",
         "0"
        ],
        [
         "35",
         "660106",
         "2021-01-02 00:00:00",
         "B",
         "0",
         "0"
        ],
        [
         "36",
         "831053",
         "2021-01-02 00:00:00",
         "B",
         "0",
         "0"
        ],
        [
         "37",
         "654205",
         "2021-01-02 00:00:00",
         "B",
         "1",
         "200000"
        ],
        [
         "38",
         "887419",
         "2021-01-02 00:00:00",
         "B",
         "0",
         "0"
        ],
        [
         "39",
         "874091",
         "2021-01-02 00:00:00",
         "A",
         "0",
         "0"
        ],
        [
         "40",
         "937176",
         "2021-01-02 00:00:00",
         "A",
         "0",
         "0"
        ],
        [
         "41",
         "803112",
         "2021-01-02 00:00:00",
         "B",
         "0",
         "0"
        ],
        [
         "42",
         "845226",
         "2021-01-02 00:00:00",
         "B",
         "1",
         "150000"
        ],
        [
         "43",
         "639036",
         "2021-01-02 00:00:00",
         "A",
         "0",
         "0"
        ],
        [
         "44",
         "862598",
         "2021-01-02 00:00:00",
         "B",
         "0",
         "0"
        ],
        [
         "45",
         "671185",
         "2021-01-02 00:00:00",
         "A",
         "1",
         "150000"
        ],
        [
         "46",
         "632895",
         "2021-01-02 00:00:00",
         "A",
         "0",
         "0"
        ],
        [
         "47",
         "640419",
         "2021-01-02 00:00:00",
         "B",
         "0",
         "0"
        ],
        [
         "48",
         "759825",
         "2021-01-02 00:00:00",
         "B",
         "0",
         "0"
        ],
        [
         "49",
         "661538",
         "2021-01-02 00:00:00",
         "B",
         "0",
         "0"
        ]
       ],
       "shape": {
        "columns": 5,
        "rows": 294478
       }
      },
      "text/html": [
       "<div>\n",
       "<style scoped>\n",
       "    .dataframe tbody tr th:only-of-type {\n",
       "        vertical-align: middle;\n",
       "    }\n",
       "\n",
       "    .dataframe tbody tr th {\n",
       "        vertical-align: top;\n",
       "    }\n",
       "\n",
       "    .dataframe thead th {\n",
       "        text-align: right;\n",
       "    }\n",
       "</style>\n",
       "<table border=\"1\" class=\"dataframe\">\n",
       "  <thead>\n",
       "    <tr style=\"text-align: right;\">\n",
       "      <th></th>\n",
       "      <th>user_id</th>\n",
       "      <th>date</th>\n",
       "      <th>group</th>\n",
       "      <th>purchase</th>\n",
       "      <th>price</th>\n",
       "    </tr>\n",
       "  </thead>\n",
       "  <tbody>\n",
       "    <tr>\n",
       "      <th>0</th>\n",
       "      <td>637212</td>\n",
       "      <td>2021-01-02</td>\n",
       "      <td>B</td>\n",
       "      <td>1</td>\n",
       "      <td>100000</td>\n",
       "    </tr>\n",
       "    <tr>\n",
       "      <th>1</th>\n",
       "      <td>924138</td>\n",
       "      <td>2021-01-02</td>\n",
       "      <td>B</td>\n",
       "      <td>0</td>\n",
       "      <td>0</td>\n",
       "    </tr>\n",
       "    <tr>\n",
       "      <th>2</th>\n",
       "      <td>659091</td>\n",
       "      <td>2021-01-02</td>\n",
       "      <td>A</td>\n",
       "      <td>0</td>\n",
       "      <td>0</td>\n",
       "    </tr>\n",
       "    <tr>\n",
       "      <th>3</th>\n",
       "      <td>653194</td>\n",
       "      <td>2021-01-02</td>\n",
       "      <td>B</td>\n",
       "      <td>0</td>\n",
       "      <td>0</td>\n",
       "    </tr>\n",
       "    <tr>\n",
       "      <th>4</th>\n",
       "      <td>810044</td>\n",
       "      <td>2021-01-02</td>\n",
       "      <td>A</td>\n",
       "      <td>0</td>\n",
       "      <td>0</td>\n",
       "    </tr>\n",
       "    <tr>\n",
       "      <th>...</th>\n",
       "      <td>...</td>\n",
       "      <td>...</td>\n",
       "      <td>...</td>\n",
       "      <td>...</td>\n",
       "      <td>...</td>\n",
       "    </tr>\n",
       "    <tr>\n",
       "      <th>294473</th>\n",
       "      <td>907259</td>\n",
       "      <td>2021-01-24</td>\n",
       "      <td>A</td>\n",
       "      <td>1</td>\n",
       "      <td>60000</td>\n",
       "    </tr>\n",
       "    <tr>\n",
       "      <th>294474</th>\n",
       "      <td>820211</td>\n",
       "      <td>2021-01-24</td>\n",
       "      <td>A</td>\n",
       "      <td>0</td>\n",
       "      <td>0</td>\n",
       "    </tr>\n",
       "    <tr>\n",
       "      <th>294475</th>\n",
       "      <td>694025</td>\n",
       "      <td>2021-01-24</td>\n",
       "      <td>B</td>\n",
       "      <td>0</td>\n",
       "      <td>0</td>\n",
       "    </tr>\n",
       "    <tr>\n",
       "      <th>294476</th>\n",
       "      <td>763379</td>\n",
       "      <td>2021-01-24</td>\n",
       "      <td>B</td>\n",
       "      <td>0</td>\n",
       "      <td>0</td>\n",
       "    </tr>\n",
       "    <tr>\n",
       "      <th>294477</th>\n",
       "      <td>880926</td>\n",
       "      <td>2021-01-24</td>\n",
       "      <td>B</td>\n",
       "      <td>0</td>\n",
       "      <td>0</td>\n",
       "    </tr>\n",
       "  </tbody>\n",
       "</table>\n",
       "<p>294478 rows × 5 columns</p>\n",
       "</div>"
      ],
      "text/plain": [
       "        user_id       date group  purchase   price\n",
       "0        637212 2021-01-02     B         1  100000\n",
       "1        924138 2021-01-02     B         0       0\n",
       "2        659091 2021-01-02     A         0       0\n",
       "3        653194 2021-01-02     B         0       0\n",
       "4        810044 2021-01-02     A         0       0\n",
       "...         ...        ...   ...       ...     ...\n",
       "294473   907259 2021-01-24     A         1   60000\n",
       "294474   820211 2021-01-24     A         0       0\n",
       "294475   694025 2021-01-24     B         0       0\n",
       "294476   763379 2021-01-24     B         0       0\n",
       "294477   880926 2021-01-24     B         0       0\n",
       "\n",
       "[294478 rows x 5 columns]"
      ]
     },
     "execution_count": 5,
     "metadata": {},
     "output_type": "execute_result"
    }
   ],
   "source": [
    "ab_data.sort_values(by='date',ignore_index=True,inplace=True)\n",
    "ab_data"
   ]
  },
  {
   "cell_type": "markdown",
   "id": "2d601927",
   "metadata": {},
   "source": [
    "Исправили. Для правдоподобности теста необходимо проверить общую длительность каждого теста, что бы все было справедливо и реально."
   ]
  },
  {
   "cell_type": "code",
   "execution_count": 6,
   "id": "fb8f3e3a",
   "metadata": {},
   "outputs": [
    {
     "name": "stdout",
     "output_type": "stream",
     "text": [
      "количество дней шло тестирование в группе А : 23\n",
      "количество дней шло тестирование в группе B : 23\n",
      "--------------------------------------------------\n",
      "дата начала теста\n"
     ]
    },
    {
     "data": {
      "application/vnd.microsoft.datawrangler.viewer.v0+json": {
       "columns": [
        {
         "name": "group",
         "rawType": "object",
         "type": "string"
        },
        {
         "name": "date",
         "rawType": "datetime64[ns]",
         "type": "datetime"
        }
       ],
       "ref": "82827415-0bec-4c75-97c2-b003a07af8ac",
       "rows": [
        [
         "A",
         "2021-01-02 00:00:00"
        ],
        [
         "B",
         "2021-01-02 00:00:00"
        ]
       ],
       "shape": {
        "columns": 1,
        "rows": 2
       }
      },
      "text/plain": [
       "group\n",
       "A   2021-01-02\n",
       "B   2021-01-02\n",
       "Name: date, dtype: datetime64[ns]"
      ]
     },
     "metadata": {},
     "output_type": "display_data"
    },
    {
     "name": "stdout",
     "output_type": "stream",
     "text": [
      "     \n",
      "дата конца теста\n"
     ]
    },
    {
     "data": {
      "application/vnd.microsoft.datawrangler.viewer.v0+json": {
       "columns": [
        {
         "name": "group",
         "rawType": "object",
         "type": "string"
        },
        {
         "name": "date",
         "rawType": "datetime64[ns]",
         "type": "datetime"
        }
       ],
       "ref": "4ca39ace-0d95-4e40-af24-a310d14848b6",
       "rows": [
        [
         "A",
         "2021-01-24 00:00:00"
        ],
        [
         "B",
         "2021-01-24 00:00:00"
        ]
       ],
       "shape": {
        "columns": 1,
        "rows": 2
       }
      },
      "text/plain": [
       "group\n",
       "A   2021-01-24\n",
       "B   2021-01-24\n",
       "Name: date, dtype: datetime64[ns]"
      ]
     },
     "execution_count": 6,
     "metadata": {},
     "output_type": "execute_result"
    }
   ],
   "source": [
    "# Даты начала двух тестов и количество дней процесса\n",
    "print('количество дней шло тестирование в группе А : {}'.format(ab_data[ab_data['group']=='A']['date'].nunique()))\n",
    "print('количество дней шло тестирование в группе B : {}'.format(ab_data[ab_data['group']=='B']['date'].nunique()))\n",
    "print('--------------------------------------------------')\n",
    "print('дата начала теста')\n",
    "display(ab_data.groupby('group')['date'].first())\n",
    "print('     ')\n",
    "print('дата конца теста')\n",
    "ab_data.groupby('group')['date'].last()"
   ]
  },
  {
   "cell_type": "markdown",
   "id": "076bb747",
   "metadata": {},
   "source": [
    "По датасету видно, что тесты проходили в один период времени и одинаковое количество дней. Уточним количество наблюдений в каждой группе."
   ]
  },
  {
   "cell_type": "code",
   "execution_count": 7,
   "id": "54b7626b",
   "metadata": {},
   "outputs": [
    {
     "name": "stdout",
     "output_type": "stream",
     "text": [
      "Количество посещений сайта в группе А: 147202\n",
      "Количество посещений сайта в группе B: 147276\n"
     ]
    }
   ],
   "source": [
    "n_A = ab_data[ab_data['group']=='A'].shape[0]\n",
    "n_B = ab_data[ab_data['group']=='B'].shape[0]\n",
    "\n",
    "print('Количество посещений сайта в группе А: {}'.format(n_A))\n",
    "print('Количество посещений сайта в группе B: {}'.format(n_B))"
   ]
  },
  {
   "cell_type": "markdown",
   "id": "1f9340fd",
   "metadata": {},
   "source": [
    "Составы групп сбалансированы. Проверим, а есть ли пользователи, которые случайным образом попали в обе группы и сколько таких, если имеется?"
   ]
  },
  {
   "cell_type": "code",
   "execution_count": 8,
   "id": "f22426b7",
   "metadata": {},
   "outputs": [
    {
     "name": "stdout",
     "output_type": "stream",
     "text": [
      "Количество пользователей, которые попали в обе группы: 1895\n"
     ]
    }
   ],
   "source": [
    "# Воспользуемся свойством множества и выделим в каждой группе уникальных пользователей, \n",
    "unique_user_A = set(ab_data[ab_data['group']=='A']['user_id'])\n",
    "unique_user_B = set(ab_data[ab_data['group']=='B']['user_id'])\n",
    "\n",
    "# Дальше проверим пересечение двух групп.\n",
    "interception_group = unique_user_A.intersection(unique_user_B)\n",
    "# уточним количество пользователей.\n",
    "print('Количество пользователей, которые попали в обе группы:', len(interception_group))"
   ]
  },
  {
   "cell_type": "markdown",
   "id": "4617b407",
   "metadata": {},
   "source": [
    "Да уж, действительно такие люди в наших группах присутствуют и не мало. Необходимо удалить таких пользователей с двух групп сразу и записать датасет уже в новую переменную."
   ]
  },
  {
   "cell_type": "code",
   "execution_count": 9,
   "id": "0dd3bb02",
   "metadata": {},
   "outputs": [],
   "source": [
    "ab_data_del_dubl = ab_data[~ab_data['user_id'].isin(interception_group)]"
   ]
  },
  {
   "cell_type": "markdown",
   "id": "3713e274",
   "metadata": {},
   "source": [
    "## 2. Первичный анализ результатов A/B-тестирования:"
   ]
  },
  {
   "cell_type": "markdown",
   "id": "6837148f",
   "metadata": {},
   "source": [
    "Рассчитаем вспомогательные показатели для контрольной и тестовой групп:\n",
    "\n",
    "*  количество посещений сайта;\n",
    "*  суммарное количество совершённых покупок;\n",
    "*  сумма всех покупок.\n"
   ]
  },
  {
   "cell_type": "code",
   "execution_count": 10,
   "id": "ecaa9865",
   "metadata": {},
   "outputs": [],
   "source": [
    "# Разобьем наши данные по группам, что бы в дальнейшем было проще к ним обращаться.\n",
    "group_A = ab_data_del_dubl[ab_data_del_dubl['group']=='A']\n",
    "group_B = ab_data_del_dubl[ab_data_del_dubl['group']=='B']"
   ]
  },
  {
   "cell_type": "code",
   "execution_count": 11,
   "id": "38a37b8a",
   "metadata": {},
   "outputs": [
    {
     "data": {
      "application/vnd.microsoft.datawrangler.viewer.v0+json": {
       "columns": [
        {
         "name": "group",
         "rawType": "object",
         "type": "string"
        },
        {
         "name": "number_of_visits",
         "rawType": "int64",
         "type": "integer"
        },
        {
         "name": "number_of_purchases",
         "rawType": "int64",
         "type": "integer"
        },
        {
         "name": "total_sum",
         "rawType": "int64",
         "type": "integer"
        }
       ],
       "ref": "722b2398-1c9e-40c5-a83a-db02ed67ecee",
       "rows": [
        [
         "A",
         "145307",
         "17487",
         "1417780000"
        ],
        [
         "B",
         "145381",
         "17290",
         "1533010000"
        ]
       ],
       "shape": {
        "columns": 3,
        "rows": 2
       }
      },
      "text/html": [
       "<div>\n",
       "<style scoped>\n",
       "    .dataframe tbody tr th:only-of-type {\n",
       "        vertical-align: middle;\n",
       "    }\n",
       "\n",
       "    .dataframe tbody tr th {\n",
       "        vertical-align: top;\n",
       "    }\n",
       "\n",
       "    .dataframe thead th {\n",
       "        text-align: right;\n",
       "    }\n",
       "</style>\n",
       "<table border=\"1\" class=\"dataframe\">\n",
       "  <thead>\n",
       "    <tr style=\"text-align: right;\">\n",
       "      <th></th>\n",
       "      <th>number_of_visits</th>\n",
       "      <th>number_of_purchases</th>\n",
       "      <th>total_sum</th>\n",
       "    </tr>\n",
       "    <tr>\n",
       "      <th>group</th>\n",
       "      <th></th>\n",
       "      <th></th>\n",
       "      <th></th>\n",
       "    </tr>\n",
       "  </thead>\n",
       "  <tbody>\n",
       "    <tr>\n",
       "      <th>A</th>\n",
       "      <td>145307</td>\n",
       "      <td>17487</td>\n",
       "      <td>1417780000</td>\n",
       "    </tr>\n",
       "    <tr>\n",
       "      <th>B</th>\n",
       "      <td>145381</td>\n",
       "      <td>17290</td>\n",
       "      <td>1533010000</td>\n",
       "    </tr>\n",
       "  </tbody>\n",
       "</table>\n",
       "</div>"
      ],
      "text/plain": [
       "       number_of_visits  number_of_purchases   total_sum\n",
       "group                                                   \n",
       "A                145307                17487  1417780000\n",
       "B                145381                17290  1533010000"
      ]
     },
     "execution_count": 11,
     "metadata": {},
     "output_type": "execute_result"
    }
   ],
   "source": [
    "# сгруппируем наш датасет разбив нужную нам информацию по группам.\n",
    "ab_table = ab_data_del_dubl.groupby('group'\n",
    "                         )[['user_id','purchase','price']\n",
    "                           ].agg(func={'user_id':'count','purchase':'sum','price':'sum'}\n",
    "                                 ).rename(columns={'user_id':'number_of_visits','purchase':'number_of_purchases','price':'total_sum'})\n",
    "ab_table"
   ]
  },
  {
   "cell_type": "markdown",
   "id": "be82a645",
   "metadata": {},
   "source": [
    "Видим, что у нас количество посещений почти одинаковое. Количество покупок тоже,но суммы в двух группах разнятся. Возможно именно это решит исход данного теста. В общем группы сбалансированы."
   ]
  },
  {
   "cell_type": "markdown",
   "id": "5deb5faf",
   "metadata": {},
   "source": [
    "В каждой из групп рассчитаем ключевые показатели, из-за которых мы и затеяли данный тест:\n",
    "\n",
    "*  конверсия;\n",
    "*  средний чек.\n"
   ]
  },
  {
   "cell_type": "code",
   "execution_count": 12,
   "id": "c7ea4196",
   "metadata": {},
   "outputs": [
    {
     "data": {
      "application/vnd.microsoft.datawrangler.viewer.v0+json": {
       "columns": [
        {
         "name": "group",
         "rawType": "object",
         "type": "string"
        },
        {
         "name": "number_of_visits",
         "rawType": "int64",
         "type": "integer"
        },
        {
         "name": "number_of_purchases",
         "rawType": "int64",
         "type": "integer"
        },
        {
         "name": "total_sum",
         "rawType": "int64",
         "type": "integer"
        },
        {
         "name": "total_conversion",
         "rawType": "float64",
         "type": "float"
        },
        {
         "name": "average_test_check",
         "rawType": "float64",
         "type": "float"
        }
       ],
       "ref": "fd21d3c1-bc55-4941-a464-1191d55b1736",
       "rows": [
        [
         "A",
         "145307",
         "17487",
         "1417780000",
         "12.03",
         "81076.0"
        ],
        [
         "B",
         "145381",
         "17290",
         "1533010000",
         "11.89",
         "88665.0"
        ]
       ],
       "shape": {
        "columns": 5,
        "rows": 2
       }
      },
      "text/html": [
       "<div>\n",
       "<style scoped>\n",
       "    .dataframe tbody tr th:only-of-type {\n",
       "        vertical-align: middle;\n",
       "    }\n",
       "\n",
       "    .dataframe tbody tr th {\n",
       "        vertical-align: top;\n",
       "    }\n",
       "\n",
       "    .dataframe thead th {\n",
       "        text-align: right;\n",
       "    }\n",
       "</style>\n",
       "<table border=\"1\" class=\"dataframe\">\n",
       "  <thead>\n",
       "    <tr style=\"text-align: right;\">\n",
       "      <th></th>\n",
       "      <th>number_of_visits</th>\n",
       "      <th>number_of_purchases</th>\n",
       "      <th>total_sum</th>\n",
       "      <th>total_conversion</th>\n",
       "      <th>average_test_check</th>\n",
       "    </tr>\n",
       "    <tr>\n",
       "      <th>group</th>\n",
       "      <th></th>\n",
       "      <th></th>\n",
       "      <th></th>\n",
       "      <th></th>\n",
       "      <th></th>\n",
       "    </tr>\n",
       "  </thead>\n",
       "  <tbody>\n",
       "    <tr>\n",
       "      <th>A</th>\n",
       "      <td>145307</td>\n",
       "      <td>17487</td>\n",
       "      <td>1417780000</td>\n",
       "      <td>12.03</td>\n",
       "      <td>81076.0</td>\n",
       "    </tr>\n",
       "    <tr>\n",
       "      <th>B</th>\n",
       "      <td>145381</td>\n",
       "      <td>17290</td>\n",
       "      <td>1533010000</td>\n",
       "      <td>11.89</td>\n",
       "      <td>88665.0</td>\n",
       "    </tr>\n",
       "  </tbody>\n",
       "</table>\n",
       "</div>"
      ],
      "text/plain": [
       "       number_of_visits  number_of_purchases   total_sum  total_conversion   \n",
       "group                                                                        \n",
       "A                145307                17487  1417780000             12.03  \\\n",
       "B                145381                17290  1533010000             11.89   \n",
       "\n",
       "       average_test_check  \n",
       "group                      \n",
       "A                 81076.0  \n",
       "B                 88665.0  "
      ]
     },
     "execution_count": 12,
     "metadata": {},
     "output_type": "execute_result"
    }
   ],
   "source": [
    "# Конверсия, округленная до двух знаков в процентом соотношении.\n",
    "ab_table['total_conversion'] = np.round(ab_table['number_of_purchases']*100/ab_table['number_of_visits'],2)\n",
    "\n",
    "# Средний чек за все время теста.\n",
    "ab_table['average_test_check'] = np.round(ab_table['total_sum']/ab_table['number_of_purchases'])\n",
    "\n",
    "ab_table\n"
   ]
  },
  {
   "cell_type": "markdown",
   "id": "536a38c2",
   "metadata": {},
   "source": [
    "Видим, что в первой группе выше показатель конверсии, но ниже показатель среднего чека. Необходимо построить сводную таблицу, где мы наглядно увидим, какие суммы покупок преобладают в каждой группе."
   ]
  },
  {
   "cell_type": "code",
   "execution_count": 13,
   "id": "63be86f6",
   "metadata": {},
   "outputs": [
    {
     "data": {
      "application/vnd.microsoft.datawrangler.viewer.v0+json": {
       "columns": [
        {
         "name": "group",
         "rawType": "object",
         "type": "string"
        },
        {
         "name": "10000",
         "rawType": "int64",
         "type": "integer"
        },
        {
         "name": "60000",
         "rawType": "int64",
         "type": "integer"
        },
        {
         "name": "100000",
         "rawType": "int64",
         "type": "integer"
        },
        {
         "name": "150000",
         "rawType": "int64",
         "type": "integer"
        },
        {
         "name": "200000",
         "rawType": "int64",
         "type": "integer"
        }
       ],
       "ref": "5f648c05-f856-48be-8706-261a96fb2fd5",
       "rows": [
        [
         "A",
         "5182",
         "5271",
         "1832",
         "3478",
         "1724"
        ],
        [
         "B",
         "5201",
         "1730",
         "5227",
         "3438",
         "1694"
        ]
       ],
       "shape": {
        "columns": 5,
        "rows": 2
       }
      },
      "text/html": [
       "<div>\n",
       "<style scoped>\n",
       "    .dataframe tbody tr th:only-of-type {\n",
       "        vertical-align: middle;\n",
       "    }\n",
       "\n",
       "    .dataframe tbody tr th {\n",
       "        vertical-align: top;\n",
       "    }\n",
       "\n",
       "    .dataframe thead th {\n",
       "        text-align: right;\n",
       "    }\n",
       "</style>\n",
       "<table border=\"1\" class=\"dataframe\">\n",
       "  <thead>\n",
       "    <tr style=\"text-align: right;\">\n",
       "      <th>price</th>\n",
       "      <th>10000</th>\n",
       "      <th>60000</th>\n",
       "      <th>100000</th>\n",
       "      <th>150000</th>\n",
       "      <th>200000</th>\n",
       "    </tr>\n",
       "    <tr>\n",
       "      <th>group</th>\n",
       "      <th></th>\n",
       "      <th></th>\n",
       "      <th></th>\n",
       "      <th></th>\n",
       "      <th></th>\n",
       "    </tr>\n",
       "  </thead>\n",
       "  <tbody>\n",
       "    <tr>\n",
       "      <th>A</th>\n",
       "      <td>5182</td>\n",
       "      <td>5271</td>\n",
       "      <td>1832</td>\n",
       "      <td>3478</td>\n",
       "      <td>1724</td>\n",
       "    </tr>\n",
       "    <tr>\n",
       "      <th>B</th>\n",
       "      <td>5201</td>\n",
       "      <td>1730</td>\n",
       "      <td>5227</td>\n",
       "      <td>3438</td>\n",
       "      <td>1694</td>\n",
       "    </tr>\n",
       "  </tbody>\n",
       "</table>\n",
       "</div>"
      ],
      "text/plain": [
       "price  10000   60000   100000  150000  200000\n",
       "group                                        \n",
       "A        5182    5271    1832    3478    1724\n",
       "B        5201    1730    5227    3438    1694"
      ]
     },
     "execution_count": 13,
     "metadata": {},
     "output_type": "execute_result"
    }
   ],
   "source": [
    "ab_data_del_dubl[ab_data_del_dubl['price']!=0].pivot_table(columns='price',index='group',values='purchase',aggfunc='sum')"
   ]
  },
  {
   "cell_type": "code",
   "execution_count": 14,
   "id": "864f4030",
   "metadata": {},
   "outputs": [
    {
     "data": {
      "image/png": "[encoded data removed]",
      "text/plain": [
       "<Figure size 2000x600 with 1 Axes>"
      ]
     },
     "metadata": {},
     "output_type": "display_data"
    }
   ],
   "source": [
    "fig,ax = plt.subplots(figsize=(20,6))\n",
    "sns.countplot(data=ab_data_del_dubl[ab_data_del_dubl['price']!=0],x='price',hue='group')\n",
    "ax.set_title('Распределение покупок двух групп')\n",
    "ax.legend(['группа А', 'группа B'])\n",
    "ax.set_xlabel('Цена путевки')\n",
    "ax.set_ylabel('Количество покупок');\n",
    "ax.set_xticks([0,1,2,3,4],['Санкт-Петербург (10.000 руб.)','Турция (60.000 руб.)','Таиланд(100.000 руб.)','Камчатка (150.000 руб.)','Мальдивы (200.000 руб.)'])\n",
    "plt.show()"
   ]
  },
  {
   "cell_type": "markdown",
   "id": "1d1160fb",
   "metadata": {},
   "source": [
    "На данный момент анализа можно сделать следующие выводы:\n",
    "1. У нас сбалансированные группы и количества посещений сайта.\n",
    "2. Конверсия разнится в 1%, причем у первой группы она выше, это говорит о том, что люди чаще покупают путевки.\n",
    "3. Средний чек нам говорит , что во второй группе, хоть и показатель конверсии ниже, люди больше проводят время на сайте и покупают путевки более дорогие.\n",
    "4. На графике как раз мы видим где произошел рост покупок. Если в трех из пяти направлениях группы равны в количестве покупок, то разница в количестве покупок путевок за 60 тыс в Турцию и путевок за 100 тыс. в Тайланд разная. Тут у первой группы выделяются путевки более дешевые, а у второй группы мы видим покупки более дорогих."
   ]
  },
  {
   "cell_type": "markdown",
   "id": "df90f918",
   "metadata": {},
   "source": [
    "## 3. Анализ данных на предмет стабилизации метрик:"
   ]
  },
  {
   "cell_type": "markdown",
   "id": "f8b759dc",
   "metadata": {},
   "source": [
    "Нам необходимо проверить комулятивные метрики, как они себя ведут и можно ли считать, что они стабилизировались? A/B-тест завершенным? \n",
    "\n",
    "\n",
    "Сгруппируем данные по дате и группе тестирования и построим таблицу с ежедневными данными результатов проведения A/B-тестирования. В каждой группе вычислим ежедневные показатели:\n",
    "\n",
    "*  количество посещений страницы;\n",
    "*  количество покупок;\n",
    "*  сумму покупок.\n",
    "\n",
    " "
   ]
  },
  {
   "cell_type": "code",
   "execution_count": 15,
   "id": "3859ccfc",
   "metadata": {},
   "outputs": [
    {
     "data": {
      "application/vnd.microsoft.datawrangler.viewer.v0+json": {
       "columns": [
        {
         "name": "index",
         "rawType": "int64",
         "type": "integer"
        },
        {
         "name": "date",
         "rawType": "datetime64[ns]",
         "type": "datetime"
        },
        {
         "name": "group",
         "rawType": "object",
         "type": "string"
        },
        {
         "name": "number_of_visits",
         "rawType": "int64",
         "type": "integer"
        },
        {
         "name": "number_of_purchases",
         "rawType": "int64",
         "type": "integer"
        },
        {
         "name": "total_sum",
         "rawType": "int64",
         "type": "integer"
        },
        {
         "name": "average_check_test",
         "rawType": "float64",
         "type": "float"
        }
       ],
       "ref": "871839d4-448a-4127-9d5b-3e1ec5b62fbc",
       "rows": [
        [
         "0",
         "2021-01-02 00:00:00",
         "A",
         "2854",
         "359",
         "29410000",
         "81922.01"
        ],
        [
         "1",
         "2021-01-02 00:00:00",
         "B",
         "2861",
         "345",
         "29660000",
         "85971.01"
        ],
        [
         "2",
         "2021-01-03 00:00:00",
         "A",
         "6596",
         "748",
         "62000000",
         "82887.7"
        ],
        [
         "3",
         "2021-01-03 00:00:00",
         "B",
         "6619",
         "754",
         "65960000",
         "87480.11"
        ],
        [
         "4",
         "2021-01-04 00:00:00",
         "A",
         "6566",
         "799",
         "64250000",
         "80413.02"
        ]
       ],
       "shape": {
        "columns": 6,
        "rows": 5
       }
      },
      "text/html": [
       "<div>\n",
       "<style scoped>\n",
       "    .dataframe tbody tr th:only-of-type {\n",
       "        vertical-align: middle;\n",
       "    }\n",
       "\n",
       "    .dataframe tbody tr th {\n",
       "        vertical-align: top;\n",
       "    }\n",
       "\n",
       "    .dataframe thead th {\n",
       "        text-align: right;\n",
       "    }\n",
       "</style>\n",
       "<table border=\"1\" class=\"dataframe\">\n",
       "  <thead>\n",
       "    <tr style=\"text-align: right;\">\n",
       "      <th></th>\n",
       "      <th>date</th>\n",
       "      <th>group</th>\n",
       "      <th>number_of_visits</th>\n",
       "      <th>number_of_purchases</th>\n",
       "      <th>total_sum</th>\n",
       "      <th>average_check_test</th>\n",
       "    </tr>\n",
       "  </thead>\n",
       "  <tbody>\n",
       "    <tr>\n",
       "      <th>0</th>\n",
       "      <td>2021-01-02</td>\n",
       "      <td>A</td>\n",
       "      <td>2854</td>\n",
       "      <td>359</td>\n",
       "      <td>29410000</td>\n",
       "      <td>81922.01</td>\n",
       "    </tr>\n",
       "    <tr>\n",
       "      <th>1</th>\n",
       "      <td>2021-01-02</td>\n",
       "      <td>B</td>\n",
       "      <td>2861</td>\n",
       "      <td>345</td>\n",
       "      <td>29660000</td>\n",
       "      <td>85971.01</td>\n",
       "    </tr>\n",
       "    <tr>\n",
       "      <th>2</th>\n",
       "      <td>2021-01-03</td>\n",
       "      <td>A</td>\n",
       "      <td>6596</td>\n",
       "      <td>748</td>\n",
       "      <td>62000000</td>\n",
       "      <td>82887.70</td>\n",
       "    </tr>\n",
       "    <tr>\n",
       "      <th>3</th>\n",
       "      <td>2021-01-03</td>\n",
       "      <td>B</td>\n",
       "      <td>6619</td>\n",
       "      <td>754</td>\n",
       "      <td>65960000</td>\n",
       "      <td>87480.11</td>\n",
       "    </tr>\n",
       "    <tr>\n",
       "      <th>4</th>\n",
       "      <td>2021-01-04</td>\n",
       "      <td>A</td>\n",
       "      <td>6566</td>\n",
       "      <td>799</td>\n",
       "      <td>64250000</td>\n",
       "      <td>80413.02</td>\n",
       "    </tr>\n",
       "  </tbody>\n",
       "</table>\n",
       "</div>"
      ],
      "text/plain": [
       "        date group  number_of_visits  number_of_purchases  total_sum   \n",
       "0 2021-01-02     A              2854                  359   29410000  \\\n",
       "1 2021-01-02     B              2861                  345   29660000   \n",
       "2 2021-01-03     A              6596                  748   62000000   \n",
       "3 2021-01-03     B              6619                  754   65960000   \n",
       "4 2021-01-04     A              6566                  799   64250000   \n",
       "\n",
       "   average_check_test  \n",
       "0            81922.01  \n",
       "1            85971.01  \n",
       "2            82887.70  \n",
       "3            87480.11  \n",
       "4            80413.02  "
      ]
     },
     "execution_count": 15,
     "metadata": {},
     "output_type": "execute_result"
    }
   ],
   "source": [
    "ab_daily_table = ab_data_del_dubl.groupby(\n",
    "    ['date','group'],as_index=False)[\n",
    "        ['user_id','purchase','price']].agg(\n",
    "            func={'user_id':'count','purchase':'sum','price':'sum'}).rename(\n",
    "                columns={'user_id':'number_of_visits','purchase':'number_of_purchases','price':'total_sum'})\n",
    "# Добавим так же ежедневный средний чек.\n",
    "\n",
    "ab_daily_table['average_check_test'] = np.round(ab_daily_table['total_sum']/ab_daily_table['number_of_purchases'],2)\n",
    "ab_daily_table.head()\n"
   ]
  },
  {
   "cell_type": "markdown",
   "id": "60fe0424",
   "metadata": {},
   "source": [
    "\n",
    "\n",
    "Рассчитаем кумулятивные показатели:\n",
    "\n",
    "*  кумулятивное количество посещений страницы;\n",
    "*  кумулятивное количество покупок;\n",
    "*  кумулятивную сумму покупок.\n",
    "\n"
   ]
  },
  {
   "cell_type": "markdown",
   "id": "db22f2d8",
   "metadata": {},
   "source": [
    "\n",
    "\n",
    "<strong>Кумулятивная метрика</strong>  — это отображение целевой метрики, когда вы отслеживаете её поведение за каждый день — накопленным итогом по дням. "
   ]
  },
  {
   "cell_type": "code",
   "execution_count": 16,
   "id": "33009931",
   "metadata": {},
   "outputs": [
    {
     "data": {
      "application/vnd.microsoft.datawrangler.viewer.v0+json": {
       "columns": [
        {
         "name": "index",
         "rawType": "int64",
         "type": "integer"
        },
        {
         "name": "date",
         "rawType": "datetime64[ns]",
         "type": "datetime"
        },
        {
         "name": "group",
         "rawType": "object",
         "type": "string"
        },
        {
         "name": "number_of_visits",
         "rawType": "int64",
         "type": "integer"
        },
        {
         "name": "number_of_purchases",
         "rawType": "int64",
         "type": "integer"
        },
        {
         "name": "total_sum",
         "rawType": "int64",
         "type": "integer"
        },
        {
         "name": "average_check_test",
         "rawType": "float64",
         "type": "float"
        },
        {
         "name": "comulative_number_of_visits",
         "rawType": "int64",
         "type": "integer"
        },
        {
         "name": "comulative_number_of_purchases",
         "rawType": "int64",
         "type": "integer"
        },
        {
         "name": "comulative_total_sum",
         "rawType": "int64",
         "type": "integer"
        }
       ],
       "ref": "723ee8e5-3ee2-44b3-afc1-a306cc4a63a2",
       "rows": [
        [
         "0",
         "2021-01-02 00:00:00",
         "A",
         "2854",
         "359",
         "29410000",
         "81922.01",
         "2854",
         "359",
         "29410000"
        ],
        [
         "1",
         "2021-01-02 00:00:00",
         "B",
         "2861",
         "345",
         "29660000",
         "85971.01",
         "2861",
         "345",
         "29660000"
        ],
        [
         "2",
         "2021-01-03 00:00:00",
         "A",
         "6596",
         "748",
         "62000000",
         "82887.7",
         "9450",
         "1107",
         "91410000"
        ],
        [
         "3",
         "2021-01-03 00:00:00",
         "B",
         "6619",
         "754",
         "65960000",
         "87480.11",
         "9480",
         "1099",
         "95620000"
        ],
        [
         "4",
         "2021-01-04 00:00:00",
         "A",
         "6566",
         "799",
         "64250000",
         "80413.02",
         "16016",
         "1906",
         "155660000"
        ]
       ],
       "shape": {
        "columns": 9,
        "rows": 5
       }
      },
      "text/html": [
       "<div>\n",
       "<style scoped>\n",
       "    .dataframe tbody tr th:only-of-type {\n",
       "        vertical-align: middle;\n",
       "    }\n",
       "\n",
       "    .dataframe tbody tr th {\n",
       "        vertical-align: top;\n",
       "    }\n",
       "\n",
       "    .dataframe thead th {\n",
       "        text-align: right;\n",
       "    }\n",
       "</style>\n",
       "<table border=\"1\" class=\"dataframe\">\n",
       "  <thead>\n",
       "    <tr style=\"text-align: right;\">\n",
       "      <th></th>\n",
       "      <th>date</th>\n",
       "      <th>group</th>\n",
       "      <th>number_of_visits</th>\n",
       "      <th>number_of_purchases</th>\n",
       "      <th>total_sum</th>\n",
       "      <th>average_check_test</th>\n",
       "      <th>comulative_number_of_visits</th>\n",
       "      <th>comulative_number_of_purchases</th>\n",
       "      <th>comulative_total_sum</th>\n",
       "    </tr>\n",
       "  </thead>\n",
       "  <tbody>\n",
       "    <tr>\n",
       "      <th>0</th>\n",
       "      <td>2021-01-02</td>\n",
       "      <td>A</td>\n",
       "      <td>2854</td>\n",
       "      <td>359</td>\n",
       "      <td>29410000</td>\n",
       "      <td>81922.01</td>\n",
       "      <td>2854</td>\n",
       "      <td>359</td>\n",
       "      <td>29410000</td>\n",
       "    </tr>\n",
       "    <tr>\n",
       "      <th>1</th>\n",
       "      <td>2021-01-02</td>\n",
       "      <td>B</td>\n",
       "      <td>2861</td>\n",
       "      <td>345</td>\n",
       "      <td>29660000</td>\n",
       "      <td>85971.01</td>\n",
       "      <td>2861</td>\n",
       "      <td>345</td>\n",
       "      <td>29660000</td>\n",
       "    </tr>\n",
       "    <tr>\n",
       "      <th>2</th>\n",
       "      <td>2021-01-03</td>\n",
       "      <td>A</td>\n",
       "      <td>6596</td>\n",
       "      <td>748</td>\n",
       "      <td>62000000</td>\n",
       "      <td>82887.70</td>\n",
       "      <td>9450</td>\n",
       "      <td>1107</td>\n",
       "      <td>91410000</td>\n",
       "    </tr>\n",
       "    <tr>\n",
       "      <th>3</th>\n",
       "      <td>2021-01-03</td>\n",
       "      <td>B</td>\n",
       "      <td>6619</td>\n",
       "      <td>754</td>\n",
       "      <td>65960000</td>\n",
       "      <td>87480.11</td>\n",
       "      <td>9480</td>\n",
       "      <td>1099</td>\n",
       "      <td>95620000</td>\n",
       "    </tr>\n",
       "    <tr>\n",
       "      <th>4</th>\n",
       "      <td>2021-01-04</td>\n",
       "      <td>A</td>\n",
       "      <td>6566</td>\n",
       "      <td>799</td>\n",
       "      <td>64250000</td>\n",
       "      <td>80413.02</td>\n",
       "      <td>16016</td>\n",
       "      <td>1906</td>\n",
       "      <td>155660000</td>\n",
       "    </tr>\n",
       "  </tbody>\n",
       "</table>\n",
       "</div>"
      ],
      "text/plain": [
       "        date group  number_of_visits  number_of_purchases  total_sum   \n",
       "0 2021-01-02     A              2854                  359   29410000  \\\n",
       "1 2021-01-02     B              2861                  345   29660000   \n",
       "2 2021-01-03     A              6596                  748   62000000   \n",
       "3 2021-01-03     B              6619                  754   65960000   \n",
       "4 2021-01-04     A              6566                  799   64250000   \n",
       "\n",
       "   average_check_test  comulative_number_of_visits   \n",
       "0            81922.01                         2854  \\\n",
       "1            85971.01                         2861   \n",
       "2            82887.70                         9450   \n",
       "3            87480.11                         9480   \n",
       "4            80413.02                        16016   \n",
       "\n",
       "   comulative_number_of_purchases  comulative_total_sum  \n",
       "0                             359              29410000  \n",
       "1                             345              29660000  \n",
       "2                            1107              91410000  \n",
       "3                            1099              95620000  \n",
       "4                            1906             155660000  "
      ]
     },
     "execution_count": 16,
     "metadata": {},
     "output_type": "execute_result"
    }
   ],
   "source": [
    "ab_daily_table['comulative_number_of_visits'] = ab_daily_table.groupby('group')['number_of_visits'].cumsum()\n",
    "ab_daily_table['comulative_number_of_purchases'] = ab_daily_table.groupby('group')['number_of_purchases'].cumsum()\n",
    "ab_daily_table['comulative_total_sum'] = ab_daily_table.groupby('group')['total_sum'].cumsum()\n",
    "\n",
    "ab_daily_table.head()"
   ]
  },
  {
   "cell_type": "markdown",
   "id": "278bcb2b",
   "metadata": {},
   "source": [
    "Добавляем в нашу таблицу комулятивные данные конверсии и среднего чека. И посмотрим на графике, что у нас получилось."
   ]
  },
  {
   "cell_type": "code",
   "execution_count": 17,
   "id": "0a202fb1",
   "metadata": {},
   "outputs": [
    {
     "data": {
      "application/vnd.microsoft.datawrangler.viewer.v0+json": {
       "columns": [
        {
         "name": "index",
         "rawType": "int64",
         "type": "integer"
        },
        {
         "name": "date",
         "rawType": "datetime64[ns]",
         "type": "datetime"
        },
        {
         "name": "group",
         "rawType": "object",
         "type": "string"
        },
        {
         "name": "number_of_visits",
         "rawType": "int64",
         "type": "integer"
        },
        {
         "name": "number_of_purchases",
         "rawType": "int64",
         "type": "integer"
        },
        {
         "name": "total_sum",
         "rawType": "int64",
         "type": "integer"
        },
        {
         "name": "average_check_test",
         "rawType": "float64",
         "type": "float"
        },
        {
         "name": "comulative_number_of_visits",
         "rawType": "int64",
         "type": "integer"
        },
        {
         "name": "comulative_number_of_purchases",
         "rawType": "int64",
         "type": "integer"
        },
        {
         "name": "comulative_total_sum",
         "rawType": "int64",
         "type": "integer"
        },
        {
         "name": "comulative_conversion",
         "rawType": "float64",
         "type": "float"
        },
        {
         "name": "comulative_average_check_test",
         "rawType": "float64",
         "type": "float"
        }
       ],
       "ref": "268ab6ba-6d10-43ed-8c60-d6efc0f84823",
       "rows": [
        [
         "0",
         "2021-01-02 00:00:00",
         "A",
         "2854",
         "359",
         "29410000",
         "81922.01",
         "2854",
         "359",
         "29410000",
         "0.1257883672039243",
         "81922.00557103065"
        ],
        [
         "1",
         "2021-01-02 00:00:00",
         "B",
         "2861",
         "345",
         "29660000",
         "85971.01",
         "2861",
         "345",
         "29660000",
         "0.12058720727018525",
         "85971.01449275362"
        ],
        [
         "2",
         "2021-01-03 00:00:00",
         "A",
         "6596",
         "748",
         "62000000",
         "82887.7",
         "9450",
         "1107",
         "91410000",
         "0.11714285714285715",
         "82574.52574525746"
        ],
        [
         "3",
         "2021-01-03 00:00:00",
         "B",
         "6619",
         "754",
         "65960000",
         "87480.11",
         "9480",
         "1099",
         "95620000",
         "0.1159282700421941",
         "87006.3694267516"
        ],
        [
         "4",
         "2021-01-04 00:00:00",
         "A",
         "6566",
         "799",
         "64250000",
         "80413.02",
         "16016",
         "1906",
         "155660000",
         "0.119005994005994",
         "81668.41552990556"
        ]
       ],
       "shape": {
        "columns": 11,
        "rows": 5
       }
      },
      "text/html": [
       "<div>\n",
       "<style scoped>\n",
       "    .dataframe tbody tr th:only-of-type {\n",
       "        vertical-align: middle;\n",
       "    }\n",
       "\n",
       "    .dataframe tbody tr th {\n",
       "        vertical-align: top;\n",
       "    }\n",
       "\n",
       "    .dataframe thead th {\n",
       "        text-align: right;\n",
       "    }\n",
       "</style>\n",
       "<table border=\"1\" class=\"dataframe\">\n",
       "  <thead>\n",
       "    <tr style=\"text-align: right;\">\n",
       "      <th></th>\n",
       "      <th>date</th>\n",
       "      <th>group</th>\n",
       "      <th>number_of_visits</th>\n",
       "      <th>number_of_purchases</th>\n",
       "      <th>total_sum</th>\n",
       "      <th>average_check_test</th>\n",
       "      <th>comulative_number_of_visits</th>\n",
       "      <th>comulative_number_of_purchases</th>\n",
       "      <th>comulative_total_sum</th>\n",
       "      <th>comulative_conversion</th>\n",
       "      <th>comulative_average_check_test</th>\n",
       "    </tr>\n",
       "  </thead>\n",
       "  <tbody>\n",
       "    <tr>\n",
       "      <th>0</th>\n",
       "      <td>2021-01-02</td>\n",
       "      <td>A</td>\n",
       "      <td>2854</td>\n",
       "      <td>359</td>\n",
       "      <td>29410000</td>\n",
       "      <td>81922.01</td>\n",
       "      <td>2854</td>\n",
       "      <td>359</td>\n",
       "      <td>29410000</td>\n",
       "      <td>0.125788</td>\n",
       "      <td>81922.005571</td>\n",
       "    </tr>\n",
       "    <tr>\n",
       "      <th>1</th>\n",
       "      <td>2021-01-02</td>\n",
       "      <td>B</td>\n",
       "      <td>2861</td>\n",
       "      <td>345</td>\n",
       "      <td>29660000</td>\n",
       "      <td>85971.01</td>\n",
       "      <td>2861</td>\n",
       "      <td>345</td>\n",
       "      <td>29660000</td>\n",
       "      <td>0.120587</td>\n",
       "      <td>85971.014493</td>\n",
       "    </tr>\n",
       "    <tr>\n",
       "      <th>2</th>\n",
       "      <td>2021-01-03</td>\n",
       "      <td>A</td>\n",
       "      <td>6596</td>\n",
       "      <td>748</td>\n",
       "      <td>62000000</td>\n",
       "      <td>82887.70</td>\n",
       "      <td>9450</td>\n",
       "      <td>1107</td>\n",
       "      <td>91410000</td>\n",
       "      <td>0.117143</td>\n",
       "      <td>82574.525745</td>\n",
       "    </tr>\n",
       "    <tr>\n",
       "      <th>3</th>\n",
       "      <td>2021-01-03</td>\n",
       "      <td>B</td>\n",
       "      <td>6619</td>\n",
       "      <td>754</td>\n",
       "      <td>65960000</td>\n",
       "      <td>87480.11</td>\n",
       "      <td>9480</td>\n",
       "      <td>1099</td>\n",
       "      <td>95620000</td>\n",
       "      <td>0.115928</td>\n",
       "      <td>87006.369427</td>\n",
       "    </tr>\n",
       "    <tr>\n",
       "      <th>4</th>\n",
       "      <td>2021-01-04</td>\n",
       "      <td>A</td>\n",
       "      <td>6566</td>\n",
       "      <td>799</td>\n",
       "      <td>64250000</td>\n",
       "      <td>80413.02</td>\n",
       "      <td>16016</td>\n",
       "      <td>1906</td>\n",
       "      <td>155660000</td>\n",
       "      <td>0.119006</td>\n",
       "      <td>81668.415530</td>\n",
       "    </tr>\n",
       "  </tbody>\n",
       "</table>\n",
       "</div>"
      ],
      "text/plain": [
       "        date group  number_of_visits  number_of_purchases  total_sum   \n",
       "0 2021-01-02     A              2854                  359   29410000  \\\n",
       "1 2021-01-02     B              2861                  345   29660000   \n",
       "2 2021-01-03     A              6596                  748   62000000   \n",
       "3 2021-01-03     B              6619                  754   65960000   \n",
       "4 2021-01-04     A              6566                  799   64250000   \n",
       "\n",
       "   average_check_test  comulative_number_of_visits   \n",
       "0            81922.01                         2854  \\\n",
       "1            85971.01                         2861   \n",
       "2            82887.70                         9450   \n",
       "3            87480.11                         9480   \n",
       "4            80413.02                        16016   \n",
       "\n",
       "   comulative_number_of_purchases  comulative_total_sum   \n",
       "0                             359              29410000  \\\n",
       "1                             345              29660000   \n",
       "2                            1107              91410000   \n",
       "3                            1099              95620000   \n",
       "4                            1906             155660000   \n",
       "\n",
       "   comulative_conversion  comulative_average_check_test  \n",
       "0               0.125788                   81922.005571  \n",
       "1               0.120587                   85971.014493  \n",
       "2               0.117143                   82574.525745  \n",
       "3               0.115928                   87006.369427  \n",
       "4               0.119006                   81668.415530  "
      ]
     },
     "execution_count": 17,
     "metadata": {},
     "output_type": "execute_result"
    }
   ],
   "source": [
    "ab_daily_table['comulative_conversion'] = ab_daily_table['comulative_number_of_purchases']/ab_daily_table['comulative_number_of_visits']\n",
    "ab_daily_table['comulative_average_check_test'] = ab_daily_table['comulative_total_sum']/ab_daily_table['comulative_number_of_purchases']\n",
    "\n",
    "ab_daily_table.head()"
   ]
  },
  {
   "cell_type": "code",
   "execution_count": 18,
   "id": "98633a7f",
   "metadata": {},
   "outputs": [
    {
     "data": {
      "image/png": "[encoded data removed]",
      "text/plain": [
       "<Figure size 2200x1200 with 2 Axes>"
      ]
     },
     "metadata": {},
     "output_type": "display_data"
    }
   ],
   "source": [
    "fig,ax = plt.subplots(2,1,figsize = (22,12))\n",
    "sns.lineplot(ab_daily_table,x='date',y='comulative_conversion',hue='group',ax=ax[0])\n",
    "ax[0].set_title('Комулятивная конверсия')\n",
    "ax[0].set_xlabel('Дата')\n",
    "ax[0].set_ylabel('Уровень конверсии')\n",
    "\n",
    "sns.lineplot(ab_daily_table,x='date',y='comulative_average_check_test',hue='group',ax=ax[1])\n",
    "ax[1].set_title('Комулятивный средний чек')\n",
    "ax[1].set_xlabel('Дата')\n",
    "ax[1].set_ylabel('Уровень среднего чека')\n",
    "plt.show()"
   ]
  },
  {
   "cell_type": "markdown",
   "id": "03afea54",
   "metadata": {},
   "source": [
    "Можем ответить на вопрос, можно ли назвать тест завершенным? Да, можно, метрики стабилизированы. Как и ранее было замечено, конверсия выше в первой группе, а во второй группе выше средний чек."
   ]
  },
  {
   "cell_type": "markdown",
   "id": "0a5fef2f",
   "metadata": {},
   "source": [
    "## 4. Проведение статистического анализа результатов A/B-тестирования:"
   ]
  },
  {
   "cell_type": "markdown",
   "id": "5c7e9ec6",
   "metadata": {},
   "source": [
    "Первое, начнем с конверсии:\n",
    "\n",
    "Итак у нас есть две независимых группы: пользователи в группах A и B не пересекаются. Будем использовать Z-тест для пропорций.\n",
    "\n",
    "* Нулевая гипотеза: разница пропорций в группах A и B равна некоторому заранее заданному числу value.\n",
    "\n",
    "* Альтернативная гипотеза: разница пропорций в группах A и B не равна некоторому заранее заданному числу value.\n",
    "\n",
    "\n",
    "Т.к. по умолчанию $value = 0$ то гипотезы будут иметь вид:\n",
    "* Нулевая гипотеза:  пропорции в группах A и B равны \n",
    "#### $$H0: p_a = p_b$$ \n",
    "\n",
    "* Альтернативная гипотеза: пропорции групп A и B не равны\n",
    "#### $$H1: p_a \\neq p_b$$ \n",
    "\n",
    "\n",
    "\n"
   ]
  },
  {
   "cell_type": "markdown",
   "id": "cc984ac9",
   "metadata": {},
   "source": [
    "Для теста нам необходимы следующие данные:\n",
    "* Общее число успехов по каждой группе\n",
    "* Общее число наблюдений по двум группам\n",
    "* Вид гипотезы, в данном случае она двухсторонняя"
   ]
  },
  {
   "cell_type": "code",
   "execution_count": 19,
   "id": "1bdd27ae",
   "metadata": {},
   "outputs": [
    {
     "name": "stdout",
     "output_type": "stream",
     "text": [
      "p-value:  0.239\n",
      "У нас нет оснований отвергнуть нулевую гипотезу\n"
     ]
    }
   ],
   "source": [
    "alpha = 0.05 # уровень значимости\n",
    "# вычисляем значение p-value для z-теста для пропорций\n",
    "_, p_value = proportions_ztest(\n",
    "    count=ab_table['number_of_purchases'], #число «успехов» выбирается по всем группам общее число успехов\n",
    "    nobs=ab_table['number_of_visits'], #общее число наблюдений, по двум группам\n",
    "    alternative='two-sided') # вид гипотезы, в данном случае двухсторонняя 'smaller' — левосторонняя, 'larger' — правосторонняя\n",
    "# выводим результат на экран\n",
    "print('p-value: ', round(p_value, 3))\n",
    "# сравниваем полученное p-value с уровнем значимости\n",
    "if (p_value <= alpha):\n",
    "    print(\"Отвергаем нулевую гипотезу в пользу альтернативной\")\n",
    "else:\n",
    "    print(\"У нас нет оснований отвергнуть нулевую гипотезу\") "
   ]
  },
  {
   "cell_type": "markdown",
   "id": "2ee48ecd",
   "metadata": {},
   "source": [
    "Z -тест нам показал, что у нас нет оснований отвергать нулевую гипотезу, а значит разницы между двумя типами сайтов по метрике конверсии нет. \n",
    "\n",
    "А что насчет метрики среднего чека... Давайте сделаем статистический тест , что бы выяснить какой именно использовать, нам необходимо понять распределения наших данных. Для этого воспользуемся тестом Андерсона-Дарлинга на нормальность, т.к. у нас большое количество наблюдений и он более чувствителен, чем тест Колмогорова-Смирнова"
   ]
  },
  {
   "cell_type": "code",
   "execution_count": 20,
   "id": "2afe14de",
   "metadata": {},
   "outputs": [
    {
     "data": {
      "text/plain": [
       "AndersonResult(statistic=0.5139243993075091, critical_values=array([0.511, 0.582, 0.699, 0.815, 0.969]), significance_level=array([15. , 10. ,  5. ,  2.5,  1. ]), fit_result=  params: FitParams(loc=80969.2847826087, scale=3096.2847618232436)\n",
       " success: True\n",
       " message: '`anderson` successfully fit the distribution to the data.')"
      ]
     },
     "execution_count": 20,
     "metadata": {},
     "output_type": "execute_result"
    }
   ],
   "source": [
    "A_daily_average_check = ab_daily_table[ab_daily_table['group']=='A']['average_check_test']\n",
    "stats.anderson(A_daily_average_check,dist='norm')\n"
   ]
  },
  {
   "cell_type": "code",
   "execution_count": 21,
   "id": "2afceb01",
   "metadata": {},
   "outputs": [
    {
     "data": {
      "text/plain": [
       "AndersonResult(statistic=0.7873167672201973, critical_values=array([0.511, 0.582, 0.699, 0.815, 0.969]), significance_level=array([15. , 10. ,  5. ,  2.5,  1. ]), fit_result=  params: FitParams(loc=88575.7152173913, scale=2196.619795491306)\n",
       " success: True\n",
       " message: '`anderson` successfully fit the distribution to the data.')"
      ]
     },
     "execution_count": 21,
     "metadata": {},
     "output_type": "execute_result"
    }
   ],
   "source": [
    "B_daily_average_check = ab_daily_table[ab_daily_table['group']=='B']['average_check_test']\n",
    "stats.anderson(B_daily_average_check,dist='norm')\n"
   ]
  },
  {
   "cell_type": "markdown",
   "id": "986a1d58",
   "metadata": {},
   "source": [
    "Так же проверим равенство дисперсий.\n",
    "\n",
    "Точность результатов:\n",
    "\n",
    "T-тест  основан на предположении о равенстве дисперсий. Если это предположение не выполняется, то результаты теста могут быть неточными или недостоверными.\n"
   ]
  },
  {
   "cell_type": "code",
   "execution_count": 22,
   "id": "767085bc",
   "metadata": {},
   "outputs": [
    {
     "name": "stdout",
     "output_type": "stream",
     "text": [
      "p-value = 0.262\n",
      "Дисперсии одинаковы, в stats.ttest_ind нужно использовать параметр equal_var=True.\n"
     ]
    }
   ],
   "source": [
    "result = stats.levene(A_daily_average_check , B_daily_average_check )\n",
    "p = result[1]\n",
    "print('p-value = {:.3f}'.format(p))\n",
    "# интерпретируем результат\n",
    "if p <= alpha:\n",
    "    print('Дисперсии не одинаковы, в stats.ttest_ind нужно использовать параметр equal_var=False.')\n",
    "else:\n",
    "    print('Дисперсии одинаковы, в stats.ttest_ind нужно использовать параметр equal_var=True.')"
   ]
  },
  {
   "cell_type": "markdown",
   "id": "50ca8772",
   "metadata": {},
   "source": [
    "По данным тестам видим, что в обоих случаях распределение признака средний чек является нормальным. В первом случае значение статистического теста ниже чем критическое значение 5% и ниже уровня значимости, а во втором случае выше, но тут надо заметить, что при уровне значимости 2.5% и 1% статистическое значение выше чем критическое, получается, что при уровне значимости в 1% тест нам говорит, что распределение нормальное.\n",
    "\n",
    "В итоге у нас есть два независимых нормальных распределения признака 'средний чек'. В этом случае будем использовать двухвыборочный T-критерий для средних.\n",
    "\n",
    "Сформулируем наши гипотезы:\n",
    "* Нулевая гипотеза:  средний чек в группах A и B одинаков \n",
    "#### $$H0: \\mu_a = \\mu_b$$ \n",
    "\n",
    "* Альтернативная гипотеза: средний чек в группах A и B разный\n",
    "#### $$H1: \\mu_a \\neq \\mu_b$$ "
   ]
  },
  {
   "cell_type": "code",
   "execution_count": 23,
   "id": "92c1bbb9",
   "metadata": {},
   "outputs": [
    {
     "name": "stdout",
     "output_type": "stream",
     "text": [
      "p-value: 0.0\n",
      "Отвергаем нулевую гипотезу в пользу альтернативной\n"
     ]
    }
   ],
   "source": [
    "from scipy.stats import ttest_ind\n",
    "# вычисляем результат T-теста для выборок\n",
    "results = ttest_ind(\n",
    "    a=A_daily_average_check,\n",
    "    b=B_daily_average_check,\n",
    "    alternative='two-sided',\n",
    "    equal_var=True)\n",
    "print('p-value:', round(results.pvalue, 2))\n",
    "\n",
    "# сравниваем полученное p-value с уровнем значимости\n",
    "if results.pvalue <= alpha:\n",
    "    print(\"Отвергаем нулевую гипотезу в пользу альтернативной\")\n",
    "else:\n",
    "    print(\"У нас нет оснований отвергнуть нулевую гипотезу\")"
   ]
  },
  {
   "cell_type": "markdown",
   "id": "36f4dab7",
   "metadata": {},
   "source": [
    "На основании статистического теста у нас нет повода не принять альтернативную гипотезу. Что существует статистическая разница между группой А и группой B по метрике 'средний чек'.\n",
    "\n",
    "Думаю стоит проверить, не выше ли во второй группе средний чек.\n",
    "\n",
    "Тогда сформулируем наши гипотезы заново:\n",
    "* Нулевая гипотеза:  средний чек в группе A больше либо равен среднему чеку в группе B \n",
    "#### $$H0: \\mu_a \\=> \\mu_b$$ \n",
    "\n",
    "* Альтернативная гипотеза: средний чек в группе B строго больше среднего чека в группе А\n",
    "#### $$H1: \\mu_a < \\mu_b$$ \n",
    "\n"
   ]
  },
  {
   "cell_type": "code",
   "execution_count": 24,
   "id": "5f732041",
   "metadata": {},
   "outputs": [
    {
     "name": "stdout",
     "output_type": "stream",
     "text": [
      "p-value: 0.0\n",
      "Отвергаем нулевую гипотезу в пользу альтернативной\n"
     ]
    }
   ],
   "source": [
    "from scipy.stats import ttest_ind\n",
    "# вычисляем результат T-теста для выборок\n",
    "results = ttest_ind(\n",
    "    a=A_daily_average_check,\n",
    "    b=B_daily_average_check,\n",
    "    alternative='less')\n",
    "print('p-value:', round(results.pvalue, 2))\n",
    "\n",
    "# сравниваем полученное p-value с уровнем значимости\n",
    "if results.pvalue <= alpha:\n",
    "    print(\"Отвергаем нулевую гипотезу в пользу альтернативной\")\n",
    "else:\n",
    "    print(\"У нас нет оснований отвергнуть нулевую гипотезу\")"
   ]
  },
  {
   "cell_type": "markdown",
   "id": "2a56a4ab",
   "metadata": {},
   "source": [
    "Если полученное значение p-value ниже уровня значимости ($\\alpha$), это означает, что результаты статистически значимы и согласуются с альтернативной гипотезой. Нет повода отвергать альтернативную гипотезу, что средний чек в группе B выше чем средний чек в группе A."
   ]
  },
  {
   "cell_type": "markdown",
   "id": "a31bdbe6",
   "metadata": {},
   "source": [
    "Построим 95% доверительные интервалы для:\n",
    "* конверсий в каждой из групп\n",
    "* разницы конверсий в группах\n",
    "* ежедневного среднего чека в каждой из групп"
   ]
  },
  {
   "cell_type": "markdown",
   "id": "7e7d7745",
   "metadata": {},
   "source": [
    "С помощью дверительного интервала найдем в каких рамках находится наш абсолютный показатель конверсии и среднего чека. Напомню, \n",
    "доверительный интервал — интервал, который с заданной надёжностью покрывает значение неизвестного параметра. \n",
    "\n",
    "У нас нет абсолютных величин, есть только выборочные, поэтому нам подойдет t-распределение Стьюдента. Уильям Сили Госсет (1876—1937) первым опубликовал работы, посвящённые этому распределению, под псевдонимом «Стьюдент». \n",
    "\n",
    "Из формулы доверительного интервала для истинного среднего при известном стандартном отклонении:\n",
    "\n",
    "$$ \\mu \\in (X_{mean} - z_{crit} \\times \\frac{\\sigma}{\\sqrt{n}}; X_{mean} + z_{crit} \\times \\frac{\\sigma}{\\sqrt{n}}) $$\n",
    "\n",
    "где:\n",
    "\n",
    "- $X_{mean}$ - полученное выборочное среднее\n",
    "- $\\sigma$ - истинное стандартное отклонение\n",
    "- n - количество наблюдений\n",
    "- $z_{crit}$ - случайная величина, имеющая нормальное распределение с математическим ожиданием (центром) $\\mu = 0$ и стандартным отклонением (разбросом) $\\sigma = 1$. При этом данный компонент выбирается исходя из уровня доверия(надежности). \n",
    "\n",
    "$$\\gamma = 1- \\alpha$$\n",
    "\n",
    "\n",
    "- $\\alpha$ - уровень значимости или вероятность ошибки I рода.\n",
    "- $\\gamma$ - Тогда уровень надёжности — вероятность НЕ допустить ошибку I рода\n",
    "\n",
    "Из данной формулы мы находим уровень значимости $\\alpha$:\n",
    "$$\\alpha = 1- \\gamma = 1 - 0.95 = 0.05$$\n",
    "Т.к. уровень значимости берется с разных сторон распределения то формула будет иметь вид:\n",
    "\n",
    "$$ \\mu \\in (X_{mean} - z_{\\frac{\\alpha}{2}} \\times \\frac{\\sigma}{\\sqrt{n}}; X_{mean} + z_{\\frac{\\alpha}{2}} \\times \\frac{\\sigma}{\\sqrt{n}}) $$\n",
    "\n",
    "\n",
    "А дальше можно по [таблице](https://notebooks.githubusercontent.com/view/%27https://github.com/Davids001/Projects/blob/main/project-13.ipynb) , подобрав нужное значение $\\alpha$ найти значение $z_{crit}$ . Для нашего уровня доверия $z_{crit}=1.960$ \n",
    "\n",
    "Напомню, мы ищем доверительный интервал для истинного среднего, имея выборочное среднее и выборочное стандартное отклонение. \n",
    "\n",
    "Поэтому формула для этого подойдет с t-распределением Стьюдента:\n",
    "\n",
    "$$ \\mu \\in (X_{mean} - t_{crit} \\times \\frac{X_{std}}{\\sqrt{n}}; X_{mean} + t_{crit} \\times \\frac{X_{std}}{\\sqrt{n}}) $$\n",
    "\n",
    "где:\n",
    "\n",
    "- $X_{mean}$ - полученное выборочное среднее\n",
    "- $X_{std}$ - выборочное стандартное отклонение\n",
    "- n - количество наблюдений\n",
    "- $t_{crit}$ - случайная величина, имеющая t-распределение. Данный элемент формулы можно так же найти по таблице, которую мы использовали ранее. Отличие лишь в том, что для поиска данного элемента необходимо знать число степеней свободы  $k=n-1$ \n",
    "$$t_{crit}(k)=t_{\\frac{1-\\gamma}{2}}(k)=t_{\\frac{\\alpha}{2}}(k)$$\n",
    "\n",
    "После преобразования, наша формула будет выглядеть следующим образом:\n",
    "\n",
    "$$ \\mu \\in (X_{mean} - t_{\\frac{\\alpha}{2}}(k) \\times \\frac{X_{std}}{\\sqrt{n}}; X_{mean} + t_{\\frac{\\alpha}{2}}(k) \\times \\frac{X_{std}}{\\sqrt{n}}) $$\n",
    "\n",
    "Найдем выборочное математическое ожидание и выборочное стандартное отклонение."
   ]
  },
  {
   "cell_type": "markdown",
   "id": "1c5c2635",
   "metadata": {},
   "source": [
    "Конверсия - это случайная величина, имеющая распределение Бернулли. Такая случайная величина имеет два возможных исхода: \n",
    "* успех (1) — конверсия осуществлена (пользователь совершил целевое действие);\n",
    "* неуспех (0) — пользователь не совершил целевое действие. \n",
    "\n",
    "То есть конверсия — это вероятность того, что пользователь совершит целевое действие (вероятность успеха традиционно обозначается как p)\n",
    "\n",
    "$$p=\\frac{N+}{N}$$\n",
    "\n",
    "* $N+$ - количество успехов(1)\n",
    "* $N$  - общее количество исходов"
   ]
  },
  {
   "cell_type": "markdown",
   "id": "8a7ea033",
   "metadata": {},
   "source": [
    "Давайте вспомним, что истинное среднее (математическое ожидание) случайной величины, распределённой по закону Бернулли, равно $\\mu=p$, а истинное стандартное отклонение $\\sigma=\\sqrt{p(1-p)}$. А так как у нас есть только выборочные данные, то заменим в уравнении выборочное среднее на $X_p$ "
   ]
  },
  {
   "cell_type": "markdown",
   "id": "11d29aad",
   "metadata": {},
   "source": [
    "Запишем нашу формулу для корверсии:\n",
    "$$ \\mu \\in (X_p - t_{\\frac{\\alpha}{2}} \\times \\sqrt{\\frac{X_p(1-Xp)}{n}}; X_p + t_{\\frac{\\alpha}{2}} \\times \\sqrt{\\frac{X_p(1-Xp)}{n}}) $$"
   ]
  },
  {
   "cell_type": "code",
   "execution_count": 25,
   "id": "690d6a6b",
   "metadata": {},
   "outputs": [
    {
     "name": "stdout",
     "output_type": "stream",
     "text": [
      "Доверительный интервал для конверсии в группе А: (11.86, 12.2)\n",
      "Доверительный интервал для конверсии в группе B: (11.72, 12.06)\n"
     ]
    }
   ],
   "source": [
    "def t_mean_conf_interval(x_p, n, gamma=0.95):  \n",
    "    alpha = 1 - gamma # уровень значимости\n",
    "    x_std = (x_p*(1-x_p))**0.5\n",
    "    k = n-1\n",
    "    t_crit = -t.ppf(alpha/2,k) # t-критическое\n",
    "    eps = t_crit * x_std/(n ** 0.5) # погрешность\n",
    "    lower_bound = x_p - eps # левая (нижняя) граница\n",
    "    upper_bound = x_p + eps # правая (верхняя) граница\n",
    "    # возвращаем кортеж из границ интервала\n",
    "    return lower_bound, upper_bound\n",
    "\n",
    "X_p_A = ab_table.loc['A','total_conversion']/100\n",
    "n_A = ab_table.loc['A','number_of_visits']\n",
    "\n",
    "X_p_B = ab_table.loc['B','total_conversion']/100\n",
    "n_B = ab_table.loc['B','number_of_visits']\n",
    "# cтроим доверительный интервал для среднего при неизвестном СКО\n",
    "lower_bound_A, upper_bound_A = t_mean_conf_interval(x_p=X_p_A, n=n_A)\n",
    "lower_bound_B, upper_bound_B = t_mean_conf_interval(x_p=X_p_B, n=n_B)\n",
    "\n",
    "# выводим результат\n",
    "print('Доверительный интервал для конверсии в группе А: {}'.format((round(lower_bound_A * 100, 2), round(upper_bound_A * 100, 2))))\n",
    "print('Доверительный интервал для конверсии в группе B: {}'.format((round(lower_bound_B * 100, 2), round(upper_bound_B * 100, 2))))"
   ]
  },
  {
   "cell_type": "markdown",
   "id": "9a042a77",
   "metadata": {},
   "source": [
    "Если схематично изобразить построенные доверительные интервалы для конверсии в группах А и B, можно отчётливо заметить пересечение интервалов (обозначено синим цветом):\n",
    "\n",
    "<img src=ris.jpg width=1200px height=30%>\n",
    "\n",
    "Что значит такое пересечение интервалов для нас? Это значит, что существует вероятность, что истинное значение конверсии в обеих группах может совпасть (попасть в синюю зону). То есть мы не можем однозначно сказать, есть ли разница в конверсиях.Лучше построить доверительный интервал разницы пропорций (конверсий).\n",
    "\n",
    "Построим доверительный интервал разницы конверсий в группах, для этого воспользуемся формулой:\n",
    "\n",
    "$$\\Delta p = \\Delta X_p \\pm t_{crit} \\times \\sqrt{\\frac{X_{p_a}(1-X_{p_a})}{n_a}+\\frac{X_{p_b}(1-X_{p_b})}{n_b}}$$\n",
    "\n",
    "где:\n",
    "\n",
    "$\\Delta p=p_b-p_a$ - истинная разница конверсий групп B и A \n",
    "\n",
    "$\\Delta X_p = X_{p_b} - X_{p_a}$ - выборочная разница конверсий групп B и A\n",
    "\n",
    "\n",
    "\n"
   ]
  },
  {
   "cell_type": "code",
   "execution_count": 26,
   "id": "4d25abdf",
   "metadata": {},
   "outputs": [],
   "source": [
    "# функция, определяющая истинную разницу конверсий\n",
    "def diff_proportion_conf_interval(x_p, n, gamma=0.95):\n",
    "    alpha = 1 - gamma # уровень значимости\n",
    "    diff = x_p[1] - x_p[0] # выборочная разница конверсий групп B и A\n",
    "    k = n[1]-1 # степень свободы т.к. выборки больше 1000 наблюдений и примерно одинаковые, взял число меньшее\n",
    "    t_crit = -t.ppf(alpha/2,k) #z-критическое\n",
    "    eps = t_crit * (x_p[0] * (1 - x_p[0])/n[0] + x_p[1] * (1 - x_p[1])/n[1]) ** 0.5 # погрешность\n",
    "    lower_bound = diff - eps # левая (нижняя) граница\n",
    "    upper_bound = diff + eps # правая (верхняя) граница\n",
    "    # возвращаем кортеж из  границ интервала\n",
    "    return lower_bound, upper_bound"
   ]
  },
  {
   "cell_type": "code",
   "execution_count": 27,
   "id": "fa3f95a9",
   "metadata": {},
   "outputs": [
    {
     "name": "stdout",
     "output_type": "stream",
     "text": [
      "Доверительный интервал для разности конверсий: (-0.38, 0.1)\n"
     ]
    }
   ],
   "source": [
    "# размеры выборок групп А и B\n",
    "n = [ab_table.loc['A','number_of_visits'], ab_table.loc['B','number_of_visits']]\n",
    "# выборочная пропорция групп A и B\n",
    "x_p = [ab_table.loc['A','total_conversion']/100, ab_table.loc['B','total_conversion']/100]\n",
    "\n",
    "\n",
    "# строим доверительный интервал для разности пропорций\n",
    "lower_bound, upper_bound = diff_proportion_conf_interval(x_p=x_p, n=n)\n",
    "\n",
    "\n",
    "# выводим результат\n",
    "print('Доверительный интервал для разности конверсий: {}'.format((round(lower_bound*100, 2), round(upper_bound*100, 2))))"
   ]
  },
  {
   "cell_type": "markdown",
   "id": "8159d514",
   "metadata": {},
   "source": [
    "Отсюда можно сделать вывод, что статистической разницы в конверсии между вариантами А и B не существует, то есть они являются равнозначными по данной метрике, т.к. полученный интервал для разниц охватывает точку 0. Так же это подтвердили выше в нашем тесте.\n"
   ]
  },
  {
   "cell_type": "markdown",
   "id": "a7e39bce",
   "metadata": {},
   "source": [
    "Теперь проверим наши результаты по среднему чеку. "
   ]
  },
  {
   "cell_type": "code",
   "execution_count": 28,
   "id": "1798559f",
   "metadata": {},
   "outputs": [
    {
     "data": {
      "application/vnd.microsoft.datawrangler.viewer.v0+json": {
       "columns": [
        {
         "name": "group",
         "rawType": "object",
         "type": "string"
        },
        {
         "name": "std",
         "rawType": "float64",
         "type": "float"
        },
        {
         "name": "mean",
         "rawType": "float64",
         "type": "float"
        }
       ],
       "ref": "e25de731-487c-42d1-abb2-f19b6c350665",
       "rows": [
        [
         "A",
         "3096.284761823246",
         "80969.2847826087"
        ],
        [
         "B",
         "2196.619795491308",
         "88575.7152173913"
        ]
       ],
       "shape": {
        "columns": 2,
        "rows": 2
       }
      },
      "text/html": [
       "<div>\n",
       "<style scoped>\n",
       "    .dataframe tbody tr th:only-of-type {\n",
       "        vertical-align: middle;\n",
       "    }\n",
       "\n",
       "    .dataframe tbody tr th {\n",
       "        vertical-align: top;\n",
       "    }\n",
       "\n",
       "    .dataframe thead th {\n",
       "        text-align: right;\n",
       "    }\n",
       "</style>\n",
       "<table border=\"1\" class=\"dataframe\">\n",
       "  <thead>\n",
       "    <tr style=\"text-align: right;\">\n",
       "      <th></th>\n",
       "      <th>std</th>\n",
       "      <th>mean</th>\n",
       "    </tr>\n",
       "    <tr>\n",
       "      <th>group</th>\n",
       "      <th></th>\n",
       "      <th></th>\n",
       "    </tr>\n",
       "  </thead>\n",
       "  <tbody>\n",
       "    <tr>\n",
       "      <th>A</th>\n",
       "      <td>3096.284762</td>\n",
       "      <td>80969.284783</td>\n",
       "    </tr>\n",
       "    <tr>\n",
       "      <th>B</th>\n",
       "      <td>2196.619795</td>\n",
       "      <td>88575.715217</td>\n",
       "    </tr>\n",
       "  </tbody>\n",
       "</table>\n",
       "</div>"
      ],
      "text/plain": [
       "               std          mean\n",
       "group                           \n",
       "A      3096.284762  80969.284783\n",
       "B      2196.619795  88575.715217"
      ]
     },
     "execution_count": 28,
     "metadata": {},
     "output_type": "execute_result"
    }
   ],
   "source": [
    "table_sm = ab_daily_table.groupby('group')['average_check_test'].agg(['std','mean'])\n",
    "table_sm "
   ]
  },
  {
   "cell_type": "markdown",
   "id": "d8ba7085",
   "metadata": {},
   "source": [
    "Доверительный интервал для среднего при неизвестном стандартном отклонении:\n",
    "$$ \\mu \\in (X_{mean} - t_{\\frac{\\alpha}{2}} \\times \\frac{X_{std}}{\\sqrt{n}}; X_{mean} + t_{\\frac{\\alpha}{2}} \\times \\frac{X_{std}}{\\sqrt{n}} $$\n",
    "\n",
    "где:\n",
    "\n",
    "$X_{mean}$ - выборочное среднее для выборки\n",
    "\n",
    "$t_{\\frac{\\alpha}{2}}$ - случайная величина, имеющая нормальное распределение с математическим ожиданием (центром) $\\mu = 0$ и стандартным отклонением (разбросом) $\\sigma = 1$. При этом данный компонент выбирается исходя из уровня доверия(надежности). \n",
    "\n",
    "$X_{std}$ - Выборочное стандартное отклонение\n",
    "\n",
    "$n$ - количество наблюдений в выборке\n",
    "\n",
    "Найдем доверительные интервалы для средних наших выборок среднего чека.\n"
   ]
  },
  {
   "cell_type": "code",
   "execution_count": 29,
   "id": "90b28195",
   "metadata": {},
   "outputs": [
    {
     "name": "stdout",
     "output_type": "stream",
     "text": [
      "Доверительный интервал для конверсии в группе А: (80953.36, 80985.21)\n",
      "Доверительный интервал для конверсии в группе B: (88564.42, 88587.01)\n"
     ]
    }
   ],
   "source": [
    "# функция для поиска доверительного интервала для среднего чека\n",
    "def t_mean_average_check(x_mean,x_std, n, gamma=0.95):  \n",
    "    alpha = 1 - gamma # уровень значимости\n",
    "    k = n-1 # степерь свободы\n",
    "    t_crit = -t.ppf(alpha/2,k) # t-критическое\n",
    "    eps = t_crit * x_std/(n ** 0.5) # погрешность\n",
    "    lower_bound = x_mean - eps # левая (нижняя) граница\n",
    "    upper_bound = x_mean + eps # правая (верхняя) граница\n",
    "    # возвращаем кортеж из границ интервала\n",
    "    return lower_bound, upper_bound\n",
    "\n",
    "x_mean_A = table_sm.loc['A','mean']\n",
    "x_std_A = table_sm.loc['A','std']\n",
    "n_A = ab_table.loc['A','number_of_visits']\n",
    "\n",
    "x_mean_B = table_sm.loc['B','mean']\n",
    "x_std_B = table_sm.loc['B','std']\n",
    "n_B = ab_table.loc['B','number_of_visits']\n",
    "# cтроим доверительный интервал для среднего при неизвестном СКО\n",
    "lower_bound_A, upper_bound_A = t_mean_average_check(x_mean_A,x_std_A, n_A)\n",
    "lower_bound_B, upper_bound_B = t_mean_average_check(x_mean_B,x_std_B, n_B)\n",
    "\n",
    "# выводим результат\n",
    "print('Доверительный интервал для конверсии в группе А: {}'.format((round(lower_bound_A, 2), round(upper_bound_A, 2))))\n",
    "print('Доверительный интервал для конверсии в группе B: {}'.format((round(lower_bound_B, 2), round(upper_bound_B, 2))))"
   ]
  },
  {
   "cell_type": "markdown",
   "id": "05702701",
   "metadata": {},
   "source": [
    "Видим, что при пересечении данных интервалов у нас будет пустое множество. Отрисуем доверительный интервал для разницы средних чеков по следующей формуле:\n",
    "\n",
    "$$ \\Delta \\mu = \\Delta X_{mean} \\pm t_{\\frac{\\alpha}{2}} \\times \\sqrt{\\frac{X_{std_a}^2}{n_a} +\\frac{X_{std_b}^2}{n_b}}$$\n",
    "\n",
    "где:\n",
    "\n",
    "$\\Delta X_{mean} = X_{mean_b} - X_{mean_a}$ - разница выборочных средних для двух выборок\n",
    "\n",
    "$t_{\\frac{\\alpha}{2}}$ - случайная величина, имеющая нормальное распределение с математическим ожиданием (центром) $\\mu = 0$ и стандартным отклонением (разбросом) $\\sigma = 1$. При этом данный компонент выбирается исходя из уровня доверия(надежности). \n",
    "\n",
    "$X_{std_a}, X_{std_b}$ - выборочныe стандартныe отклонения.\n",
    "\n",
    "$n$ - количество наблюдений.\n",
    "\n",
    "Расчитаем наш доверительный интервал для разницы."
   ]
  },
  {
   "cell_type": "code",
   "execution_count": 30,
   "id": "247a14a1",
   "metadata": {},
   "outputs": [],
   "source": [
    "# функция, определяющая истинную разницу конверсий\n",
    "def diff_average_check_interval(x_means,x_std, n, gamma=0.95):\n",
    "    alpha = 1 - gamma # уровень значимости\n",
    "    diff = x_means[1] - x_means[0] # выборочная разница конверсий групп B и A\n",
    "    k = n[0]-1 # степень свободы т.к. выборки больше 1000 наблюдений и примерно одинаковые, взял число меньшее\n",
    "    t_crit = -t.ppf(alpha/2,k) #z-критическое\n",
    "    eps = t_crit * ((x_std[0]**2/(n[0]) +x_std[1]**2/(n[1]) )**0.5)  # погрешность\n",
    "    lower_bound = diff - eps # левая (нижняя) граница\n",
    "    upper_bound = diff + eps # правая (верхняя) граница\n",
    "    # возвращаем кортеж из  границ интервала\n",
    "    return lower_bound, upper_bound"
   ]
  },
  {
   "cell_type": "code",
   "execution_count": 31,
   "id": "b653e9e0",
   "metadata": {},
   "outputs": [
    {
     "name": "stdout",
     "output_type": "stream",
     "text": [
      "Доверительный интервал для разности средних чеков: (7586.91, 7625.95)\n"
     ]
    }
   ],
   "source": [
    "# размеры выборок групп А и B\n",
    "n = [ab_table.loc['A','number_of_visits'], ab_table.loc['B','number_of_visits']]\n",
    "# выборочные средние для среднего чека групп A и B\n",
    "x_means = [table_sm.loc['A','mean'], table_sm.loc['B','mean']]\n",
    "# выборочные стандартные отклонения\n",
    "x_std = [table_sm.loc['A','std'], table_sm.loc['B','std']]\n",
    "\n",
    "# строим доверительный интервал для разности средних \n",
    "lower_bound, upper_bound = diff_average_check_interval(x_means,x_std, n, gamma=0.95)\n",
    "\n",
    "\n",
    "# выводим результат\n",
    "print('Доверительный интервал для разности средних чеков: {}'.format((round(lower_bound, 2), round(upper_bound, 2))))"
   ]
  },
  {
   "cell_type": "markdown",
   "id": "faed2c4e",
   "metadata": {},
   "source": [
    "В итоге мы получаем, что интервал у нас получился положительным, в таком случае вариант B более эффективен по метрике среднего чека, чем вариант А с заданной надёжностью 95%."
   ]
  },
  {
   "cell_type": "markdown",
   "metadata": {},
   "source": [
    "__Окончательный итог:__     \n",
    "\n",
    "Получается, что наши две группы на протяжении всего времени теста показывают одиннаковый уровень конверсии, т.е. два варианта страницы интернет сайта не повлияли на то, что бы люди во второй группе покупали больше путевок чем в первой или меньше. А вот покатель среднего чека, мы видим, что выше и это доказали тестом. Получается для компании второй вариант дизайна интернет сайта выгоднее чем первый, т.к. во втором случае повышается уровень дохода засчет увеличения у покупателей интереса к путевкам более дорого сигмента."
   ]
  }
 ],
 "metadata": {
  "kernelspec": {
   "display_name": "Python 3",
   "language": "python",
   "name": "python3"
  },
  "language_info": {
   "codemirror_mode": {
    "name": "ipython",
    "version": 3
   },
   "file_extension": ".py",
   "mimetype": "text/x-python",
   "name": "python",
   "nbconvert_exporter": "python",
   "pygments_lexer": "ipython3",
   "version": "3.12.3"
  }
 },
 "nbformat": 4,
 "nbformat_minor": 5
}
