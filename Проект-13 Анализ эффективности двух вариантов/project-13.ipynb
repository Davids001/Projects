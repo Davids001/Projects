{
 "cells": [
  {
   "cell_type": "markdown",
   "id": "15b7ea2b",
   "metadata": {},
   "source": [
    "<img src=mainfoto.jpg width=1500px height=300px> "
   ]
  },
  {
   "cell_type": "markdown",
   "id": "ae808007",
   "metadata": {},
   "source": [
    "# <center> <strong> АНАЛИЗ ЭФФЕКТИВНОСТИ ДВУХ ВАРИАНТОВ ПОСАДОЧНОЙ СТРАНИЦЫ"
   ]
  },
  {
   "cell_type": "markdown",
   "id": "f9390528",
   "metadata": {},
   "source": [
    "#### <strong> Компания планирует запустить новую акцию, чтобы продать как можно больше туров. Команда разработала два варианта посадочной страницы официального сайта и провела A/B-тестирование. В результате эксперимента были собраны данные. \n",
    "\n",
    "#### <strong> Необходимо проанализировать эффективность обоих вариантов посадочной страницы сразу по двум критериям — конверсии покупки и ежедневному среднему чеку.\n",
    "\n",
    "#### <strong> A/B-тестирование было проведено корректно, проверить факт стабилизации метрик и обоснованно ответить на ключевой вопрос турагентства: какой вариант посадочной страницы более предпочтителен по метрикам конверсии и ежедневного среднего чека?"
   ]
  },
  {
   "cell_type": "markdown",
   "id": "795fbd4e",
   "metadata": {},
   "source": [
    "## 1. Анализ данных и  их предобработка."
   ]
  },
  {
   "cell_type": "code",
   "execution_count": 37,
   "id": "7aeb59b2",
   "metadata": {},
   "outputs": [],
   "source": [
    "# Импортируем библиотеки для работы.\n",
    "import pandas as pd\n",
    "import numpy as np\n",
    "import matplotlib.pyplot as plt\n",
    "import seaborn as sns\n",
    "import datetime\n",
    "from statsmodels.stats.proportion import proportions_ztest"
   ]
  },
  {
   "cell_type": "code",
   "execution_count": 38,
   "id": "afe86f96",
   "metadata": {},
   "outputs": [
    {
     "name": "stdout",
     "output_type": "stream",
     "text": [
      "(294478, 5)\n"
     ]
    },
    {
     "data": {
      "application/vnd.microsoft.datawrangler.viewer.v0+json": {
       "columns": [
        {
         "name": "index",
         "rawType": "int64",
         "type": "integer"
        },
        {
         "name": "user_id",
         "rawType": "int64",
         "type": "integer"
        },
        {
         "name": "date",
         "rawType": "object",
         "type": "string"
        },
        {
         "name": "group",
         "rawType": "object",
         "type": "string"
        },
        {
         "name": "purchase",
         "rawType": "int64",
         "type": "integer"
        },
        {
         "name": "price",
         "rawType": "int64",
         "type": "integer"
        }
       ],
       "conversionMethod": "pd.DataFrame",
       "ref": "616187da-80ad-43ca-a87e-1c30a25e118f",
       "rows": [
        [
         "0",
         "851104",
         "2021-01-21",
         "A",
         "0",
         "0"
        ],
        [
         "1",
         "804228",
         "2021-01-12",
         "A",
         "0",
         "0"
        ]
       ],
       "shape": {
        "columns": 5,
        "rows": 2
       }
      },
      "text/html": [
       "<div>\n",
       "<style scoped>\n",
       "    .dataframe tbody tr th:only-of-type {\n",
       "        vertical-align: middle;\n",
       "    }\n",
       "\n",
       "    .dataframe tbody tr th {\n",
       "        vertical-align: top;\n",
       "    }\n",
       "\n",
       "    .dataframe thead th {\n",
       "        text-align: right;\n",
       "    }\n",
       "</style>\n",
       "<table border=\"1\" class=\"dataframe\">\n",
       "  <thead>\n",
       "    <tr style=\"text-align: right;\">\n",
       "      <th></th>\n",
       "      <th>user_id</th>\n",
       "      <th>date</th>\n",
       "      <th>group</th>\n",
       "      <th>purchase</th>\n",
       "      <th>price</th>\n",
       "    </tr>\n",
       "  </thead>\n",
       "  <tbody>\n",
       "    <tr>\n",
       "      <th>0</th>\n",
       "      <td>851104</td>\n",
       "      <td>2021-01-21</td>\n",
       "      <td>A</td>\n",
       "      <td>0</td>\n",
       "      <td>0</td>\n",
       "    </tr>\n",
       "    <tr>\n",
       "      <th>1</th>\n",
       "      <td>804228</td>\n",
       "      <td>2021-01-12</td>\n",
       "      <td>A</td>\n",
       "      <td>0</td>\n",
       "      <td>0</td>\n",
       "    </tr>\n",
       "  </tbody>\n",
       "</table>\n",
       "</div>"
      ],
      "text/plain": [
       "   user_id        date group  purchase  price\n",
       "0   851104  2021-01-21     A         0      0\n",
       "1   804228  2021-01-12     A         0      0"
      ]
     },
     "execution_count": 38,
     "metadata": {},
     "output_type": "execute_result"
    }
   ],
   "source": [
    "# Вносим наш датасет в переменную\n",
    "\n",
    "ab_data = pd.read_csv('ab_data_tourist.csv')\n",
    "print(ab_data.shape)\n",
    "ab_data.head(2)\n"
   ]
  },
  {
   "cell_type": "markdown",
   "id": "f4882627",
   "metadata": {},
   "source": [
    "Наша таблица представлена следующими полями:\n",
    "\n",
    "        user_id — идентификатор пользователя, зашедшего на сайт;\n",
    "        data — дата посещения сайта;\n",
    "        group — группа теста (контрольная — А или тестовая — B);\n",
    "        purchase — признак покупки: совершил ли пользователь покупку тура (1 — да, 0 — нет);\n",
    "        price — цена купленного тура (если покупка не состоялась, цена равна 0).\n"
   ]
  },
  {
   "cell_type": "markdown",
   "id": "11ca03d6",
   "metadata": {},
   "source": [
    "Видим, что размер нашего датасета чуть меньше 300 тыс. наблюдений и 5 столбцов, описание которых выше."
   ]
  },
  {
   "cell_type": "code",
   "execution_count": 39,
   "id": "f5732c87",
   "metadata": {},
   "outputs": [
    {
     "name": "stdout",
     "output_type": "stream",
     "text": [
      "<class 'pandas.core.frame.DataFrame'>\n",
      "RangeIndex: 294478 entries, 0 to 294477\n",
      "Data columns (total 5 columns):\n",
      " #   Column    Non-Null Count   Dtype \n",
      "---  ------    --------------   ----- \n",
      " 0   user_id   294478 non-null  int64 \n",
      " 1   date      294478 non-null  object\n",
      " 2   group     294478 non-null  object\n",
      " 3   purchase  294478 non-null  int64 \n",
      " 4   price     294478 non-null  int64 \n",
      "dtypes: int64(3), object(2)\n",
      "memory usage: 11.2+ MB\n"
     ]
    }
   ],
   "source": [
    "# Проверим датасет на наличие пропусков и типа данных в столбцах. \n",
    "ab_data.info()"
   ]
  },
  {
   "cell_type": "markdown",
   "id": "826a7230",
   "metadata": {},
   "source": [
    "В данных отсутствуют пропуски."
   ]
  },
  {
   "cell_type": "code",
   "execution_count": 40,
   "id": "625ed633",
   "metadata": {},
   "outputs": [
    {
     "data": {
      "application/vnd.microsoft.datawrangler.viewer.v0+json": {
       "columns": [
        {
         "name": "index",
         "rawType": "int64",
         "type": "integer"
        },
        {
         "name": "user_id",
         "rawType": "int64",
         "type": "integer"
        },
        {
         "name": "date",
         "rawType": "datetime64[ns]",
         "type": "datetime"
        },
        {
         "name": "group",
         "rawType": "object",
         "type": "string"
        },
        {
         "name": "purchase",
         "rawType": "int64",
         "type": "integer"
        },
        {
         "name": "price",
         "rawType": "int64",
         "type": "integer"
        }
       ],
       "conversionMethod": "pd.DataFrame",
       "ref": "4e20dc27-8b6d-4742-879c-5ddfe1b91bd7",
       "rows": [
        [
         "0",
         "851104",
         "2021-01-21 00:00:00",
         "A",
         "0",
         "0"
        ],
        [
         "1",
         "804228",
         "2021-01-12 00:00:00",
         "A",
         "0",
         "0"
        ],
        [
         "2",
         "661590",
         "2021-01-11 00:00:00",
         "B",
         "0",
         "0"
        ],
        [
         "3",
         "853541",
         "2021-01-08 00:00:00",
         "B",
         "0",
         "0"
        ],
        [
         "4",
         "864975",
         "2021-01-21 00:00:00",
         "A",
         "1",
         "150000"
        ]
       ],
       "shape": {
        "columns": 5,
        "rows": 5
       }
      },
      "text/html": [
       "<div>\n",
       "<style scoped>\n",
       "    .dataframe tbody tr th:only-of-type {\n",
       "        vertical-align: middle;\n",
       "    }\n",
       "\n",
       "    .dataframe tbody tr th {\n",
       "        vertical-align: top;\n",
       "    }\n",
       "\n",
       "    .dataframe thead th {\n",
       "        text-align: right;\n",
       "    }\n",
       "</style>\n",
       "<table border=\"1\" class=\"dataframe\">\n",
       "  <thead>\n",
       "    <tr style=\"text-align: right;\">\n",
       "      <th></th>\n",
       "      <th>user_id</th>\n",
       "      <th>date</th>\n",
       "      <th>group</th>\n",
       "      <th>purchase</th>\n",
       "      <th>price</th>\n",
       "    </tr>\n",
       "  </thead>\n",
       "  <tbody>\n",
       "    <tr>\n",
       "      <th>0</th>\n",
       "      <td>851104</td>\n",
       "      <td>2021-01-21</td>\n",
       "      <td>A</td>\n",
       "      <td>0</td>\n",
       "      <td>0</td>\n",
       "    </tr>\n",
       "    <tr>\n",
       "      <th>1</th>\n",
       "      <td>804228</td>\n",
       "      <td>2021-01-12</td>\n",
       "      <td>A</td>\n",
       "      <td>0</td>\n",
       "      <td>0</td>\n",
       "    </tr>\n",
       "    <tr>\n",
       "      <th>2</th>\n",
       "      <td>661590</td>\n",
       "      <td>2021-01-11</td>\n",
       "      <td>B</td>\n",
       "      <td>0</td>\n",
       "      <td>0</td>\n",
       "    </tr>\n",
       "    <tr>\n",
       "      <th>3</th>\n",
       "      <td>853541</td>\n",
       "      <td>2021-01-08</td>\n",
       "      <td>B</td>\n",
       "      <td>0</td>\n",
       "      <td>0</td>\n",
       "    </tr>\n",
       "    <tr>\n",
       "      <th>4</th>\n",
       "      <td>864975</td>\n",
       "      <td>2021-01-21</td>\n",
       "      <td>A</td>\n",
       "      <td>1</td>\n",
       "      <td>150000</td>\n",
       "    </tr>\n",
       "  </tbody>\n",
       "</table>\n",
       "</div>"
      ],
      "text/plain": [
       "   user_id       date group  purchase   price\n",
       "0   851104 2021-01-21     A         0       0\n",
       "1   804228 2021-01-12     A         0       0\n",
       "2   661590 2021-01-11     B         0       0\n",
       "3   853541 2021-01-08     B         0       0\n",
       "4   864975 2021-01-21     A         1  150000"
      ]
     },
     "execution_count": 40,
     "metadata": {},
     "output_type": "execute_result"
    }
   ],
   "source": [
    "# Преобразуем столбец с датой в формат datetime.\n",
    "ab_data['date'] = pd.to_datetime(ab_data['date'],format='%Y-%m-%d')\n",
    "ab_data.head()"
   ]
  },
  {
   "cell_type": "markdown",
   "id": "4d645414",
   "metadata": {},
   "source": [
    "Дата стоит не по порядку, для дальнейшей работы это необходимо исправить. Отфильтруем дату в порядке убывания."
   ]
  },
  {
   "cell_type": "code",
   "execution_count": 41,
   "id": "1859d6ca",
   "metadata": {},
   "outputs": [
    {
     "data": {
      "application/vnd.microsoft.datawrangler.viewer.v0+json": {
       "columns": [
        {
         "name": "index",
         "rawType": "int64",
         "type": "integer"
        },
        {
         "name": "user_id",
         "rawType": "int64",
         "type": "integer"
        },
        {
         "name": "date",
         "rawType": "datetime64[ns]",
         "type": "datetime"
        },
        {
         "name": "group",
         "rawType": "object",
         "type": "string"
        },
        {
         "name": "purchase",
         "rawType": "int64",
         "type": "integer"
        },
        {
         "name": "price",
         "rawType": "int64",
         "type": "integer"
        }
       ],
       "conversionMethod": "pd.DataFrame",
       "ref": "6e35fa70-8ee1-4417-a5c2-9d35d43ea56a",
       "rows": [
        [
         "0",
         "637212",
         "2021-01-02 00:00:00",
         "B",
         "1",
         "100000"
        ],
        [
         "1",
         "924138",
         "2021-01-02 00:00:00",
         "B",
         "0",
         "0"
        ],
        [
         "2",
         "659091",
         "2021-01-02 00:00:00",
         "A",
         "0",
         "0"
        ],
        [
         "3",
         "653194",
         "2021-01-02 00:00:00",
         "B",
         "0",
         "0"
        ],
        [
         "4",
         "810044",
         "2021-01-02 00:00:00",
         "A",
         "0",
         "0"
        ],
        [
         "5",
         "645986",
         "2021-01-02 00:00:00",
         "B",
         "0",
         "0"
        ],
        [
         "6",
         "939054",
         "2021-01-02 00:00:00",
         "B",
         "0",
         "0"
        ],
        [
         "7",
         "677911",
         "2021-01-02 00:00:00",
         "B",
         "0",
         "0"
        ],
        [
         "8",
         "894268",
         "2021-01-02 00:00:00",
         "B",
         "0",
         "0"
        ],
        [
         "9",
         "638214",
         "2021-01-02 00:00:00",
         "A",
         "0",
         "0"
        ],
        [
         "10",
         "689851",
         "2021-01-02 00:00:00",
         "B",
         "0",
         "0"
        ],
        [
         "11",
         "783862",
         "2021-01-02 00:00:00",
         "B",
         "0",
         "0"
        ],
        [
         "12",
         "803791",
         "2021-01-02 00:00:00",
         "B",
         "0",
         "0"
        ],
        [
         "13",
         "835182",
         "2021-01-02 00:00:00",
         "B",
         "0",
         "0"
        ],
        [
         "14",
         "717767",
         "2021-01-02 00:00:00",
         "B",
         "0",
         "0"
        ],
        [
         "15",
         "917244",
         "2021-01-02 00:00:00",
         "B",
         "0",
         "0"
        ],
        [
         "16",
         "929703",
         "2021-01-02 00:00:00",
         "B",
         "0",
         "0"
        ],
        [
         "17",
         "908044",
         "2021-01-02 00:00:00",
         "B",
         "0",
         "0"
        ],
        [
         "18",
         "891085",
         "2021-01-02 00:00:00",
         "B",
         "0",
         "0"
        ],
        [
         "19",
         "934736",
         "2021-01-02 00:00:00",
         "A",
         "0",
         "0"
        ],
        [
         "20",
         "632934",
         "2021-01-02 00:00:00",
         "A",
         "0",
         "0"
        ],
        [
         "21",
         "709969",
         "2021-01-02 00:00:00",
         "A",
         "1",
         "60000"
        ],
        [
         "22",
         "708930",
         "2021-01-02 00:00:00",
         "A",
         "0",
         "0"
        ],
        [
         "23",
         "908074",
         "2021-01-02 00:00:00",
         "B",
         "0",
         "0"
        ],
        [
         "24",
         "826361",
         "2021-01-02 00:00:00",
         "B",
         "0",
         "0"
        ],
        [
         "25",
         "916253",
         "2021-01-02 00:00:00",
         "A",
         "0",
         "0"
        ],
        [
         "26",
         "716910",
         "2021-01-02 00:00:00",
         "A",
         "0",
         "0"
        ],
        [
         "27",
         "897309",
         "2021-01-02 00:00:00",
         "B",
         "0",
         "0"
        ],
        [
         "28",
         "897775",
         "2021-01-02 00:00:00",
         "B",
         "0",
         "0"
        ],
        [
         "29",
         "939636",
         "2021-01-02 00:00:00",
         "A",
         "0",
         "0"
        ],
        [
         "30",
         "768665",
         "2021-01-02 00:00:00",
         "B",
         "0",
         "0"
        ],
        [
         "31",
         "851253",
         "2021-01-02 00:00:00",
         "A",
         "1",
         "10000"
        ],
        [
         "32",
         "725393",
         "2021-01-02 00:00:00",
         "A",
         "0",
         "0"
        ],
        [
         "33",
         "719408",
         "2021-01-02 00:00:00",
         "A",
         "0",
         "0"
        ],
        [
         "34",
         "888678",
         "2021-01-02 00:00:00",
         "A",
         "0",
         "0"
        ],
        [
         "35",
         "660106",
         "2021-01-02 00:00:00",
         "B",
         "0",
         "0"
        ],
        [
         "36",
         "831053",
         "2021-01-02 00:00:00",
         "B",
         "0",
         "0"
        ],
        [
         "37",
         "654205",
         "2021-01-02 00:00:00",
         "B",
         "1",
         "200000"
        ],
        [
         "38",
         "887419",
         "2021-01-02 00:00:00",
         "B",
         "0",
         "0"
        ],
        [
         "39",
         "874091",
         "2021-01-02 00:00:00",
         "A",
         "0",
         "0"
        ],
        [
         "40",
         "937176",
         "2021-01-02 00:00:00",
         "A",
         "0",
         "0"
        ],
        [
         "41",
         "803112",
         "2021-01-02 00:00:00",
         "B",
         "0",
         "0"
        ],
        [
         "42",
         "845226",
         "2021-01-02 00:00:00",
         "B",
         "1",
         "150000"
        ],
        [
         "43",
         "639036",
         "2021-01-02 00:00:00",
         "A",
         "0",
         "0"
        ],
        [
         "44",
         "862598",
         "2021-01-02 00:00:00",
         "B",
         "0",
         "0"
        ],
        [
         "45",
         "671185",
         "2021-01-02 00:00:00",
         "A",
         "1",
         "150000"
        ],
        [
         "46",
         "632895",
         "2021-01-02 00:00:00",
         "A",
         "0",
         "0"
        ],
        [
         "47",
         "640419",
         "2021-01-02 00:00:00",
         "B",
         "0",
         "0"
        ],
        [
         "48",
         "759825",
         "2021-01-02 00:00:00",
         "B",
         "0",
         "0"
        ],
        [
         "49",
         "661538",
         "2021-01-02 00:00:00",
         "B",
         "0",
         "0"
        ]
       ],
       "shape": {
        "columns": 5,
        "rows": 294478
       }
      },
      "text/html": [
       "<div>\n",
       "<style scoped>\n",
       "    .dataframe tbody tr th:only-of-type {\n",
       "        vertical-align: middle;\n",
       "    }\n",
       "\n",
       "    .dataframe tbody tr th {\n",
       "        vertical-align: top;\n",
       "    }\n",
       "\n",
       "    .dataframe thead th {\n",
       "        text-align: right;\n",
       "    }\n",
       "</style>\n",
       "<table border=\"1\" class=\"dataframe\">\n",
       "  <thead>\n",
       "    <tr style=\"text-align: right;\">\n",
       "      <th></th>\n",
       "      <th>user_id</th>\n",
       "      <th>date</th>\n",
       "      <th>group</th>\n",
       "      <th>purchase</th>\n",
       "      <th>price</th>\n",
       "    </tr>\n",
       "  </thead>\n",
       "  <tbody>\n",
       "    <tr>\n",
       "      <th>0</th>\n",
       "      <td>637212</td>\n",
       "      <td>2021-01-02</td>\n",
       "      <td>B</td>\n",
       "      <td>1</td>\n",
       "      <td>100000</td>\n",
       "    </tr>\n",
       "    <tr>\n",
       "      <th>1</th>\n",
       "      <td>924138</td>\n",
       "      <td>2021-01-02</td>\n",
       "      <td>B</td>\n",
       "      <td>0</td>\n",
       "      <td>0</td>\n",
       "    </tr>\n",
       "    <tr>\n",
       "      <th>2</th>\n",
       "      <td>659091</td>\n",
       "      <td>2021-01-02</td>\n",
       "      <td>A</td>\n",
       "      <td>0</td>\n",
       "      <td>0</td>\n",
       "    </tr>\n",
       "    <tr>\n",
       "      <th>3</th>\n",
       "      <td>653194</td>\n",
       "      <td>2021-01-02</td>\n",
       "      <td>B</td>\n",
       "      <td>0</td>\n",
       "      <td>0</td>\n",
       "    </tr>\n",
       "    <tr>\n",
       "      <th>4</th>\n",
       "      <td>810044</td>\n",
       "      <td>2021-01-02</td>\n",
       "      <td>A</td>\n",
       "      <td>0</td>\n",
       "      <td>0</td>\n",
       "    </tr>\n",
       "    <tr>\n",
       "      <th>...</th>\n",
       "      <td>...</td>\n",
       "      <td>...</td>\n",
       "      <td>...</td>\n",
       "      <td>...</td>\n",
       "      <td>...</td>\n",
       "    </tr>\n",
       "    <tr>\n",
       "      <th>294473</th>\n",
       "      <td>907259</td>\n",
       "      <td>2021-01-24</td>\n",
       "      <td>A</td>\n",
       "      <td>1</td>\n",
       "      <td>60000</td>\n",
       "    </tr>\n",
       "    <tr>\n",
       "      <th>294474</th>\n",
       "      <td>820211</td>\n",
       "      <td>2021-01-24</td>\n",
       "      <td>A</td>\n",
       "      <td>0</td>\n",
       "      <td>0</td>\n",
       "    </tr>\n",
       "    <tr>\n",
       "      <th>294475</th>\n",
       "      <td>694025</td>\n",
       "      <td>2021-01-24</td>\n",
       "      <td>B</td>\n",
       "      <td>0</td>\n",
       "      <td>0</td>\n",
       "    </tr>\n",
       "    <tr>\n",
       "      <th>294476</th>\n",
       "      <td>763379</td>\n",
       "      <td>2021-01-24</td>\n",
       "      <td>B</td>\n",
       "      <td>0</td>\n",
       "      <td>0</td>\n",
       "    </tr>\n",
       "    <tr>\n",
       "      <th>294477</th>\n",
       "      <td>880926</td>\n",
       "      <td>2021-01-24</td>\n",
       "      <td>B</td>\n",
       "      <td>0</td>\n",
       "      <td>0</td>\n",
       "    </tr>\n",
       "  </tbody>\n",
       "</table>\n",
       "<p>294478 rows × 5 columns</p>\n",
       "</div>"
      ],
      "text/plain": [
       "        user_id       date group  purchase   price\n",
       "0        637212 2021-01-02     B         1  100000\n",
       "1        924138 2021-01-02     B         0       0\n",
       "2        659091 2021-01-02     A         0       0\n",
       "3        653194 2021-01-02     B         0       0\n",
       "4        810044 2021-01-02     A         0       0\n",
       "...         ...        ...   ...       ...     ...\n",
       "294473   907259 2021-01-24     A         1   60000\n",
       "294474   820211 2021-01-24     A         0       0\n",
       "294475   694025 2021-01-24     B         0       0\n",
       "294476   763379 2021-01-24     B         0       0\n",
       "294477   880926 2021-01-24     B         0       0\n",
       "\n",
       "[294478 rows x 5 columns]"
      ]
     },
     "execution_count": 41,
     "metadata": {},
     "output_type": "execute_result"
    }
   ],
   "source": [
    "ab_data.sort_values(by='date',ignore_index=True,inplace=True)\n",
    "ab_data"
   ]
  },
  {
   "cell_type": "markdown",
   "id": "2d601927",
   "metadata": {},
   "source": [
    "Исправили. Для правдоподобности теста необходимо проверить общую длительность каждого теста, что бы все было справедливо и реально."
   ]
  },
  {
   "cell_type": "code",
   "execution_count": 42,
   "id": "fb8f3e3a",
   "metadata": {},
   "outputs": [
    {
     "name": "stdout",
     "output_type": "stream",
     "text": [
      "количество дней шло тестирование в группе А : 23\n",
      "количество дней шло тестирование в группе B : 23\n",
      "--------------------------------------------------\n",
      "дата начала теста\n"
     ]
    },
    {
     "data": {
      "text/plain": [
       "group\n",
       "A   2021-01-02\n",
       "B   2021-01-02\n",
       "Name: date, dtype: datetime64[ns]"
      ]
     },
     "metadata": {},
     "output_type": "display_data"
    },
    {
     "name": "stdout",
     "output_type": "stream",
     "text": [
      "     \n",
      "дата конца теста\n"
     ]
    },
    {
     "data": {
      "text/plain": [
       "group\n",
       "A   2021-01-24\n",
       "B   2021-01-24\n",
       "Name: date, dtype: datetime64[ns]"
      ]
     },
     "execution_count": 42,
     "metadata": {},
     "output_type": "execute_result"
    }
   ],
   "source": [
    "# Даты начала двух тестов и количество дней процесса\n",
    "print('количество дней шло тестирование в группе А : {}'.format(ab_data[ab_data['group']=='A']['date'].nunique()))\n",
    "print('количество дней шло тестирование в группе B : {}'.format(ab_data[ab_data['group']=='B']['date'].nunique()))\n",
    "print('--------------------------------------------------')\n",
    "print('дата начала теста')\n",
    "display(ab_data.groupby('group')['date'].first())\n",
    "print('     ')\n",
    "print('дата конца теста')\n",
    "ab_data.groupby('group')['date'].last()"
   ]
  },
  {
   "cell_type": "markdown",
   "id": "076bb747",
   "metadata": {},
   "source": [
    "По датасету видно, что тесты проходили в один период времени и одинаковое количество дней. Уточним количество наблюдений в каждой группе."
   ]
  },
  {
   "cell_type": "code",
   "execution_count": 43,
   "id": "54b7626b",
   "metadata": {},
   "outputs": [
    {
     "name": "stdout",
     "output_type": "stream",
     "text": [
      "Количество посещений сайта в группе А: 147202\n",
      "Количество посещений сайта в группе B: 147276\n"
     ]
    }
   ],
   "source": [
    "n_A = ab_data[ab_data['group']=='A'].shape[0]\n",
    "n_B = ab_data[ab_data['group']=='B'].shape[0]\n",
    "\n",
    "print('Количество посещений сайта в группе А: {}'.format(n_A))\n",
    "print('Количество посещений сайта в группе B: {}'.format(n_B))"
   ]
  },
  {
   "cell_type": "markdown",
   "id": "1f9340fd",
   "metadata": {},
   "source": [
    "Составы групп сбалансированы. Проверим, а есть ли пользователи, которые случайным образом попали в обе группы и сколько таких, если имеется?"
   ]
  },
  {
   "cell_type": "code",
   "execution_count": 44,
   "id": "f22426b7",
   "metadata": {},
   "outputs": [
    {
     "name": "stdout",
     "output_type": "stream",
     "text": [
      "Количество пользователей, которые попали в обе группы: 1895\n"
     ]
    }
   ],
   "source": [
    "# Воспользуемся свойством множества и выделим в каждой группе уникальных пользователей, \n",
    "unique_user_A = set(ab_data[ab_data['group']=='A']['user_id'])\n",
    "unique_user_B = set(ab_data[ab_data['group']=='B']['user_id'])\n",
    "\n",
    "# Дальше проверим пересечение двух групп.\n",
    "interception_group = unique_user_A.intersection(unique_user_B)\n",
    "# уточним количество пользователей.\n",
    "print('Количество пользователей, которые попали в обе группы:', len(interception_group))"
   ]
  },
  {
   "cell_type": "markdown",
   "id": "4617b407",
   "metadata": {},
   "source": [
    "Да уж, действительно такие люди в наших группах присутствуют и не мало. Необходимо удалить таких пользователей с двух групп сразу и записать датасет уже в новую переменную."
   ]
  },
  {
   "cell_type": "code",
   "execution_count": 45,
   "id": "0dd3bb02",
   "metadata": {},
   "outputs": [],
   "source": [
    "ab_data_del_dubl = ab_data[~ab_data['user_id'].isin(interception_group)]"
   ]
  },
  {
   "cell_type": "markdown",
   "id": "3713e274",
   "metadata": {},
   "source": [
    "## 2. Первичный анализ результатов A/B-тестирования:"
   ]
  },
  {
   "cell_type": "markdown",
   "id": "6837148f",
   "metadata": {},
   "source": [
    "Рассчитаем вспомогательные показатели для контрольной и тестовой групп:\n",
    "\n",
    "*  количество посещений сайта;\n",
    "*  суммарное количество совершённых покупок;\n",
    "*  сумма всех покупок.\n"
   ]
  },
  {
   "cell_type": "code",
   "execution_count": 46,
   "id": "ecaa9865",
   "metadata": {},
   "outputs": [],
   "source": [
    "# Разобьем наши данные по группам, что бы в дальнейшем было проще к ним обращаться.\n",
    "group_A = ab_data_del_dubl[ab_data_del_dubl['group']=='A']\n",
    "group_B = ab_data_del_dubl[ab_data_del_dubl['group']=='B']"
   ]
  },
  {
   "cell_type": "code",
   "execution_count": 47,
   "id": "38a37b8a",
   "metadata": {},
   "outputs": [
    {
     "data": {
      "application/vnd.microsoft.datawrangler.viewer.v0+json": {
       "columns": [
        {
         "name": "group",
         "rawType": "object",
         "type": "string"
        },
        {
         "name": "number_of_visits",
         "rawType": "int64",
         "type": "integer"
        },
        {
         "name": "number_of_purchases",
         "rawType": "int64",
         "type": "integer"
        },
        {
         "name": "total_sum",
         "rawType": "int64",
         "type": "integer"
        }
       ],
       "conversionMethod": "pd.DataFrame",
       "ref": "544dfca7-c356-4f8c-bda2-6e0e9886ca3b",
       "rows": [
        [
         "A",
         "145307",
         "17487",
         "1417780000"
        ],
        [
         "B",
         "145381",
         "17290",
         "1533010000"
        ]
       ],
       "shape": {
        "columns": 3,
        "rows": 2
       }
      },
      "text/html": [
       "<div>\n",
       "<style scoped>\n",
       "    .dataframe tbody tr th:only-of-type {\n",
       "        vertical-align: middle;\n",
       "    }\n",
       "\n",
       "    .dataframe tbody tr th {\n",
       "        vertical-align: top;\n",
       "    }\n",
       "\n",
       "    .dataframe thead th {\n",
       "        text-align: right;\n",
       "    }\n",
       "</style>\n",
       "<table border=\"1\" class=\"dataframe\">\n",
       "  <thead>\n",
       "    <tr style=\"text-align: right;\">\n",
       "      <th></th>\n",
       "      <th>number_of_visits</th>\n",
       "      <th>number_of_purchases</th>\n",
       "      <th>total_sum</th>\n",
       "    </tr>\n",
       "    <tr>\n",
       "      <th>group</th>\n",
       "      <th></th>\n",
       "      <th></th>\n",
       "      <th></th>\n",
       "    </tr>\n",
       "  </thead>\n",
       "  <tbody>\n",
       "    <tr>\n",
       "      <th>A</th>\n",
       "      <td>145307</td>\n",
       "      <td>17487</td>\n",
       "      <td>1417780000</td>\n",
       "    </tr>\n",
       "    <tr>\n",
       "      <th>B</th>\n",
       "      <td>145381</td>\n",
       "      <td>17290</td>\n",
       "      <td>1533010000</td>\n",
       "    </tr>\n",
       "  </tbody>\n",
       "</table>\n",
       "</div>"
      ],
      "text/plain": [
       "       number_of_visits  number_of_purchases   total_sum\n",
       "group                                                   \n",
       "A                145307                17487  1417780000\n",
       "B                145381                17290  1533010000"
      ]
     },
     "execution_count": 47,
     "metadata": {},
     "output_type": "execute_result"
    }
   ],
   "source": [
    "ab_table = ab_data_del_dubl.groupby('group'\n",
    "                         )[['user_id','purchase','price']\n",
    "                           ].agg(func={'user_id':'count','purchase':'sum','price':'sum'}\n",
    "                                 ).rename(columns={'user_id':'number_of_visits','purchase':'number_of_purchases','price':'total_sum'})\n",
    "ab_table"
   ]
  },
  {
   "cell_type": "markdown",
   "id": "be82a645",
   "metadata": {},
   "source": [
    "Видим, что у нас количество посещений почти одинаковое. Количество покупок тоже,но суммы в двух группах разнятся. Это радует, т.к. возможно именно это решит исход данного теста. В общем группы сбалансированы."
   ]
  },
  {
   "cell_type": "markdown",
   "id": "5deb5faf",
   "metadata": {},
   "source": [
    "В каждой из групп рассчитаем ключевые показатели, из-за которых мы и затеяли данный тест:\n",
    "\n",
    "*  конверсия;\n",
    "*  средний чек.\n"
   ]
  },
  {
   "cell_type": "code",
   "execution_count": 48,
   "id": "c7ea4196",
   "metadata": {},
   "outputs": [
    {
     "data": {
      "application/vnd.microsoft.datawrangler.viewer.v0+json": {
       "columns": [
        {
         "name": "group",
         "rawType": "object",
         "type": "string"
        },
        {
         "name": "number_of_visits",
         "rawType": "int64",
         "type": "integer"
        },
        {
         "name": "number_of_purchases",
         "rawType": "int64",
         "type": "integer"
        },
        {
         "name": "total_sum",
         "rawType": "int64",
         "type": "integer"
        },
        {
         "name": "total_conversion",
         "rawType": "float64",
         "type": "float"
        },
        {
         "name": "average_test_check",
         "rawType": "float64",
         "type": "float"
        }
       ],
       "conversionMethod": "pd.DataFrame",
       "ref": "7aa3cd8d-29c5-4ab6-9bd7-81e0dc29cd25",
       "rows": [
        [
         "A",
         "145307",
         "17487",
         "1417780000",
         "12.03",
         "8107623.0"
        ],
        [
         "B",
         "145381",
         "17290",
         "1533010000",
         "11.89",
         "8866455.0"
        ]
       ],
       "shape": {
        "columns": 5,
        "rows": 2
       }
      },
      "text/html": [
       "<div>\n",
       "<style scoped>\n",
       "    .dataframe tbody tr th:only-of-type {\n",
       "        vertical-align: middle;\n",
       "    }\n",
       "\n",
       "    .dataframe tbody tr th {\n",
       "        vertical-align: top;\n",
       "    }\n",
       "\n",
       "    .dataframe thead th {\n",
       "        text-align: right;\n",
       "    }\n",
       "</style>\n",
       "<table border=\"1\" class=\"dataframe\">\n",
       "  <thead>\n",
       "    <tr style=\"text-align: right;\">\n",
       "      <th></th>\n",
       "      <th>number_of_visits</th>\n",
       "      <th>number_of_purchases</th>\n",
       "      <th>total_sum</th>\n",
       "      <th>total_conversion</th>\n",
       "      <th>average_test_check</th>\n",
       "    </tr>\n",
       "    <tr>\n",
       "      <th>group</th>\n",
       "      <th></th>\n",
       "      <th></th>\n",
       "      <th></th>\n",
       "      <th></th>\n",
       "      <th></th>\n",
       "    </tr>\n",
       "  </thead>\n",
       "  <tbody>\n",
       "    <tr>\n",
       "      <th>A</th>\n",
       "      <td>145307</td>\n",
       "      <td>17487</td>\n",
       "      <td>1417780000</td>\n",
       "      <td>12.03</td>\n",
       "      <td>8107623.0</td>\n",
       "    </tr>\n",
       "    <tr>\n",
       "      <th>B</th>\n",
       "      <td>145381</td>\n",
       "      <td>17290</td>\n",
       "      <td>1533010000</td>\n",
       "      <td>11.89</td>\n",
       "      <td>8866455.0</td>\n",
       "    </tr>\n",
       "  </tbody>\n",
       "</table>\n",
       "</div>"
      ],
      "text/plain": [
       "       number_of_visits  number_of_purchases   total_sum  total_conversion   \n",
       "group                                                                        \n",
       "A                145307                17487  1417780000             12.03  \\\n",
       "B                145381                17290  1533010000             11.89   \n",
       "\n",
       "       average_test_check  \n",
       "group                      \n",
       "A               8107623.0  \n",
       "B               8866455.0  "
      ]
     },
     "execution_count": 48,
     "metadata": {},
     "output_type": "execute_result"
    }
   ],
   "source": [
    "# Конверсия, округленная до двух знаков в процентом соотношении.\n",
    "ab_table['total_conversion'] = np.round(ab_table['number_of_purchases']*100/ab_table['number_of_visits'],2)\n",
    "\n",
    "# Средний чек за все время теста.\n",
    "ab_table['average_test_check'] = np.round(ab_table['total_sum']*100/ab_table['number_of_purchases'])\n",
    "\n",
    "ab_table\n"
   ]
  },
  {
   "cell_type": "markdown",
   "id": "536a38c2",
   "metadata": {},
   "source": [
    "Видим, что в первой группе выше показатель конверсии, но ниже показатель среднего чека. Необходимо построить сводную таблицу, где мы наглядно увидим, какие суммы покупок преобладают в каждой группе."
   ]
  },
  {
   "cell_type": "code",
   "execution_count": 49,
   "id": "63be86f6",
   "metadata": {},
   "outputs": [
    {
     "data": {
      "application/vnd.microsoft.datawrangler.viewer.v0+json": {
       "columns": [
        {
         "name": "group",
         "rawType": "object",
         "type": "string"
        },
        {
         "name": "10000",
         "rawType": "int64",
         "type": "integer"
        },
        {
         "name": "60000",
         "rawType": "int64",
         "type": "integer"
        },
        {
         "name": "100000",
         "rawType": "int64",
         "type": "integer"
        },
        {
         "name": "150000",
         "rawType": "int64",
         "type": "integer"
        },
        {
         "name": "200000",
         "rawType": "int64",
         "type": "integer"
        }
       ],
       "conversionMethod": "pd.DataFrame",
       "ref": "721f863c-a6f2-4853-a987-b188f8beaeb9",
       "rows": [
        [
         "A",
         "5182",
         "5271",
         "1832",
         "3478",
         "1724"
        ],
        [
         "B",
         "5201",
         "1730",
         "5227",
         "3438",
         "1694"
        ]
       ],
       "shape": {
        "columns": 5,
        "rows": 2
       }
      },
      "text/html": [
       "<div>\n",
       "<style scoped>\n",
       "    .dataframe tbody tr th:only-of-type {\n",
       "        vertical-align: middle;\n",
       "    }\n",
       "\n",
       "    .dataframe tbody tr th {\n",
       "        vertical-align: top;\n",
       "    }\n",
       "\n",
       "    .dataframe thead th {\n",
       "        text-align: right;\n",
       "    }\n",
       "</style>\n",
       "<table border=\"1\" class=\"dataframe\">\n",
       "  <thead>\n",
       "    <tr style=\"text-align: right;\">\n",
       "      <th>price</th>\n",
       "      <th>10000</th>\n",
       "      <th>60000</th>\n",
       "      <th>100000</th>\n",
       "      <th>150000</th>\n",
       "      <th>200000</th>\n",
       "    </tr>\n",
       "    <tr>\n",
       "      <th>group</th>\n",
       "      <th></th>\n",
       "      <th></th>\n",
       "      <th></th>\n",
       "      <th></th>\n",
       "      <th></th>\n",
       "    </tr>\n",
       "  </thead>\n",
       "  <tbody>\n",
       "    <tr>\n",
       "      <th>A</th>\n",
       "      <td>5182</td>\n",
       "      <td>5271</td>\n",
       "      <td>1832</td>\n",
       "      <td>3478</td>\n",
       "      <td>1724</td>\n",
       "    </tr>\n",
       "    <tr>\n",
       "      <th>B</th>\n",
       "      <td>5201</td>\n",
       "      <td>1730</td>\n",
       "      <td>5227</td>\n",
       "      <td>3438</td>\n",
       "      <td>1694</td>\n",
       "    </tr>\n",
       "  </tbody>\n",
       "</table>\n",
       "</div>"
      ],
      "text/plain": [
       "price  10000   60000   100000  150000  200000\n",
       "group                                        \n",
       "A        5182    5271    1832    3478    1724\n",
       "B        5201    1730    5227    3438    1694"
      ]
     },
     "execution_count": 49,
     "metadata": {},
     "output_type": "execute_result"
    }
   ],
   "source": [
    "ab_data_del_dubl[ab_data_del_dubl['price']!=0].pivot_table(columns='price',index='group',values='purchase',aggfunc='sum')"
   ]
  },
  {
   "cell_type": "code",
   "execution_count": 50,
   "id": "864f4030",
   "metadata": {},
   "outputs": [
    {
     "data": {
      "image/png": "[encoded data removed]",
      "text/plain": [
       "<Figure size 2000x600 with 1 Axes>"
      ]
     },
     "metadata": {},
     "output_type": "display_data"
    }
   ],
   "source": [
    "fig,ax = plt.subplots(figsize=(20,6))\n",
    "sns.countplot(data=ab_data_del_dubl[ab_data_del_dubl['price']!=0],x='price',hue='group')\n",
    "ax.set_title('Распределение покупок двух групп')\n",
    "ax.legend(['группа А', 'группа B'])\n",
    "ax.set_xlabel('Цена путевки')\n",
    "ax.set_ylabel('Количество покупок');\n",
    "ax.set_xticks([0,1,2,3,4],['Санкт-Петербург (10.000 руб.)','Турция (60.000 руб.)','Таиланд(100.000 руб.)','Камчатка (150.000 руб.)','Мальдивы (200.000 руб.)'])\n",
    "plt.show()"
   ]
  },
  {
   "cell_type": "markdown",
   "id": "1d1160fb",
   "metadata": {},
   "source": [
    "На данный момент анализа можно сделать следующие выводы:\n",
    "1. У нас сбалансированные группы и количества посещений сайта.\n",
    "2. Конверсия разнится в 1%, причем у первой группы она выше, это говорит о том, что люди чаще покупают путевки.\n",
    "3. Средний чек нам говорит , что во второй группе, хоть и показатель конверсии ниже, люди больше проводят время на сайте и покупают путевки более дорогие.\n",
    "4. На графике как раз мы видим где произошел рост покупок. Если в трех из пяти направлениях группы равны в количестве покупок, то разница в количестве покупок путевок за 60 тыс в Турцию и путевок за 100 тыс. в Тайланд разная. Тут у первой группы выделяются путевки более дешевые, а у второй группы мы видим покупки более дорогих."
   ]
  },
  {
   "cell_type": "markdown",
   "id": "df90f918",
   "metadata": {},
   "source": [
    "## 3. Анализ данных на предмет стабилизации метрик:"
   ]
  },
  {
   "cell_type": "markdown",
   "id": "f8b759dc",
   "metadata": {},
   "source": [
    "Нам необходимо проверить комулятивные метрики, как они себя ведут и можно ли считать, что они стабилизировались? A/B-тест завершенным? \n",
    "\n",
    "\n",
    "Сгруппируем данные по дате и группе тестирования и построим таблицу с ежедневными данными результатов проведения A/B-тестирования. В каждой группе вычислим ежедневные показатели:\n",
    "\n",
    "*  количество посещений страницы;\n",
    "*  количество покупок;\n",
    "*  сумму покупок.\n",
    "\n",
    " "
   ]
  },
  {
   "cell_type": "code",
   "execution_count": 51,
   "id": "3859ccfc",
   "metadata": {},
   "outputs": [
    {
     "data": {
      "application/vnd.microsoft.datawrangler.viewer.v0+json": {
       "columns": [
        {
         "name": "index",
         "rawType": "int64",
         "type": "integer"
        },
        {
         "name": "date",
         "rawType": "datetime64[ns]",
         "type": "datetime"
        },
        {
         "name": "group",
         "rawType": "object",
         "type": "string"
        },
        {
         "name": "number_of_visits",
         "rawType": "int64",
         "type": "integer"
        },
        {
         "name": "number_of_purchases",
         "rawType": "int64",
         "type": "integer"
        },
        {
         "name": "total_sum",
         "rawType": "int64",
         "type": "integer"
        }
       ],
       "conversionMethod": "pd.DataFrame",
       "ref": "0e74e255-ccb8-4e0b-b3f4-580db903ad92",
       "rows": [
        [
         "0",
         "2021-01-02 00:00:00",
         "A",
         "2854",
         "359",
         "29410000"
        ],
        [
         "1",
         "2021-01-02 00:00:00",
         "B",
         "2861",
         "345",
         "29660000"
        ],
        [
         "2",
         "2021-01-03 00:00:00",
         "A",
         "6596",
         "748",
         "62000000"
        ],
        [
         "3",
         "2021-01-03 00:00:00",
         "B",
         "6619",
         "754",
         "65960000"
        ],
        [
         "4",
         "2021-01-04 00:00:00",
         "A",
         "6566",
         "799",
         "64250000"
        ]
       ],
       "shape": {
        "columns": 5,
        "rows": 5
       }
      },
      "text/html": [
       "<div>\n",
       "<style scoped>\n",
       "    .dataframe tbody tr th:only-of-type {\n",
       "        vertical-align: middle;\n",
       "    }\n",
       "\n",
       "    .dataframe tbody tr th {\n",
       "        vertical-align: top;\n",
       "    }\n",
       "\n",
       "    .dataframe thead th {\n",
       "        text-align: right;\n",
       "    }\n",
       "</style>\n",
       "<table border=\"1\" class=\"dataframe\">\n",
       "  <thead>\n",
       "    <tr style=\"text-align: right;\">\n",
       "      <th></th>\n",
       "      <th>date</th>\n",
       "      <th>group</th>\n",
       "      <th>number_of_visits</th>\n",
       "      <th>number_of_purchases</th>\n",
       "      <th>total_sum</th>\n",
       "    </tr>\n",
       "  </thead>\n",
       "  <tbody>\n",
       "    <tr>\n",
       "      <th>0</th>\n",
       "      <td>2021-01-02</td>\n",
       "      <td>A</td>\n",
       "      <td>2854</td>\n",
       "      <td>359</td>\n",
       "      <td>29410000</td>\n",
       "    </tr>\n",
       "    <tr>\n",
       "      <th>1</th>\n",
       "      <td>2021-01-02</td>\n",
       "      <td>B</td>\n",
       "      <td>2861</td>\n",
       "      <td>345</td>\n",
       "      <td>29660000</td>\n",
       "    </tr>\n",
       "    <tr>\n",
       "      <th>2</th>\n",
       "      <td>2021-01-03</td>\n",
       "      <td>A</td>\n",
       "      <td>6596</td>\n",
       "      <td>748</td>\n",
       "      <td>62000000</td>\n",
       "    </tr>\n",
       "    <tr>\n",
       "      <th>3</th>\n",
       "      <td>2021-01-03</td>\n",
       "      <td>B</td>\n",
       "      <td>6619</td>\n",
       "      <td>754</td>\n",
       "      <td>65960000</td>\n",
       "    </tr>\n",
       "    <tr>\n",
       "      <th>4</th>\n",
       "      <td>2021-01-04</td>\n",
       "      <td>A</td>\n",
       "      <td>6566</td>\n",
       "      <td>799</td>\n",
       "      <td>64250000</td>\n",
       "    </tr>\n",
       "  </tbody>\n",
       "</table>\n",
       "</div>"
      ],
      "text/plain": [
       "        date group  number_of_visits  number_of_purchases  total_sum\n",
       "0 2021-01-02     A              2854                  359   29410000\n",
       "1 2021-01-02     B              2861                  345   29660000\n",
       "2 2021-01-03     A              6596                  748   62000000\n",
       "3 2021-01-03     B              6619                  754   65960000\n",
       "4 2021-01-04     A              6566                  799   64250000"
      ]
     },
     "execution_count": 51,
     "metadata": {},
     "output_type": "execute_result"
    }
   ],
   "source": [
    "ab_daily_table = ab_data_del_dubl.groupby(\n",
    "    ['date','group'],as_index=False)[\n",
    "        ['user_id','purchase','price']].agg(\n",
    "            func={'user_id':'count','purchase':'sum','price':'sum'}).rename(\n",
    "                columns={'user_id':'number_of_visits','purchase':'number_of_purchases','price':'total_sum'})\n",
    "\n",
    "ab_daily_table.head()\n"
   ]
  },
  {
   "cell_type": "markdown",
   "id": "60fe0424",
   "metadata": {},
   "source": [
    "\n",
    "\n",
    "Рассчитаем кумулятивные показатели:\n",
    "\n",
    "*  кумулятивное количество посещений страницы;\n",
    "*  кумулятивное количество покупок;\n",
    "*  кумулятивную сумму покупок.\n",
    "\n"
   ]
  },
  {
   "cell_type": "markdown",
   "id": "db22f2d8",
   "metadata": {},
   "source": [
    "\n",
    "\n",
    "<strong>Кумулятивная метрика</strong>  — это отображение целевой метрики, когда вы отслеживаете её поведение за каждый день — накопленным итогом по дням. "
   ]
  },
  {
   "cell_type": "code",
   "execution_count": 52,
   "id": "33009931",
   "metadata": {},
   "outputs": [
    {
     "data": {
      "application/vnd.microsoft.datawrangler.viewer.v0+json": {
       "columns": [
        {
         "name": "index",
         "rawType": "int64",
         "type": "integer"
        },
        {
         "name": "date",
         "rawType": "datetime64[ns]",
         "type": "datetime"
        },
        {
         "name": "group",
         "rawType": "object",
         "type": "string"
        },
        {
         "name": "number_of_visits",
         "rawType": "int64",
         "type": "integer"
        },
        {
         "name": "number_of_purchases",
         "rawType": "int64",
         "type": "integer"
        },
        {
         "name": "total_sum",
         "rawType": "int64",
         "type": "integer"
        },
        {
         "name": "comulative_number_of_visits",
         "rawType": "int64",
         "type": "integer"
        },
        {
         "name": "comulative_number_of_purchases",
         "rawType": "int64",
         "type": "integer"
        },
        {
         "name": "comulative_total_sum",
         "rawType": "int64",
         "type": "integer"
        }
       ],
       "conversionMethod": "pd.DataFrame",
       "ref": "73aceb34-11d5-4dc9-a4ba-5e13bc228220",
       "rows": [
        [
         "0",
         "2021-01-02 00:00:00",
         "A",
         "2854",
         "359",
         "29410000",
         "2854",
         "359",
         "29410000"
        ],
        [
         "1",
         "2021-01-02 00:00:00",
         "B",
         "2861",
         "345",
         "29660000",
         "2861",
         "345",
         "29660000"
        ],
        [
         "2",
         "2021-01-03 00:00:00",
         "A",
         "6596",
         "748",
         "62000000",
         "9450",
         "1107",
         "91410000"
        ],
        [
         "3",
         "2021-01-03 00:00:00",
         "B",
         "6619",
         "754",
         "65960000",
         "9480",
         "1099",
         "95620000"
        ],
        [
         "4",
         "2021-01-04 00:00:00",
         "A",
         "6566",
         "799",
         "64250000",
         "16016",
         "1906",
         "155660000"
        ]
       ],
       "shape": {
        "columns": 8,
        "rows": 5
       }
      },
      "text/html": [
       "<div>\n",
       "<style scoped>\n",
       "    .dataframe tbody tr th:only-of-type {\n",
       "        vertical-align: middle;\n",
       "    }\n",
       "\n",
       "    .dataframe tbody tr th {\n",
       "        vertical-align: top;\n",
       "    }\n",
       "\n",
       "    .dataframe thead th {\n",
       "        text-align: right;\n",
       "    }\n",
       "</style>\n",
       "<table border=\"1\" class=\"dataframe\">\n",
       "  <thead>\n",
       "    <tr style=\"text-align: right;\">\n",
       "      <th></th>\n",
       "      <th>date</th>\n",
       "      <th>group</th>\n",
       "      <th>number_of_visits</th>\n",
       "      <th>number_of_purchases</th>\n",
       "      <th>total_sum</th>\n",
       "      <th>comulative_number_of_visits</th>\n",
       "      <th>comulative_number_of_purchases</th>\n",
       "      <th>comulative_total_sum</th>\n",
       "    </tr>\n",
       "  </thead>\n",
       "  <tbody>\n",
       "    <tr>\n",
       "      <th>0</th>\n",
       "      <td>2021-01-02</td>\n",
       "      <td>A</td>\n",
       "      <td>2854</td>\n",
       "      <td>359</td>\n",
       "      <td>29410000</td>\n",
       "      <td>2854</td>\n",
       "      <td>359</td>\n",
       "      <td>29410000</td>\n",
       "    </tr>\n",
       "    <tr>\n",
       "      <th>1</th>\n",
       "      <td>2021-01-02</td>\n",
       "      <td>B</td>\n",
       "      <td>2861</td>\n",
       "      <td>345</td>\n",
       "      <td>29660000</td>\n",
       "      <td>2861</td>\n",
       "      <td>345</td>\n",
       "      <td>29660000</td>\n",
       "    </tr>\n",
       "    <tr>\n",
       "      <th>2</th>\n",
       "      <td>2021-01-03</td>\n",
       "      <td>A</td>\n",
       "      <td>6596</td>\n",
       "      <td>748</td>\n",
       "      <td>62000000</td>\n",
       "      <td>9450</td>\n",
       "      <td>1107</td>\n",
       "      <td>91410000</td>\n",
       "    </tr>\n",
       "    <tr>\n",
       "      <th>3</th>\n",
       "      <td>2021-01-03</td>\n",
       "      <td>B</td>\n",
       "      <td>6619</td>\n",
       "      <td>754</td>\n",
       "      <td>65960000</td>\n",
       "      <td>9480</td>\n",
       "      <td>1099</td>\n",
       "      <td>95620000</td>\n",
       "    </tr>\n",
       "    <tr>\n",
       "      <th>4</th>\n",
       "      <td>2021-01-04</td>\n",
       "      <td>A</td>\n",
       "      <td>6566</td>\n",
       "      <td>799</td>\n",
       "      <td>64250000</td>\n",
       "      <td>16016</td>\n",
       "      <td>1906</td>\n",
       "      <td>155660000</td>\n",
       "    </tr>\n",
       "  </tbody>\n",
       "</table>\n",
       "</div>"
      ],
      "text/plain": [
       "        date group  number_of_visits  number_of_purchases  total_sum   \n",
       "0 2021-01-02     A              2854                  359   29410000  \\\n",
       "1 2021-01-02     B              2861                  345   29660000   \n",
       "2 2021-01-03     A              6596                  748   62000000   \n",
       "3 2021-01-03     B              6619                  754   65960000   \n",
       "4 2021-01-04     A              6566                  799   64250000   \n",
       "\n",
       "   comulative_number_of_visits  comulative_number_of_purchases   \n",
       "0                         2854                             359  \\\n",
       "1                         2861                             345   \n",
       "2                         9450                            1107   \n",
       "3                         9480                            1099   \n",
       "4                        16016                            1906   \n",
       "\n",
       "   comulative_total_sum  \n",
       "0              29410000  \n",
       "1              29660000  \n",
       "2              91410000  \n",
       "3              95620000  \n",
       "4             155660000  "
      ]
     },
     "execution_count": 52,
     "metadata": {},
     "output_type": "execute_result"
    }
   ],
   "source": [
    "ab_daily_table['comulative_number_of_visits'] = ab_daily_table.groupby('group')['number_of_visits'].cumsum()\n",
    "ab_daily_table['comulative_number_of_purchases'] = ab_daily_table.groupby('group')['number_of_purchases'].cumsum()\n",
    "ab_daily_table['comulative_total_sum'] = ab_daily_table.groupby('group')['total_sum'].cumsum()\n",
    "\n",
    "ab_daily_table.head()"
   ]
  },
  {
   "cell_type": "markdown",
   "id": "278bcb2b",
   "metadata": {},
   "source": [
    "Добавляем в нашу таблицу комулятивные данные конверсии и среднего чека. И посмотрим на графике, что у нас получилось."
   ]
  },
  {
   "cell_type": "code",
   "execution_count": 53,
   "id": "0a202fb1",
   "metadata": {},
   "outputs": [
    {
     "data": {
      "application/vnd.microsoft.datawrangler.viewer.v0+json": {
       "columns": [
        {
         "name": "index",
         "rawType": "int64",
         "type": "integer"
        },
        {
         "name": "date",
         "rawType": "datetime64[ns]",
         "type": "datetime"
        },
        {
         "name": "group",
         "rawType": "object",
         "type": "string"
        },
        {
         "name": "number_of_visits",
         "rawType": "int64",
         "type": "integer"
        },
        {
         "name": "number_of_purchases",
         "rawType": "int64",
         "type": "integer"
        },
        {
         "name": "total_sum",
         "rawType": "int64",
         "type": "integer"
        },
        {
         "name": "comulative_number_of_visits",
         "rawType": "int64",
         "type": "integer"
        },
        {
         "name": "comulative_number_of_purchases",
         "rawType": "int64",
         "type": "integer"
        },
        {
         "name": "comulative_total_sum",
         "rawType": "int64",
         "type": "integer"
        },
        {
         "name": "comulative_conversion",
         "rawType": "float64",
         "type": "float"
        },
        {
         "name": "comulative_average_check_test",
         "rawType": "float64",
         "type": "float"
        }
       ],
       "conversionMethod": "pd.DataFrame",
       "ref": "22c2d7e0-bc24-45b8-9c69-07d364c14e00",
       "rows": [
        [
         "0",
         "2021-01-02 00:00:00",
         "A",
         "2854",
         "359",
         "29410000",
         "2854",
         "359",
         "29410000",
         "0.1257883672039243",
         "81922.00557103065"
        ],
        [
         "1",
         "2021-01-02 00:00:00",
         "B",
         "2861",
         "345",
         "29660000",
         "2861",
         "345",
         "29660000",
         "0.12058720727018525",
         "85971.01449275362"
        ],
        [
         "2",
         "2021-01-03 00:00:00",
         "A",
         "6596",
         "748",
         "62000000",
         "9450",
         "1107",
         "91410000",
         "0.11714285714285715",
         "82574.52574525746"
        ],
        [
         "3",
         "2021-01-03 00:00:00",
         "B",
         "6619",
         "754",
         "65960000",
         "9480",
         "1099",
         "95620000",
         "0.1159282700421941",
         "87006.3694267516"
        ],
        [
         "4",
         "2021-01-04 00:00:00",
         "A",
         "6566",
         "799",
         "64250000",
         "16016",
         "1906",
         "155660000",
         "0.119005994005994",
         "81668.41552990556"
        ]
       ],
       "shape": {
        "columns": 10,
        "rows": 5
       }
      },
      "text/html": [
       "<div>\n",
       "<style scoped>\n",
       "    .dataframe tbody tr th:only-of-type {\n",
       "        vertical-align: middle;\n",
       "    }\n",
       "\n",
       "    .dataframe tbody tr th {\n",
       "        vertical-align: top;\n",
       "    }\n",
       "\n",
       "    .dataframe thead th {\n",
       "        text-align: right;\n",
       "    }\n",
       "</style>\n",
       "<table border=\"1\" class=\"dataframe\">\n",
       "  <thead>\n",
       "    <tr style=\"text-align: right;\">\n",
       "      <th></th>\n",
       "      <th>date</th>\n",
       "      <th>group</th>\n",
       "      <th>number_of_visits</th>\n",
       "      <th>number_of_purchases</th>\n",
       "      <th>total_sum</th>\n",
       "      <th>comulative_number_of_visits</th>\n",
       "      <th>comulative_number_of_purchases</th>\n",
       "      <th>comulative_total_sum</th>\n",
       "      <th>comulative_conversion</th>\n",
       "      <th>comulative_average_check_test</th>\n",
       "    </tr>\n",
       "  </thead>\n",
       "  <tbody>\n",
       "    <tr>\n",
       "      <th>0</th>\n",
       "      <td>2021-01-02</td>\n",
       "      <td>A</td>\n",
       "      <td>2854</td>\n",
       "      <td>359</td>\n",
       "      <td>29410000</td>\n",
       "      <td>2854</td>\n",
       "      <td>359</td>\n",
       "      <td>29410000</td>\n",
       "      <td>0.125788</td>\n",
       "      <td>81922.005571</td>\n",
       "    </tr>\n",
       "    <tr>\n",
       "      <th>1</th>\n",
       "      <td>2021-01-02</td>\n",
       "      <td>B</td>\n",
       "      <td>2861</td>\n",
       "      <td>345</td>\n",
       "      <td>29660000</td>\n",
       "      <td>2861</td>\n",
       "      <td>345</td>\n",
       "      <td>29660000</td>\n",
       "      <td>0.120587</td>\n",
       "      <td>85971.014493</td>\n",
       "    </tr>\n",
       "    <tr>\n",
       "      <th>2</th>\n",
       "      <td>2021-01-03</td>\n",
       "      <td>A</td>\n",
       "      <td>6596</td>\n",
       "      <td>748</td>\n",
       "      <td>62000000</td>\n",
       "      <td>9450</td>\n",
       "      <td>1107</td>\n",
       "      <td>91410000</td>\n",
       "      <td>0.117143</td>\n",
       "      <td>82574.525745</td>\n",
       "    </tr>\n",
       "    <tr>\n",
       "      <th>3</th>\n",
       "      <td>2021-01-03</td>\n",
       "      <td>B</td>\n",
       "      <td>6619</td>\n",
       "      <td>754</td>\n",
       "      <td>65960000</td>\n",
       "      <td>9480</td>\n",
       "      <td>1099</td>\n",
       "      <td>95620000</td>\n",
       "      <td>0.115928</td>\n",
       "      <td>87006.369427</td>\n",
       "    </tr>\n",
       "    <tr>\n",
       "      <th>4</th>\n",
       "      <td>2021-01-04</td>\n",
       "      <td>A</td>\n",
       "      <td>6566</td>\n",
       "      <td>799</td>\n",
       "      <td>64250000</td>\n",
       "      <td>16016</td>\n",
       "      <td>1906</td>\n",
       "      <td>155660000</td>\n",
       "      <td>0.119006</td>\n",
       "      <td>81668.415530</td>\n",
       "    </tr>\n",
       "  </tbody>\n",
       "</table>\n",
       "</div>"
      ],
      "text/plain": [
       "        date group  number_of_visits  number_of_purchases  total_sum   \n",
       "0 2021-01-02     A              2854                  359   29410000  \\\n",
       "1 2021-01-02     B              2861                  345   29660000   \n",
       "2 2021-01-03     A              6596                  748   62000000   \n",
       "3 2021-01-03     B              6619                  754   65960000   \n",
       "4 2021-01-04     A              6566                  799   64250000   \n",
       "\n",
       "   comulative_number_of_visits  comulative_number_of_purchases   \n",
       "0                         2854                             359  \\\n",
       "1                         2861                             345   \n",
       "2                         9450                            1107   \n",
       "3                         9480                            1099   \n",
       "4                        16016                            1906   \n",
       "\n",
       "   comulative_total_sum  comulative_conversion  comulative_average_check_test  \n",
       "0              29410000               0.125788                   81922.005571  \n",
       "1              29660000               0.120587                   85971.014493  \n",
       "2              91410000               0.117143                   82574.525745  \n",
       "3              95620000               0.115928                   87006.369427  \n",
       "4             155660000               0.119006                   81668.415530  "
      ]
     },
     "execution_count": 53,
     "metadata": {},
     "output_type": "execute_result"
    }
   ],
   "source": [
    "ab_daily_table['comulative_conversion'] = ab_daily_table['comulative_number_of_purchases']/ab_daily_table['comulative_number_of_visits']\n",
    "ab_daily_table['comulative_average_check_test'] = ab_daily_table['comulative_total_sum']/ab_daily_table['comulative_number_of_purchases']\n",
    "\n",
    "ab_daily_table.head()"
   ]
  },
  {
   "cell_type": "code",
   "execution_count": 54,
   "id": "98633a7f",
   "metadata": {},
   "outputs": [
    {
     "data": {
      "image/png": "[encoded data removed]",
      "text/plain": [
       "<Figure size 2200x1200 with 2 Axes>"
      ]
     },
     "metadata": {},
     "output_type": "display_data"
    }
   ],
   "source": [
    "fig,ax = plt.subplots(2,1,figsize = (22,12))\n",
    "sns.lineplot(ab_daily_table,x='date',y='comulative_conversion',hue='group',ax=ax[0])\n",
    "ax[0].set_title('Комулятивная конверсия')\n",
    "ax[0].set_xlabel('Дата')\n",
    "ax[0].set_ylabel('Ежедневная конверсия')\n",
    "\n",
    "sns.lineplot(ab_daily_table,x='date',y='comulative_average_check_test',hue='group',ax=ax[1])\n",
    "ax[1].set_title('Комулятивный средний чек')\n",
    "ax[1].set_xlabel('Дата')\n",
    "ax[1].set_ylabel('Ежедневный средний чек')\n",
    "plt.show()"
   ]
  },
  {
   "cell_type": "markdown",
   "id": "03afea54",
   "metadata": {},
   "source": [
    "Можем ответить на вопрос, можно ли назвать тест завершенным? Да, можно, метрики стабилизированы. Как и ранее было замечено, конверсия выше в первой группе, а во второй группе выше средний чек."
   ]
  },
  {
   "cell_type": "markdown",
   "id": "0a5fef2f",
   "metadata": {},
   "source": [
    "## 4. Проведение статистического анализа результатов A/B-тестирования:"
   ]
  },
  {
   "cell_type": "markdown",
   "id": "5c7e9ec6",
   "metadata": {},
   "source": [
    "Итак у нас есть две независимых группы: пользователи в группах A и B не пересекаются. Будем использовать Z-тест для пропорций.\n",
    "\n",
    "* Нулевая гипотеза: разница пропорций в группах A и B равна некоторому заранее заданному числу value.\n",
    "#### $$H0: Pa - Pb = value$$ \n",
    "\n",
    "* Альтернативная гипотеза: разница пропорций в группах A и B не равна некоторому заранее заданному числу value.\n",
    "#### $$H1: Pa - Pb \\neq value$$ \n",
    "\n",
    "\n",
    "\n"
   ]
  }
 ],
 "metadata": {
  "kernelspec": {
   "display_name": "Python 3",
   "language": "python",
   "name": "python3"
  },
  "language_info": {
   "codemirror_mode": {
    "name": "ipython",
    "version": 3
   },
   "file_extension": ".py",
   "mimetype": "text/x-python",
   "name": "python",
   "nbconvert_exporter": "python",
   "pygments_lexer": "ipython3",
   "version": "3.12.3"
  }
 },
 "nbformat": 4,
 "nbformat_minor": 5
}
