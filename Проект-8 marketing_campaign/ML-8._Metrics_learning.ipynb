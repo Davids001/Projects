{
  "cells": [
    {
      "cell_type": "markdown",
      "metadata": {
        "id": "1Iyfsg0BRUTY"
      },
      "source": [
        "# ML-8. Metrics learning\n"
      ]
    },
    {
      "cell_type": "markdown",
      "metadata": {
        "id": "6e03DM6XhMr4"
      },
      "source": [
        "В данной задаче мы попробуем кластеризовать покупателей продуктовой компании на основе его персональных данных, таких как состав семьи, доход, вовлеченность в маркетинговые компании, интересы и предпочтения по разным категориям товаров."
      ]
    },
    {
      "cell_type": "code",
      "execution_count": null,
      "metadata": {},
      "outputs": [
        {
          "ename": "",
          "evalue": "",
          "output_type": "error",
          "traceback": [
            "\u001b[1;31mДля выполнения ячеек с \"Python 3.12.3\" требуется пакет ipykernel.\n",
            "\u001b[1;31mВыполните следующую команду, чтобы установить \"ipykernel\" в среде Python. \n",
            "\u001b[1;31mКоманда: \"/usr/bin/python3 -m pip install ipykernel -U --user --force-reinstall\""
          ]
        }
      ],
      "source": [
        "#! pip install yellowbrick"
      ]
    },
    {
      "cell_type": "code",
      "execution_count": null,
      "metadata": {
        "execution": {
          "iopub.execute_input": "2022-04-25T15:29:31.249229Z",
          "iopub.status.busy": "2022-04-25T15:29:31.248899Z",
          "iopub.status.idle": "2022-04-25T15:29:31.258719Z",
          "shell.execute_reply": "2022-04-25T15:29:31.257764Z",
          "shell.execute_reply.started": "2022-04-25T15:29:31.249197Z"
        },
        "executionInfo": {
          "elapsed": 241,
          "status": "ok",
          "timestamp": 1651422529026,
          "user": {
            "displayName": "Андрей Игоревич Дзись",
            "userId": "09820094425928669298"
          },
          "user_tz": -180
        },
        "id": "6BvuC2blhMr8",
        "trusted": true
      },
      "outputs": [],
      "source": [
        "#Загрузим библиотеки\n",
        "import numpy as np\n",
        "import pandas as pd\n",
        "import datetime\n",
        "import matplotlib\n",
        "import matplotlib.pyplot as plt\n",
        "from matplotlib import colors\n",
        "import seaborn as sns\n",
        "from sklearn.preprocessing import LabelEncoder\n",
        "from sklearn.preprocessing import StandardScaler\n",
        "from sklearn.decomposition import PCA\n",
        "from yellowbrick.cluster import KElbowVisualizer\n",
        "from sklearn.cluster import KMeans\n",
        "import matplotlib.pyplot as plt, numpy as np\n",
        "from mpl_toolkits.mplot3d import Axes3D\n",
        "from sklearn.cluster import AgglomerativeClustering\n",
        "from matplotlib.colors import ListedColormap\n",
        "from sklearn import metrics\n",
        "import warnings\n",
        "import sys\n",
        "if not sys.warnoptions:\n",
        "    warnings.simplefilter(\"ignore\")\n",
        "np.random.seed(42)"
      ]
    },
    {
      "cell_type": "markdown",
      "metadata": {
        "id": "d9UaRv8ZhMsA"
      },
      "source": [
        " ### Описание данных\n",
        " "
      ]
    },
    {
      "cell_type": "markdown",
      "metadata": {
        "id": "olmCBFu1Rggr"
      },
      "source": [
        "\n",
        "\n",
        "* **ID**: Идентификационный номер покупателя\n",
        "* **Year_Birth**: Год рождения покупателя\n",
        "* **Education**: Степень образования покупателя \n",
        "* **Marital_Status**: Семейный  статус покупателя\n",
        "* **Income**: Годовой доход покупателя\n",
        "* **Kidhome**: Количество детей до 13 лет, проживающих с покупателем\n",
        "* **Teenhome**: Количество детей с 13 до 18, проживающих с покупателем\n",
        "* **Dt_Customer**: Дата регистрации покупателя как клиента компании \n",
        "* **Recency**: Количество дней с последней покупки клиента\n",
        "* **Complain**: Бинарный признак наличия жалоб от клиента в течение двух лет\n",
        "\n",
        "* **MntWines**: Количество денег, которые клиент потратил на вино за последние два года \n",
        "* **MntFruits**: Количество денег, которые клиент потратил на фрукты за последние два года\n",
        "* **MntMeatProducts**: Количество денег, которые клиент потратил на мясо за последние два года\n",
        "* **MntFishProducts**: Количество денег, которые клиент потратил на рыбу за последние два года\n",
        "* **MntSweetProducts**: Количество денег, которые клиент потратил на сладости за последние два года\n",
        "* **MntGoldProds**: Количество денег, которые клиент потратил на золотые украшения за последние два года\n",
        "\n",
        "* **NumDealsPurchases**: Количество покупок товаров со скидкой\n",
        "* **AcceptedCmp1**: Бинарный признак того, что клиент был привлечен в 1 маркетинговую кампанию\n",
        "* **AcceptedCmp2**: Бинарный признак того, что клиент был привлечен в 2 маркетинговую кампанию\n",
        "* **AcceptedCmp3**: Бинарный признак того, что клиент был привлечен в 3 маркетинговую кампанию\n",
        "* **AcceptedCmp4**: Бинарный признак того, что клиент был привлечен в 4 маркетинговую кампанию\n",
        "* **AcceptedCmp5**: Бинарный признак того, что клиент был привлечен в 5 маркетинговую кампанию\n",
        "* **Response**: Бинарный признак того, что клиент откликнулся на последнюю прошедшую маркетинговую кампанию\n",
        "\n",
        "* **NumWebPurchases**: Количество покупок через сайт компании \n",
        "* **NumCatalogPurchases**: Количество покупок через каталог \n",
        "* **NumStorePurchases**: Количество покупок через магазин\n",
        "* **NumWebVisitsMonth**: Количество посещений сайта компании за последний месяц "
      ]
    },
    {
      "cell_type": "markdown",
      "metadata": {
        "id": "GavzRH0FhMsB"
      },
      "source": [
        "### Загрузка и базовая предобработка данных"
      ]
    },
    {
      "cell_type": "code",
      "execution_count": null,
      "metadata": {
        "colab": {
          "base_uri": "https://localhost:8080/",
          "height": 299
        },
        "execution": {
          "iopub.execute_input": "2022-04-25T15:29:31.261604Z",
          "iopub.status.busy": "2022-04-25T15:29:31.260950Z",
          "iopub.status.idle": "2022-04-25T15:29:31.313232Z",
          "shell.execute_reply": "2022-04-25T15:29:31.312236Z",
          "shell.execute_reply.started": "2022-04-25T15:29:31.261560Z"
        },
        "executionInfo": {
          "elapsed": 269,
          "status": "ok",
          "timestamp": 1651422533121,
          "user": {
            "displayName": "Андрей Игоревич Дзись",
            "userId": "09820094425928669298"
          },
          "user_tz": -180
        },
        "id": "GmukBu5fhMsC",
        "outputId": "b1006bf4-b9a5-4b29-ca57-640d03090fc6",
        "trusted": true
      },
      "outputs": [],
      "source": [
        "#Загрузим и посмотрим на исходные данные \n",
        "data = pd.read_csv(\"marketing_campaign.csv\",sep=\"\\t\")\n",
        "data.head()"
      ]
    },
    {
      "cell_type": "code",
      "execution_count": null,
      "metadata": {
        "colab": {
          "base_uri": "https://localhost:8080/"
        },
        "execution": {
          "iopub.execute_input": "2022-04-25T15:29:31.314719Z",
          "iopub.status.busy": "2022-04-25T15:29:31.314471Z",
          "iopub.status.idle": "2022-04-25T15:29:31.330604Z",
          "shell.execute_reply": "2022-04-25T15:29:31.329447Z",
          "shell.execute_reply.started": "2022-04-25T15:29:31.314691Z"
        },
        "executionInfo": {
          "elapsed": 18,
          "status": "ok",
          "timestamp": 1651422548809,
          "user": {
            "displayName": "Андрей Игоревич Дзись",
            "userId": "09820094425928669298"
          },
          "user_tz": -180
        },
        "id": "cFkIM_yFhMsC",
        "outputId": "4086d006-bbd4-4326-db5e-1521a9f45e09",
        "trusted": true
      },
      "outputs": [],
      "source": [
        "#Расссмотрим столбцы поподробнее\n",
        "data.info()"
      ]
    },
    {
      "cell_type": "code",
      "execution_count": null,
      "metadata": {},
      "outputs": [],
      "source": [
        "data.isna().sum()"
      ]
    },
    {
      "cell_type": "markdown",
      "metadata": {
        "id": "2znq-QT8hMsD"
      },
      "source": [
        "**Некоторые первые выводы:**\n",
        "\n",
        "* Есть пропуски в доходе (`Income`)\n",
        "* Dt_Customer - признак, который показывает когда клиент попал в базу данных фирмы не является временной меткой, а имеет тип `object`\n",
        "* В данных присуствуют категориальные признаки, которые надо будет закодировать. \n",
        "\n",
        "Для простоты, удалим все данные с пропусками."
      ]
    },
    {
      "cell_type": "code",
      "execution_count": null,
      "metadata": {
        "colab": {
          "base_uri": "https://localhost:8080/"
        },
        "execution": {
          "iopub.execute_input": "2022-04-25T15:29:31.332588Z",
          "iopub.status.busy": "2022-04-25T15:29:31.332251Z",
          "iopub.status.idle": "2022-04-25T15:29:31.342850Z",
          "shell.execute_reply": "2022-04-25T15:29:31.341956Z",
          "shell.execute_reply.started": "2022-04-25T15:29:31.332542Z"
        },
        "executionInfo": {
          "elapsed": 276,
          "status": "ok",
          "timestamp": 1651422588752,
          "user": {
            "displayName": "Андрей Игоревич Дзись",
            "userId": "09820094425928669298"
          },
          "user_tz": -180
        },
        "id": "KNsLNEj_hMsE",
        "outputId": "591f9df5-6391-4969-9bf9-7a31a627be59",
        "trusted": true
      },
      "outputs": [],
      "source": [
        "data = data.dropna()\n",
        "print(f\"Количество объектов после удаления пропусков: {data.shape[0]}\")"
      ]
    },
    {
      "cell_type": "markdown",
      "metadata": {},
      "source": [
        "Посмотрим, что именно содержится в столбце \"Dt_Customer\""
      ]
    },
    {
      "cell_type": "code",
      "execution_count": null,
      "metadata": {},
      "outputs": [],
      "source": [
        "data['Dt_Customer'].head()"
      ]
    },
    {
      "cell_type": "markdown",
      "metadata": {
        "id": "lKfe066dhMsE"
      },
      "source": [
        "Переведем **\"Dt_Customer\"** в численный, посмотрим на самую раннюю и самую позднюю запись. "
      ]
    },
    {
      "cell_type": "code",
      "execution_count": null,
      "metadata": {
        "colab": {
          "base_uri": "https://localhost:8080/"
        },
        "execution": {
          "iopub.execute_input": "2022-04-25T15:29:31.344973Z",
          "iopub.status.busy": "2022-04-25T15:29:31.344628Z",
          "iopub.status.idle": "2022-04-25T15:29:31.361205Z",
          "shell.execute_reply": "2022-04-25T15:29:31.360203Z",
          "shell.execute_reply.started": "2022-04-25T15:29:31.344944Z"
        },
        "executionInfo": {
          "elapsed": 257,
          "status": "ok",
          "timestamp": 1651422609069,
          "user": {
            "displayName": "Андрей Игоревич Дзись",
            "userId": "09820094425928669298"
          },
          "user_tz": -180
        },
        "id": "NHSbIgDMhMsF",
        "outputId": "8c786ab8-3cee-463f-af04-f0de42a2e127",
        "trusted": true
      },
      "outputs": [],
      "source": [
        "data[\"Dt_Customer\"] = pd.to_datetime(data[\"Dt_Customer\"]) \n",
        "dt_max = data[\"Dt_Customer\"].max()\n",
        "dt_min = data[\"Dt_Customer\"].min()\n",
        "print(f\"Дата добавления последнего покупателя в базу: {dt_max}\")\n",
        "print(f\"Дата добавления первого покупателя в базу: {dt_min}\")\n"
      ]
    },
    {
      "cell_type": "markdown",
      "metadata": {
        "id": "z0WE1ofshMsF"
      },
      "source": [
        "### Feature Engineering"
      ]
    },
    {
      "cell_type": "markdown",
      "metadata": {
        "id": "5KPtKzUKhMsF"
      },
      "source": [
        "Добавим признак, показывающий, сколько дней покупатель является клиентом фирмы. Для этого вычтем из даты фиксации последнего клиента дату фиксации каждого из клиентов."
      ]
    },
    {
      "cell_type": "code",
      "execution_count": 9,
      "metadata": {
        "execution": {
          "iopub.execute_input": "2022-04-25T15:29:31.362850Z",
          "iopub.status.busy": "2022-04-25T15:29:31.362432Z",
          "iopub.status.idle": "2022-04-25T15:29:31.370617Z",
          "shell.execute_reply": "2022-04-25T15:29:31.369524Z",
          "shell.execute_reply.started": "2022-04-25T15:29:31.362811Z"
        },
        "executionInfo": {
          "elapsed": 263,
          "status": "ok",
          "timestamp": 1651422619379,
          "user": {
            "displayName": "Андрей Игоревич Дзись",
            "userId": "09820094425928669298"
          },
          "user_tz": -180
        },
        "id": "FFQYE0CfhMsG",
        "trusted": true
      },
      "outputs": [],
      "source": [
        "data[\"Customer_For\"] = dt_max - data[\"Dt_Customer\"] \n",
        "data[\"Customer_For\"] = pd.to_numeric(data[\"Customer_For\"], errors=\"coerce\")"
      ]
    },
    {
      "cell_type": "markdown",
      "metadata": {
        "id": "AvKIR8VShMsG"
      },
      "source": [
        "**Следующим шагом, добавим еще пару признаков:**\n",
        "\n",
        "* Сделаем возраст покупателя на момент сбора данных **\"Age\"** на основе **\"Year_Birth\"**, учтем, что данные датируются 14 годом, что и учтем при генерации нашего признака.\n",
        "* Сделаем признак **\"Spent\"** показывающий, сколько потратил покупатель на различные категории за последние два года.\n",
        "* Сделаем признак **\"Living_With\"** из **\"Marital_Status\"**, показывающий живет ли с кем-то покупатель.\n",
        "* Сделаем признак **\"Children\"** показывающий суммарное количество детей в семье.\n",
        "* Сделаем признак количество членов семьи **\"Family_Size\"**.\n",
        "* Сделаем бинарный признак **\"Is_Parent\"**, показывающий, что покупатель является родителем.\n",
        "* Уменьшим количество значений признаков в **\"Education\"** до 3-х."
      ]
    },
    {
      "cell_type": "code",
      "execution_count": null,
      "metadata": {},
      "outputs": [],
      "source": [
        "# Воспользуемся нашим списком, чтобы в дальнейшем значения заменить \n",
        "data[\"Marital_Status\"].unique()"
      ]
    },
    {
      "cell_type": "code",
      "execution_count": null,
      "metadata": {},
      "outputs": [],
      "source": [
        "# Воспользуемся нашим списком, чтобы в дальнейшем значения заменить\n",
        "data[\"Education\"].unique()"
      ]
    },
    {
      "cell_type": "code",
      "execution_count": 13,
      "metadata": {
        "execution": {
          "iopub.execute_input": "2022-04-25T15:29:31.372293Z",
          "iopub.status.busy": "2022-04-25T15:29:31.371840Z",
          "iopub.status.idle": "2022-04-25T15:29:31.400087Z",
          "shell.execute_reply": "2022-04-25T15:29:31.398943Z",
          "shell.execute_reply.started": "2022-04-25T15:29:31.372249Z"
        },
        "executionInfo": {
          "elapsed": 258,
          "status": "ok",
          "timestamp": 1651422665953,
          "user": {
            "displayName": "Андрей Игоревич Дзись",
            "userId": "09820094425928669298"
          },
          "user_tz": -180
        },
        "id": "jp84gQhrhMsG",
        "trusted": true
      },
      "outputs": [],
      "source": [
        "data[\"Age\"] = 2014-data[\"Year_Birth\"]\n",
        "\n",
        "data[\"Spent\"] = data[\"MntWines\"]+ data[\"MntFruits\"]+ data[\"MntMeatProducts\"]+ data[\"MntFishProducts\"]+ data[\"MntSweetProducts\"]+ data[\"MntGoldProds\"]\n",
        "\n",
        "#Здесь есть значения, которые надо перевести в значения Alone или Parthner для бинаризации признака\n",
        "data[\"Living_With\"]=data[\"Marital_Status\"].replace({\"Married\":\"Partner\", \"Together\":\"Partner\", \"Absurd\":\"Alone\", \"Widow\":\"Alone\", \"YOLO\":\"Alone\", \"Divorced\":\"Alone\", \"Single\":\"Alone\",})\n",
        "\n",
        "data[\"Children\"]=data[\"Kidhome\"]+data[\"Teenhome\"]\n",
        "\n",
        "data[\"Family_Size\"] = data[\"Living_With\"].replace({\"Alone\": 1, \"Partner\":2})+ data[\"Children\"]\n",
        "\n",
        "data[\"Is_Parent\"] = np.where(data.Children> 0, 1, 0)\n",
        "\n",
        "data[\"Education\"]=data[\"Education\"].replace({\"Basic\":\"Undergraduate\",\"2n Cycle\":\"Undergraduate\", \"Graduation\":\"Graduate\", \"Master\":\"Postgraduate\", \"PhD\":\"Postgraduate\"})\n",
        "\n",
        "data=data.rename(columns={\"MntWines\": \"Wines\",\"MntFruits\":\"Fruits\",\"MntMeatProducts\":\"Meat\",\"MntFishProducts\":\"Fish\",\"MntSweetProducts\":\"Sweets\",\"MntGoldProds\":\"Gold\"})\n",
        "\n",
        "#Удалим использованные признаки\n",
        "to_drop = [\"Marital_Status\", \"Dt_Customer\", \"Z_CostContact\", \"Z_Revenue\", \"Year_Birth\", \"ID\"]\n",
        "data = data.drop(to_drop, axis=1)"
      ]
    },
    {
      "cell_type": "code",
      "execution_count": null,
      "metadata": {
        "colab": {
          "base_uri": "https://localhost:8080/",
          "height": 394
        },
        "execution": {
          "iopub.execute_input": "2022-04-25T15:29:31.402294Z",
          "iopub.status.busy": "2022-04-25T15:29:31.401762Z",
          "iopub.status.idle": "2022-04-25T15:29:31.483366Z",
          "shell.execute_reply": "2022-04-25T15:29:31.482704Z",
          "shell.execute_reply.started": "2022-04-25T15:29:31.402260Z"
        },
        "executionInfo": {
          "elapsed": 256,
          "status": "ok",
          "timestamp": 1651422667274,
          "user": {
            "displayName": "Андрей Игоревич Дзись",
            "userId": "09820094425928669298"
          },
          "user_tz": -180
        },
        "id": "b85v94DUhMsH",
        "outputId": "19ac1521-f08b-47b0-a46e-5000d7a141e6",
        "trusted": true
      },
      "outputs": [],
      "source": [
        "data.describe()"
      ]
    },
    {
      "cell_type": "markdown",
      "metadata": {
        "id": "cJyKZ6bdhMsH"
      },
      "source": [
        "### Работа с выбросами"
      ]
    },
    {
      "cell_type": "markdown",
      "metadata": {
        "id": "oEioQ80WhMsI"
      },
      "source": [
        "Посмотрим на распределения признаков на основе информации, является ли покупатель родителем или нет."
      ]
    },
    {
      "cell_type": "code",
      "execution_count": null,
      "metadata": {
        "colab": {
          "base_uri": "https://localhost:8080/",
          "height": 920
        },
        "execution": {
          "iopub.execute_input": "2022-04-25T15:29:31.486007Z",
          "iopub.status.busy": "2022-04-25T15:29:31.485575Z",
          "iopub.status.idle": "2022-04-25T15:29:40.948830Z",
          "shell.execute_reply": "2022-04-25T15:29:40.948112Z",
          "shell.execute_reply.started": "2022-04-25T15:29:31.485974Z"
        },
        "executionInfo": {
          "elapsed": 15906,
          "status": "ok",
          "timestamp": 1651422737898,
          "user": {
            "displayName": "Андрей Игоревич Дзись",
            "userId": "09820094425928669298"
          },
          "user_tz": -180
        },
        "id": "hENJOjh1hMsI",
        "outputId": "9ba864e8-fd0b-4375-aef3-d143ae83729f",
        "trusted": true
      },
      "outputs": [],
      "source": [
        "to_plot = [\"Income\", \"Recency\", \"Customer_For\", \"Age\", \"Spent\", \"Is_Parent\"]\n",
        "plt.figure()\n",
        "sns.pairplot(data[to_plot], hue= \"Is_Parent\");\n",
        "plt.show();"
      ]
    },
    {
      "cell_type": "markdown",
      "metadata": {
        "id": "1Hg-FOishMsI"
      },
      "source": [
        "Удалим некоторые выбросы по возрасту `Age` и по заработку `Income`. Удалим покупателей старше 90 лет и зарабатывающий более 600000$."
      ]
    },
    {
      "cell_type": "code",
      "execution_count": null,
      "metadata": {
        "colab": {
          "base_uri": "https://localhost:8080/"
        },
        "execution": {
          "iopub.execute_input": "2022-04-25T15:29:40.950110Z",
          "iopub.status.busy": "2022-04-25T15:29:40.949794Z",
          "iopub.status.idle": "2022-04-25T15:29:40.958539Z",
          "shell.execute_reply": "2022-04-25T15:29:40.957466Z",
          "shell.execute_reply.started": "2022-04-25T15:29:40.950083Z"
        },
        "executionInfo": {
          "elapsed": 245,
          "status": "ok",
          "timestamp": 1651422768408,
          "user": {
            "displayName": "Андрей Игоревич Дзись",
            "userId": "09820094425928669298"
          },
          "user_tz": -180
        },
        "id": "XdyXbwIXhMsI",
        "outputId": "65c2b482-5480-4a46-d17f-fe173f28e90e",
        "trusted": true
      },
      "outputs": [],
      "source": [
        "data = data[(data[\"Age\"]<90)]\n",
        "data = data[(data[\"Income\"]<600000)]\n",
        "print(f\"Количество объектов после удаления выбросов: {data.shape[0]}\")"
      ]
    },
    {
      "cell_type": "markdown",
      "metadata": {
        "id": "xcwYw1IdhMsI"
      },
      "source": [
        "### Коррелялицоный анализ"
      ]
    },
    {
      "cell_type": "markdown",
      "metadata": {
        "id": "ln08mFRuhMsJ"
      },
      "source": [
        "Посмотрим на корреляцию между численными признаками"
      ]
    },
    {
      "cell_type": "code",
      "execution_count": null,
      "metadata": {
        "colab": {
          "base_uri": "https://localhost:8080/",
          "height": 1000
        },
        "execution": {
          "iopub.execute_input": "2022-04-25T15:29:40.960729Z",
          "iopub.status.busy": "2022-04-25T15:29:40.960378Z",
          "iopub.status.idle": "2022-04-25T15:29:45.672876Z",
          "shell.execute_reply": "2022-04-25T15:29:45.671882Z",
          "shell.execute_reply.started": "2022-04-25T15:29:40.960693Z"
        },
        "executionInfo": {
          "elapsed": 4674,
          "status": "ok",
          "timestamp": 1651422802111,
          "user": {
            "displayName": "Андрей Игоревич Дзись",
            "userId": "09820094425928669298"
          },
          "user_tz": -180
        },
        "id": "IJWITNP3hMsJ",
        "outputId": "da5d425a-e72c-4d7b-8a60-ff3b5738c30c",
        "trusted": true
      },
      "outputs": [],
      "source": [
        "plt.figure(figsize=(20,20))  \n",
        "sns.heatmap(data.corr(),fmt='.2f',annot=True, center=0);"
      ]
    },
    {
      "cell_type": "markdown",
      "metadata": {
        "id": "ViBu_YsthMsJ"
      },
      "source": [
        "### Кодирование признаков"
      ]
    },
    {
      "cell_type": "markdown",
      "metadata": {
        "id": "VFJEDxrehMsJ"
      },
      "source": [
        "Закодируем категориальные признаки. Так как у нас их мало (`Education` и`Living_With`), можем использовать смело `LabelEncoder()`"
      ]
    },
    {
      "cell_type": "code",
      "execution_count": 18,
      "metadata": {
        "execution": {
          "iopub.execute_input": "2022-04-25T15:29:45.674671Z",
          "iopub.status.busy": "2022-04-25T15:29:45.674363Z",
          "iopub.status.idle": "2022-04-25T15:29:45.685891Z",
          "shell.execute_reply": "2022-04-25T15:29:45.684904Z",
          "shell.execute_reply.started": "2022-04-25T15:29:45.674635Z"
        },
        "executionInfo": {
          "elapsed": 242,
          "status": "ok",
          "timestamp": 1651422858517,
          "user": {
            "displayName": "Андрей Игоревич Дзись",
            "userId": "09820094425928669298"
          },
          "user_tz": -180
        },
        "id": "w_Z8L6nChMsJ",
        "trusted": true
      },
      "outputs": [],
      "source": [
        "LE=LabelEncoder()\n",
        "data['Education'] = LE.fit_transform(data['Education'])\n",
        "data['Living_With'] = LE.fit_transform(data['Living_With'])"
      ]
    },
    {
      "cell_type": "code",
      "execution_count": 19,
      "metadata": {
        "execution": {
          "iopub.execute_input": "2022-04-25T15:29:45.687675Z",
          "iopub.status.busy": "2022-04-25T15:29:45.687361Z",
          "iopub.status.idle": "2022-04-25T15:29:45.704987Z",
          "shell.execute_reply": "2022-04-25T15:29:45.704221Z",
          "shell.execute_reply.started": "2022-04-25T15:29:45.687638Z"
        },
        "executionInfo": {
          "elapsed": 242,
          "status": "ok",
          "timestamp": 1651422887865,
          "user": {
            "displayName": "Андрей Игоревич Дзись",
            "userId": "09820094425928669298"
          },
          "user_tz": -180
        },
        "id": "qw6K9sMbhMsK",
        "trusted": true
      },
      "outputs": [],
      "source": [
        "#сделаем копию данных\n",
        "ds = data.copy()\n",
        "# удалим бинарные признаки\n",
        "cols_del = ['AcceptedCmp3', 'AcceptedCmp4', 'AcceptedCmp5', 'AcceptedCmp1','AcceptedCmp2', 'Complain', 'Response']\n",
        "ds = ds.drop(cols_del, axis=1)\n",
        "#Scaling\n",
        "scaler = StandardScaler()\n",
        "scaler.fit(ds)\n",
        "scaled_ds = pd.DataFrame(scaler.transform(ds),columns= ds.columns )"
      ]
    },
    {
      "cell_type": "code",
      "execution_count": null,
      "metadata": {
        "colab": {
          "base_uri": "https://localhost:8080/",
          "height": 299
        },
        "execution": {
          "iopub.execute_input": "2022-04-25T15:29:45.707208Z",
          "iopub.status.busy": "2022-04-25T15:29:45.706652Z",
          "iopub.status.idle": "2022-04-25T15:29:45.737690Z",
          "shell.execute_reply": "2022-04-25T15:29:45.736712Z",
          "shell.execute_reply.started": "2022-04-25T15:29:45.707163Z"
        },
        "executionInfo": {
          "elapsed": 251,
          "status": "ok",
          "timestamp": 1651422890909,
          "user": {
            "displayName": "Андрей Игоревич Дзись",
            "userId": "09820094425928669298"
          },
          "user_tz": -180
        },
        "id": "X6O0KGDThMsK",
        "outputId": "c4ce674c-2687-4c16-9c70-8fd253fc7f49",
        "trusted": true
      },
      "outputs": [],
      "source": [
        "#Посмотрим на датасет, который будем использовать для дальнейшей кластеризации\n",
        "scaled_ds.head()"
      ]
    },
    {
      "cell_type": "markdown",
      "metadata": {
        "id": "KEvhBc_mhMsK"
      },
      "source": [
        "### Снижение размерности\n",
        "\n"
      ]
    },
    {
      "cell_type": "markdown",
      "metadata": {
        "id": "rs3QNdPnR_1J"
      },
      "source": [
        "Будем использовать PCA, снизим размерность до 3, что бы можно было визуализировать результаты кластеризации. Подобно `StandardScaler()` можем вызвать методы `fit()`, `transform()` и их суперпозицию `fit_tranform()`"
      ]
    },
    {
      "cell_type": "code",
      "execution_count": null,
      "metadata": {
        "colab": {
          "base_uri": "https://localhost:8080/",
          "height": 143
        },
        "execution": {
          "iopub.execute_input": "2022-04-25T15:29:45.739549Z",
          "iopub.status.busy": "2022-04-25T15:29:45.739018Z",
          "iopub.status.idle": "2022-04-25T15:29:45.794558Z",
          "shell.execute_reply": "2022-04-25T15:29:45.793306Z",
          "shell.execute_reply.started": "2022-04-25T15:29:45.739516Z"
        },
        "executionInfo": {
          "elapsed": 6,
          "status": "ok",
          "timestamp": 1651422927298,
          "user": {
            "displayName": "Андрей Игоревич Дзись",
            "userId": "09820094425928669298"
          },
          "user_tz": -180
        },
        "id": "TZ_86YmHhMsK",
        "outputId": "e6adf5f5-8a26-4fbb-d268-d81e3adeecb0",
        "trusted": true
      },
      "outputs": [],
      "source": [
        "pca = PCA(n_components=3)\n",
        "PCA_ds = pd.DataFrame(pca.fit_transform(scaled_ds), columns=([\"col1\",\"col2\", \"col3\"]))\n",
        "PCA_ds.describe().T"
      ]
    },
    {
      "cell_type": "markdown",
      "metadata": {
        "id": "DaBl7DOohMsK"
      },
      "source": [
        "Разобьем колонки по осям для визуализации:"
      ]
    },
    {
      "cell_type": "code",
      "execution_count": 22,
      "metadata": {
        "execution": {
          "iopub.execute_input": "2022-04-25T15:29:45.797372Z",
          "iopub.status.busy": "2022-04-25T15:29:45.796675Z",
          "iopub.status.idle": "2022-04-25T15:29:45.803879Z",
          "shell.execute_reply": "2022-04-25T15:29:45.802887Z",
          "shell.execute_reply.started": "2022-04-25T15:29:45.797318Z"
        },
        "executionInfo": {
          "elapsed": 239,
          "status": "ok",
          "timestamp": 1651422932943,
          "user": {
            "displayName": "Андрей Игоревич Дзись",
            "userId": "09820094425928669298"
          },
          "user_tz": -180
        },
        "id": "CGxRHWpWhMsK",
        "trusted": true
      },
      "outputs": [],
      "source": [
        "x,y,z = PCA_ds[\"col1\"],PCA_ds[\"col2\"],PCA_ds[\"col3\"]"
      ]
    },
    {
      "cell_type": "markdown",
      "metadata": {
        "id": "YZItMaQDhMsL"
      },
      "source": [
        " Теперь мы можем визуализировать полученные ранее данные, что бы понять, сколько кластеров мы имеем в данных"
      ]
    },
    {
      "cell_type": "code",
      "execution_count": null,
      "metadata": {
        "colab": {
          "base_uri": "https://localhost:8080/",
          "height": 466
        },
        "execution": {
          "iopub.execute_input": "2022-04-25T15:29:45.806733Z",
          "iopub.status.busy": "2022-04-25T15:29:45.805993Z",
          "iopub.status.idle": "2022-04-25T15:29:46.136888Z",
          "shell.execute_reply": "2022-04-25T15:29:46.136173Z",
          "shell.execute_reply.started": "2022-04-25T15:29:45.806678Z"
        },
        "executionInfo": {
          "elapsed": 840,
          "status": "ok",
          "timestamp": 1651422950461,
          "user": {
            "displayName": "Андрей Игоревич Дзись",
            "userId": "09820094425928669298"
          },
          "user_tz": -180
        },
        "id": "tKSlK0cYhMsL",
        "outputId": "44c650e1-3076-444f-ea58-9395e3ea52a4",
        "trusted": true
      },
      "outputs": [],
      "source": [
        "fig = plt.figure(figsize=(10,8))\n",
        "ax = fig.add_subplot(111, projection=\"3d\")\n",
        "ax.scatter(x,y,z, c=\"blue\", marker=\"o\" )\n",
        "ax.set_title(\"Визуализация данных после снижения размерности\")\n",
        "ax.set_xlabel('1 проекция PCA')\n",
        "ax.set_ylabel('2 проекция PCA')\n",
        "ax.set_zlabel('3 проекция  PCA')\n",
        "plt.show()"
      ]
    },
    {
      "cell_type": "code",
      "execution_count": 24,
      "metadata": {
        "execution": {
          "iopub.execute_input": "2022-04-25T15:29:46.138417Z",
          "iopub.status.busy": "2022-04-25T15:29:46.138138Z",
          "iopub.status.idle": "2022-04-25T15:29:46.142820Z",
          "shell.execute_reply": "2022-04-25T15:29:46.142206Z",
          "shell.execute_reply.started": "2022-04-25T15:29:46.138368Z"
        },
        "executionInfo": {
          "elapsed": 258,
          "status": "ok",
          "timestamp": 1651422980250,
          "user": {
            "displayName": "Андрей Игоревич Дзись",
            "userId": "09820094425928669298"
          },
          "user_tz": -180
        },
        "id": "iKWVInTNhMsL",
        "trusted": true
      },
      "outputs": [],
      "source": [
        "pal = [\"y\",\"g\", \"b\",\"r\"]\n",
        "\n",
        "cmap = colors.ListedColormap([\"y\",\"g\", \"b\",\"r\"])"
      ]
    },
    {
      "cell_type": "markdown",
      "metadata": {
        "id": "i0dUkzkxhMsL"
      },
      "source": [
        "### Построение модели кластеризации"
      ]
    },
    {
      "cell_type": "markdown",
      "metadata": {
        "id": "UZ0KUEdihMsL"
      },
      "source": [
        "Как мы знаем, методу `k-means` на вход необходимо подать количество кластеров. Но дело в том, что нередко, например как в данной задаче, истинное количество кластеров попросту неизвестно. Для этого нам поможет `Elbow Method`. `Distortion score` есть квадрат расстояния от точки до ее центра кластера. Оптимальным на графике ниже количество кластеров считается, если после него `distortion score` падает практически линейно."
      ]
    },
    {
      "cell_type": "code",
      "execution_count": null,
      "metadata": {
        "colab": {
          "base_uri": "https://localhost:8080/",
          "height": 311
        },
        "execution": {
          "iopub.execute_input": "2022-04-25T15:29:46.144529Z",
          "iopub.status.busy": "2022-04-25T15:29:46.143840Z",
          "iopub.status.idle": "2022-04-25T15:29:47.644474Z",
          "shell.execute_reply": "2022-04-25T15:29:47.643352Z",
          "shell.execute_reply.started": "2022-04-25T15:29:46.144466Z"
        },
        "executionInfo": {
          "elapsed": 1762,
          "status": "ok",
          "timestamp": 1651423056610,
          "user": {
            "displayName": "Андрей Игоревич Дзись",
            "userId": "09820094425928669298"
          },
          "user_tz": -180
        },
        "id": "wzCd73O6hMsM",
        "outputId": "f159c466-4c47-4198-9754-c24747b8007f",
        "trusted": true
      },
      "outputs": [],
      "source": [
        "Elbow_M = KElbowVisualizer(KMeans(), k=10)\n",
        "Elbow_M.fit(PCA_ds)\n",
        "Elbow_M.show();"
      ]
    },
    {
      "cell_type": "markdown",
      "metadata": {
        "execution": {
          "iopub.execute_input": "2021-09-24T12:48:31.555898Z",
          "iopub.status.busy": "2021-09-24T12:48:31.555573Z",
          "iopub.status.idle": "2021-09-24T12:48:31.559969Z",
          "shell.execute_reply": "2021-09-24T12:48:31.559288Z",
          "shell.execute_reply.started": "2021-09-24T12:48:31.55586Z"
        },
        "id": "y13tG2tHhMsM"
      },
      "source": [
        "Как видно из графика, 4 оптимальное количество кластеров для нашей задачи. Обучим модель на 4-х кластерах."
      ]
    },
    {
      "cell_type": "code",
      "execution_count": 26,
      "metadata": {
        "execution": {
          "iopub.execute_input": "2022-04-25T15:29:47.651971Z",
          "iopub.status.busy": "2022-04-25T15:29:47.650933Z",
          "iopub.status.idle": "2022-04-25T15:29:47.741029Z",
          "shell.execute_reply": "2022-04-25T15:29:47.740216Z",
          "shell.execute_reply.started": "2022-04-25T15:29:47.651911Z"
        },
        "executionInfo": {
          "elapsed": 244,
          "status": "ok",
          "timestamp": 1651423119596,
          "user": {
            "displayName": "Андрей Игоревич Дзись",
            "userId": "09820094425928669298"
          },
          "user_tz": -180
        },
        "id": "uGbx5AlshMsM",
        "trusted": true
      },
      "outputs": [],
      "source": [
        "model = KMeans(n_clusters=4)\n",
        "y_pred = model.fit_predict(PCA_ds)\n",
        "PCA_ds[\"Clusters\"] = y_pred\n",
        "data[\"Clusters\"]= y_pred"
      ]
    },
    {
      "cell_type": "markdown",
      "metadata": {
        "id": "NQn8KnErhMsM"
      },
      "source": [
        "Посмотрим на визуализацию кластеров:"
      ]
    },
    {
      "cell_type": "code",
      "execution_count": null,
      "metadata": {
        "colab": {
          "base_uri": "https://localhost:8080/",
          "height": 466
        },
        "execution": {
          "iopub.execute_input": "2022-04-25T15:29:47.745588Z",
          "iopub.status.busy": "2022-04-25T15:29:47.745297Z",
          "iopub.status.idle": "2022-04-25T15:29:48.139428Z",
          "shell.execute_reply": "2022-04-25T15:29:48.138725Z",
          "shell.execute_reply.started": "2022-04-25T15:29:47.745558Z"
        },
        "executionInfo": {
          "elapsed": 1088,
          "status": "ok",
          "timestamp": 1651423143400,
          "user": {
            "displayName": "Андрей Игоревич Дзись",
            "userId": "09820094425928669298"
          },
          "user_tz": -180
        },
        "id": "GIps3ezzhMsM",
        "outputId": "08be1d36-ac23-45e6-9aaf-02ebeccda1de",
        "trusted": true
      },
      "outputs": [],
      "source": [
        "fig = plt.figure(figsize=(10,8))\n",
        "ax = plt.subplot(111, projection='3d')\n",
        "ax.scatter(x, y, z, s=40, c=PCA_ds[\"Clusters\"],cmap=cmap, marker='o')\n",
        "ax.set_title(\"Визуализация кластеров\")\n",
        "ax.set_xlabel('1 проекция PCA')\n",
        "ax.set_ylabel('2 проекция PCA')\n",
        "ax.set_zlabel('3 проекция  PCA')\n",
        "plt.show()"
      ]
    },
    {
      "cell_type": "markdown",
      "metadata": {
        "id": "_-JCekyhhMsM"
      },
      "source": [
        "### Анализ результатов кластеризации\n"
      ]
    },
    {
      "cell_type": "markdown",
      "metadata": {
        "id": "HYZ4a_BMSI28"
      },
      "source": [
        "Самая важная часть после кластеризации - интерпретировать схожесть объектов в каждом из кластеров, оценить распределения."
      ]
    },
    {
      "cell_type": "code",
      "execution_count": null,
      "metadata": {
        "colab": {
          "base_uri": "https://localhost:8080/",
          "height": 294
        },
        "execution": {
          "iopub.execute_input": "2022-04-25T15:29:48.145375Z",
          "iopub.status.busy": "2022-04-25T15:29:48.143562Z",
          "iopub.status.idle": "2022-04-25T15:29:48.371653Z",
          "shell.execute_reply": "2022-04-25T15:29:48.370969Z",
          "shell.execute_reply.started": "2022-04-25T15:29:48.145332Z"
        },
        "executionInfo": {
          "elapsed": 247,
          "status": "ok",
          "timestamp": 1651423164709,
          "user": {
            "displayName": "Андрей Игоревич Дзись",
            "userId": "09820094425928669298"
          },
          "user_tz": -180
        },
        "id": "ma0UUkm_hMsN",
        "outputId": "ae7f1f76-e9a9-4d16-ae67-d463b4792b28",
        "trusted": true
      },
      "outputs": [],
      "source": [
        "pl = sns.countplot(x=data[\"Clusters\"], palette=pal)\n",
        "pl.set_title(\"Distribution Of The Clusters\")\n",
        "plt.show()"
      ]
    },
    {
      "cell_type": "markdown",
      "metadata": {
        "id": "0JxLNtdbhMsN"
      },
      "source": [
        "Разбиения кластеров приблизительно равны, это хорошо, посмотрим на траты и заработок:"
      ]
    },
    {
      "cell_type": "code",
      "execution_count": null,
      "metadata": {
        "colab": {
          "base_uri": "https://localhost:8080/",
          "height": 294
        },
        "execution": {
          "iopub.execute_input": "2022-04-25T15:29:48.377466Z",
          "iopub.status.busy": "2022-04-25T15:29:48.375659Z",
          "iopub.status.idle": "2022-04-25T15:29:48.868525Z",
          "shell.execute_reply": "2022-04-25T15:29:48.867507Z",
          "shell.execute_reply.started": "2022-04-25T15:29:48.377423Z"
        },
        "executionInfo": {
          "elapsed": 961,
          "status": "ok",
          "timestamp": 1651423216493,
          "user": {
            "displayName": "Андрей Игоревич Дзись",
            "userId": "09820094425928669298"
          },
          "user_tz": -180
        },
        "id": "rFzaeigvhMsN",
        "outputId": "d1d021f6-e017-4e18-cc07-1a1874a1efff",
        "trusted": true
      },
      "outputs": [],
      "source": [
        "pl = sns.scatterplot(data = data,x=data[\"Spent\"], y=data[\"Income\"],hue=data[\"Clusters\"],palette=pal)\n",
        "pl.set_title(\"Cluster's Profile Based On Income And Spending\")\n",
        "plt.legend()\n",
        "plt.show()"
      ]
    },
    {
      "cell_type": "markdown",
      "metadata": {
        "id": "nwhbkIxYhMsN"
      },
      "source": [
        "**Доходы и расходы по группам:**\n",
        "\n",
        "* Группа 0: группа с низкими расходами и средним доходом;\n",
        "\n",
        "* Группа 1: группа с высокими расходами по расходам и наибольшим доходом;\n",
        "\n",
        "* Группа 2: группа с низкими расходами и низким доходом;\n",
        "\n",
        "* Группа 3: группа со средними расходами и средним доходом.\n",
        "\n",
        "Для подтверждения посмотрим на ящики с усами от трат:\n"
      ]
    },
    {
      "cell_type": "code",
      "execution_count": null,
      "metadata": {
        "colab": {
          "base_uri": "https://localhost:8080/",
          "height": 418
        },
        "execution": {
          "iopub.execute_input": "2022-04-25T15:29:48.872495Z",
          "iopub.status.busy": "2022-04-25T15:29:48.872151Z",
          "iopub.status.idle": "2022-04-25T15:29:55.388671Z",
          "shell.execute_reply": "2022-04-25T15:29:55.387796Z",
          "shell.execute_reply.started": "2022-04-25T15:29:48.872457Z"
        },
        "executionInfo": {
          "elapsed": 9247,
          "status": "ok",
          "timestamp": 1651423277267,
          "user": {
            "displayName": "Андрей Игоревич Дзись",
            "userId": "09820094425928669298"
          },
          "user_tz": -180
        },
        "id": "LdKL4TcXhMsN",
        "outputId": "44dd3ca8-407c-45e7-f718-6d48f5fdf02e",
        "trusted": true
      },
      "outputs": [],
      "source": [
        "plt.figure()\n",
        "pl=sns.swarmplot(x=data[\"Clusters\"], y=data[\"Spent\"], color= \"#CBEDDD\", alpha=0.5 )\n",
        "pl=sns.boxenplot(x=data[\"Clusters\"], y=data[\"Spent\"], palette=pal)\n",
        "plt.show()"
      ]
    },
    {
      "cell_type": "markdown",
      "metadata": {
        "id": "KvwvWwC3hMsO"
      },
      "source": [
        "\n",
        "Таким образом, мы можем выделить, что больше всех тратит группа в которой больше всего заработок.\n"
      ]
    },
    {
      "cell_type": "markdown",
      "metadata": {
        "id": "-a8dwUYrhMsO"
      },
      "source": [
        "### Самостоятельная работа\n",
        "В качестве самостоятельного задания слушателям предлагается уточнить портрет из каждого кластера, посмотрев на распределения по:\n",
        "1. количеству детей\n",
        "2. размеру семьи\n",
        "3. возрасту "
      ]
    },
    {
      "cell_type": "code",
      "execution_count": null,
      "metadata": {},
      "outputs": [],
      "source": [
        "pl = sns.barplot(data = data,x=data[\"Children\"], y=data[\"Spent\"],hue=data[\"Clusters\"],palette=pal)\n",
        "pl.set_title(\"Cluster's Profile Based On Income And Spending\")\n",
        "plt.legend()\n",
        "plt.show()"
      ]
    },
    {
      "cell_type": "code",
      "execution_count": null,
      "metadata": {},
      "outputs": [],
      "source": [
        "plt.figure()\n",
        "pl=sns.swarmplot(x=data[\"Children\"], y=data[\"Spent\"], color= \"#CBEDDD\", alpha=0.5 )\n",
        "pl=sns.boxenplot(x=data[\"Children\"], y=data[\"Spent\"], palette=pal)\n",
        "plt.show()"
      ]
    },
    {
      "cell_type": "code",
      "execution_count": null,
      "metadata": {},
      "outputs": [],
      "source": [
        "pl = sns.barplot(data = data,x=data[\"Family_Size\"], y=data[\"Spent\"],hue=data[\"Clusters\"],palette=pal)\n",
        "pl.set_title(\"Cluster's Profile Based On Income And Spending\")\n",
        "plt.legend()\n",
        "plt.show()"
      ]
    },
    {
      "cell_type": "code",
      "execution_count": null,
      "metadata": {},
      "outputs": [],
      "source": [
        "plt.figure()\n",
        "pl=sns.swarmplot(x=data[\"Family_Size\"], y=data[\"Spent\"], color= \"#CBEDDD\", alpha=0.5 )\n",
        "pl=sns.boxenplot(x=data[\"Family_Size\"], y=data[\"Spent\"], palette=pal)\n",
        "plt.show()"
      ]
    },
    {
      "cell_type": "code",
      "execution_count": null,
      "metadata": {},
      "outputs": [],
      "source": [
        "pl = sns.scatterplot(data = data,x=data[\"Spent\"], y=data[\"Age\"],hue=data[\"Clusters\"],palette=pal)\n",
        "pl.set_title(\"Cluster's Profile Based On Income And Spending\")\n",
        "plt.legend()\n",
        "plt.show()"
      ]
    },
    {
      "cell_type": "code",
      "execution_count": null,
      "metadata": {},
      "outputs": [],
      "source": [
        "plt.figure()\n",
        "pl=sns.swarmplot(x=data[\"Clusters\"], y=data[\"Age\"], color= \"#CBEDDD\", alpha=0.5 )\n",
        "pl=sns.boxenplot(x=data[\"Clusters\"], y=data[\"Age\"], palette=pal)\n",
        "plt.show()"
      ]
    }
  ],
  "metadata": {
    "colab": {
      "collapsed_sections": [
        "d9UaRv8ZhMsA"
      ],
      "name": "ML-8. Metrics learning.ipynb",
      "provenance": []
    },
    "kernelspec": {
      "display_name": "Python 3.10.8 ('base')",
      "language": "python",
      "name": "python3"
    },
    "language_info": {
      "codemirror_mode": {
        "name": "ipython",
        "version": 3
      },
      "file_extension": ".py",
      "mimetype": "text/x-python",
      "name": "python",
      "nbconvert_exporter": "python",
      "pygments_lexer": "ipython3",
      "version": "3.12.3"
    },
    "nteract": {
      "version": "0.28.0"
    },
    "vscode": {
      "interpreter": {
        "hash": "86c56a74836ad344b00594bf6f38fa6a676a207ceefe20d101fbc465800ccb8d"
      }
    }
  },
  "nbformat": 4,
  "nbformat_minor": 0
}
